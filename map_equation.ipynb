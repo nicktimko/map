{
 "cells": [
  {
   "cell_type": "markdown",
   "metadata": {},
   "source": [
    "# The map equation\n",
    "http://www.mapequation.org/assets/publications/EurPhysJ2010Rosvall.pdf\n"
   ]
  },
  {
   "cell_type": "code",
   "execution_count": 1,
   "metadata": {
    "collapsed": true
   },
   "outputs": [],
   "source": [
    "%matplotlib inline"
   ]
  },
  {
   "cell_type": "code",
   "execution_count": 2,
   "metadata": {
    "collapsed": false
   },
   "outputs": [],
   "source": [
    "import math\n",
    "import random\n",
    "import time\n",
    "\n",
    "import networkx as nx\n",
    "import numpy as np\n",
    "import matplotlib.pyplot as plt\n",
    "import d3shims"
   ]
  },
  {
   "cell_type": "code",
   "execution_count": 3,
   "metadata": {
    "collapsed": true
   },
   "outputs": [],
   "source": [
    "G = nx.Graph()\n",
    "G.add_edges_from([\n",
    "    (1, 2), (1, 3), (2, 3), (4, 2), (5, 2), (5, 6), (2, 6), \n",
    "    (3, 6), (3, 7), (7, 8), (7, 9), (7, 10), (9, 10), (9, 11), \n",
    "    (8, 9), (8, 12), (9, 12), (11, 12), (13, 12), (13, 11), \n",
    "    (13, 10), (13, 14), (14, 15), (14, 16), (15, 16), (15, 17), \n",
    "    (16, 17), (16, 18), (18, 19), (19, 20), (20, 18), (18, 21), \n",
    "    (21, 22), (22, 20), (19, 22), (23, 22), (24, 22), (25, 22), \n",
    "    (25, 24), (25, 21), (25, 10),\n",
    "])\n",
    "\n",
    "optimal_modules = [\n",
    "    [1, 2, 3, 4, 5, 6],\n",
    "    [7, 8, 9, 10, 11, 12, 13],\n",
    "    [14, 15, 16, 17],\n",
    "    [18, 19, 20, 21, 22, 23, 24, 25],\n",
    "]"
   ]
  },
  {
   "cell_type": "code",
   "execution_count": 4,
   "metadata": {
    "collapsed": false
   },
   "outputs": [
    {
     "data": {
      "text/html": [
       "<style>\n",
       "    .node {\n",
       "      stroke: #fff;\n",
       "      stroke-width: 1.5px;\n",
       "    }\n",
       "\n",
       "    .link {\n",
       "      stroke: #999;\n",
       "      stroke-opacity: .6;\n",
       "    }\n",
       "\n",
       "    .node text {\n",
       "      pointer-events: none;\n",
       "      font: 10px sans-serif;\n",
       "      color: #000;\n",
       "      stroke-width: 0;\n",
       "    }\n",
       "</style>\n",
       "<script>\n",
       "+function() {\n",
       "    var options = {\n",
       "        'divid': '#xd49b2735f89d4a9092bccaaa743ac4de',\n",
       "        'data': {\"nodes\": [{\"group\": 0, \"name\": \"1\"}, {\"group\": 0, \"name\": \"2\"}, {\"group\": 0, \"name\": \"3\"}, {\"group\": 0, \"name\": \"4\"}, {\"group\": 0, \"name\": \"5\"}, {\"group\": 0, \"name\": \"6\"}, {\"group\": 0, \"name\": \"7\"}, {\"group\": 0, \"name\": \"8\"}, {\"group\": 0, \"name\": \"9\"}, {\"group\": 0, \"name\": \"10\"}, {\"group\": 0, \"name\": \"11\"}, {\"group\": 0, \"name\": \"12\"}, {\"group\": 0, \"name\": \"13\"}, {\"group\": 0, \"name\": \"14\"}, {\"group\": 0, \"name\": \"15\"}, {\"group\": 0, \"name\": \"16\"}, {\"group\": 0, \"name\": \"17\"}, {\"group\": 0, \"name\": \"18\"}, {\"group\": 0, \"name\": \"19\"}, {\"group\": 0, \"name\": \"20\"}, {\"group\": 0, \"name\": \"21\"}, {\"group\": 0, \"name\": \"22\"}, {\"group\": 0, \"name\": \"23\"}, {\"group\": 0, \"name\": \"24\"}, {\"group\": 0, \"name\": \"25\"}], \"links\": [{\"target\": 1, \"value\": 1, \"source\": 0}, {\"target\": 2, \"value\": 1, \"source\": 0}, {\"target\": 2, \"value\": 1, \"source\": 1}, {\"target\": 3, \"value\": 1, \"source\": 1}, {\"target\": 4, \"value\": 1, \"source\": 1}, {\"target\": 5, \"value\": 1, \"source\": 1}, {\"target\": 5, \"value\": 1, \"source\": 2}, {\"target\": 6, \"value\": 1, \"source\": 2}, {\"target\": 5, \"value\": 1, \"source\": 4}, {\"target\": 7, \"value\": 1, \"source\": 6}, {\"target\": 8, \"value\": 1, \"source\": 6}, {\"target\": 9, \"value\": 1, \"source\": 6}, {\"target\": 8, \"value\": 1, \"source\": 7}, {\"target\": 11, \"value\": 1, \"source\": 7}, {\"target\": 9, \"value\": 1, \"source\": 8}, {\"target\": 10, \"value\": 1, \"source\": 8}, {\"target\": 11, \"value\": 1, \"source\": 8}, {\"target\": 24, \"value\": 1, \"source\": 9}, {\"target\": 12, \"value\": 1, \"source\": 9}, {\"target\": 11, \"value\": 1, \"source\": 10}, {\"target\": 12, \"value\": 1, \"source\": 10}, {\"target\": 12, \"value\": 1, \"source\": 11}, {\"target\": 13, \"value\": 1, \"source\": 12}, {\"target\": 15, \"value\": 1, \"source\": 13}, {\"target\": 14, \"value\": 1, \"source\": 13}, {\"target\": 15, \"value\": 1, \"source\": 14}, {\"target\": 16, \"value\": 1, \"source\": 14}, {\"target\": 16, \"value\": 1, \"source\": 15}, {\"target\": 17, \"value\": 1, \"source\": 15}, {\"target\": 18, \"value\": 1, \"source\": 17}, {\"target\": 19, \"value\": 1, \"source\": 17}, {\"target\": 20, \"value\": 1, \"source\": 17}, {\"target\": 19, \"value\": 1, \"source\": 18}, {\"target\": 21, \"value\": 1, \"source\": 18}, {\"target\": 21, \"value\": 1, \"source\": 19}, {\"target\": 24, \"value\": 1, \"source\": 20}, {\"target\": 21, \"value\": 1, \"source\": 20}, {\"target\": 22, \"value\": 1, \"source\": 21}, {\"target\": 23, \"value\": 1, \"source\": 21}, {\"target\": 24, \"value\": 1, \"source\": 21}, {\"target\": 24, \"value\": 1, \"source\": 23}]},\n",
       "        'width': 300,\n",
       "        'height': 300,\n",
       "        'linkdistance': 30\n",
       "    }\n",
       "\n",
       "    if (window.d3 === undefined) {\n",
       "        console.log('Loading D3 from CDN');\n",
       "        $.getScript('https://cdnjs.cloudflare.com/ajax/libs/d3/3.5.7/d3.js')\n",
       "            .done(function() {\n",
       "                plot_force(options);\n",
       "            });\n",
       "    } else {\n",
       "        plot_force(options);\n",
       "    }\n",
       "\n",
       "    function plot_force(o) {\n",
       "        var color = d3.scale.category20();\n",
       "\n",
       "        var svg = d3.select(o.divid).append(\"svg\")\n",
       "            .attr(\"width\", o.width)\n",
       "            .attr(\"height\", o.height);\n",
       "\n",
       "        var force = d3.layout.force()\n",
       "            .charge(-120)\n",
       "            .linkDistance(o.linkdistance)\n",
       "            .size([o.width, o.height])\n",
       "            .nodes(o.data.nodes)\n",
       "            .links(o.data.links)\n",
       "            .start();\n",
       "\n",
       "        var link = svg.selectAll(\".link\")\n",
       "                .data(o.data.links)\n",
       "            .enter().append(\"line\")\n",
       "                .attr(\"class\", \"link\")\n",
       "                .style(\"stroke-width\", function(d) { return Math.sqrt(d.value); });\n",
       "\n",
       "        var node = svg.selectAll(\".node\")\n",
       "                .data(o.data.nodes)\n",
       "            .enter().append(\"g\")\n",
       "                .attr(\"class\", \"node\")\n",
       "                .call(force.drag)\n",
       "\n",
       "        node.append(\"circle\")\n",
       "            .attr(\"r\", 5)\n",
       "            .style(\"fill\", function(d) { return color(d.group); });\n",
       "\n",
       "        /*node.append(\"title\")\n",
       "            .text(function(d) { return d.name; });*/\n",
       "\n",
       "        \n",
       "\n",
       "        force.on(\"tick\", function() {\n",
       "            link.attr(\"x1\", function(d) { return d.source.x; })\n",
       "                .attr(\"y1\", function(d) { return d.source.y; })\n",
       "                .attr(\"x2\", function(d) { return d.target.x; })\n",
       "                .attr(\"y2\", function(d) { return d.target.y; });\n",
       "\n",
       "            node.attr(\"transform\", function(d) { return \"translate(\" + d.x + \",\" + d.y + \")\"; });\n",
       "        });\n",
       "    }\n",
       "}();\n",
       "</script>\n",
       "<div id=\"xd49b2735f89d4a9092bccaaa743ac4de\">\n",
       "</div>"
      ],
      "text/plain": [
       "<IPython.core.display.HTML object>"
      ]
     },
     "execution_count": 4,
     "metadata": {},
     "output_type": "execute_result"
    }
   ],
   "source": [
    "size = (300, 300)\n",
    "d3shims.nx_force(G, size=size)"
   ]
  },
  {
   "cell_type": "markdown",
   "metadata": {},
   "source": [
    "For a module partition $M$ of $n$ nodes $α = 1, 2,...,n$ into $m$ modules $i = 1, 2,...,m$, we define this lower bound on code length to be $L(M)$. To calculate $L$ for an arbitrary partition, we first invoke [Shannon's source coding theorem](https://en.wikipedia.org/wiki/Shannon%27s_source_coding_theorem), which implies that when you use $n$ codewords to describe the $n$ states of a random variable $X$ that occur with frequencies $p_i$, the average length of a codeword can be no less than the entropy of the random variable $X$ itself: $H(X) = - \\sum p_i log_2(p_i)$ (we measure code lengths in bits and take the logarithm in base 2)."
   ]
  },
  {
   "cell_type": "code",
   "execution_count": 5,
   "metadata": {
    "collapsed": true
   },
   "outputs": [],
   "source": [
    "freqs = [100, 10]\n",
    "n = len(freqs)\n",
    "pi = [f / sum(freqs) for f in freqs]"
   ]
  },
  {
   "cell_type": "code",
   "execution_count": 6,
   "metadata": {
    "collapsed": false
   },
   "outputs": [
    {
     "name": "stdout",
     "output_type": "stream",
     "text": [
      "Theoretical minimum to encode each state: 0.439 bits\n"
     ]
    }
   ],
   "source": [
    "H = -sum(p * math.log2(p) for p in pi)\n",
    "print('Theoretical minimum to encode each state: {:0.3f} bits'.format(H))"
   ]
  },
  {
   "cell_type": "markdown",
   "metadata": {},
   "source": [
    "---\n",
    "\n",
    "### Sidebar: Random Walker probability of visiting any given node in an undirected graph\n",
    "\n",
    "Equal to the number of neighbors the node has, divided by twice (one per link end) the total edge weight of the graph: \"relative weight\", $w_\\alpha$."
   ]
  },
  {
   "cell_type": "code",
   "execution_count": 7,
   "metadata": {
    "collapsed": false
   },
   "outputs": [],
   "source": [
    "nodes = G.nodes()\n",
    "edges = G.edges()\n",
    "\n",
    "neighbors = [len(G.neighbors(n)) for n in nodes]\n",
    "counts = {k: 0 for k in nodes}\n",
    "loc = random.choice(list(counts.keys()))\n",
    "\n",
    "iters = int(5e5)\n",
    "for step in range(iters):\n",
    "    loc = random.choice(G.neighbors(loc))\n",
    "    counts[loc] += 1"
   ]
  },
  {
   "cell_type": "code",
   "execution_count": 8,
   "metadata": {
    "collapsed": false
   },
   "outputs": [
    {
     "data": {
      "image/png": "[encoded data removed]",
      "text/plain": [
       "<matplotlib.figure.Figure at 0x10bcb06d8>"
      ]
     },
     "metadata": {},
     "output_type": "display_data"
    }
   ],
   "source": [
    "f, ax = plt.subplots()\n",
    "ax.plot([n/len(edges)/2 for n in neighbors], [counts[n]/iters for n in nodes], 'ro')\n",
    "ax.set_xlim(left=0)\n",
    "ax.set_ylim(bottom=0)\n",
    "ax.set_xlabel('Relative weight')\n",
    "ax.set_ylabel('Frequency of random walk hitting node')\n",
    "plt.show()"
   ]
  },
  {
   "cell_type": "markdown",
   "metadata": {},
   "source": [
    "---\n",
    "\n",
    "## The equation\n",
    "  \n",
    "$$L(\\mathsf{M}) = q_\\curvearrowright H(\\mathcal{Q}) + \\sum_{i = 1}^{m}p^i_\\circlearrowright H(\\mathcal{P}^i)$$\n",
    "\n",
    "* $H(\\mathcal{Q})$ - frequency weighted average length of codewords in the index codebook\n",
    "* $H(\\mathcal{P}^i)$ - frequency weighted average length of codewords in the module cookbook $i$\n",
    "* $q_{i\\curvearrowright}$ - probability to exit module $i$\n",
    "  * $q_{\\curvearrowright} = \\sum_i q_{i\\curvearrowright}$  - probability to exit any module and use the module cookbook\n",
    "* $p_\\alpha$ - probability to visit node $\\alpha$\n",
    "  * $p^i_\\circlearrowright = \\sum_{\\alpha \\in i} p_\\alpha + q_{i \\curvearrowright}$ - probability to use the module cookbook $i$: how often the random walk is in the module plus the frequency that the module is exited\n",
    "\n",
    "For convienence, let $f(x) = x \\log x$\n",
    "\n",
    "$$H(\\mathcal{Q}) = - \\sum^m_{i=1}{f\\left(\\frac{q_{i \\curvearrowright}}{\\sum^m_{j=1}{q_{j \\curvearrowright}}}\\right)}$$\n",
    "\n",
    "$$H(\\mathcal{P}^i) = \n",
    " - f\\left(\\frac{q_{i \\curvearrowright}}{q_{i \\curvearrowright} + \\sum_{\\beta \\in i}{p_\\beta}}\\right) \n",
    " - \\sum_{\\alpha \\in i}{f\\left(\\frac{p_\\alpha}{q_{i \\curvearrowright} + \\sum_{\\beta \\in i}{p_\\beta}}\\right)}$$\n",
    "\n",
    "After combining and simplifying\n",
    "\n",
    "$$L(\\mathsf{M}) = \n",
    " f\\left(\\sum^{m}_{i=1}{q_{i \\curvearrowright}}\\right)\n",
    " - 2 \\sum^{m}_{i=1}{f\\left(q_{i \\curvearrowright}\\right)}\n",
    " - \\sum^{n}_{\\alpha=1}{f\\left(p_\\alpha\\right)}\n",
    " + \\sum^{m}_{i=1}{f\\left(q_{i \\curvearrowright} + \\sum_{\\alpha \\in i}{p_\\alpha}\\right)}$$\n"
   ]
  },
  {
   "cell_type": "markdown",
   "metadata": {
    "collapsed": true
   },
   "source": [
    "In an undirected network:\n",
    "\n",
    "* $w_\\alpha$ : the relative weight of node $\\alpha$\n",
    "* $w_i = \\sum_{\\alpha \\in i}w_\\alpha$ : the relative weight of module $i$\n",
    "* $w_{i \\curvearrowright}$ : the relative weight of links exiting module $i$\n",
    "* $w_\\curvearrowright = \\sum^m_{i=1}w_{i \\curvearrowright}$ : the relative weight of links between all modules\n",
    "\n",
    "$$\n",
    "L(\\mathsf{M}) = \n",
    " f\\left(w_{ \\curvearrowright}\\right)\n",
    " - 2 \\sum^{m}_{i=1}{f\\left(w_{i \\curvearrowright}\\right)}\n",
    " - \\sum^{n}_{\\alpha=1}{f\\left(w_\\alpha\\right)}\n",
    " + \\sum^{m}_{i=1}{f\\left(w_{i \\curvearrowright} + w_i\\right)}\n",
    "$$"
   ]
  },
  {
   "cell_type": "code",
   "execution_count": 9,
   "metadata": {
    "collapsed": false
   },
   "outputs": [],
   "source": [
    "def total_edge_weight(G):\n",
    "    return (1 if G.is_directed() else 2) * sum(edge[2].get('weight', 1) for edge in G.edges_iter(data=True))\n",
    "\n",
    "# def node_weight(G, n):\n",
    "#     return sum(edge[2].get('weight', 1) for edge in G.edges_iter(n, data=True))\n",
    "    \n",
    "def node_weight(G, n):\n",
    "    accum = 0\n",
    "    for edge in G.edges_iter(n, data=True):\n",
    "        weight = edge[2].get('weight', 1)\n",
    "        accum += weight\n",
    "    return accum\n",
    "\n",
    "def relative_weight(G, n):\n",
    "    if 'rw' not in G.node[n]:\n",
    "        G.node[n]['rw'] = node_weight(G, n) / total_edge_weight(G)\n",
    "    return G.node[n]['rw']"
   ]
  },
  {
   "cell_type": "code",
   "execution_count": 10,
   "metadata": {
    "collapsed": false
   },
   "outputs": [
    {
     "data": {
      "text/plain": [
       "0.012195121951219513"
      ]
     },
     "execution_count": 10,
     "metadata": {},
     "output_type": "execute_result"
    }
   ],
   "source": [
    "relative_weight(G, 4)"
   ]
  },
  {
   "cell_type": "code",
   "execution_count": 11,
   "metadata": {
    "collapsed": false
   },
   "outputs": [
    {
     "data": {
      "text/plain": [
       "{'rw': 0.012195121951219513}"
      ]
     },
     "execution_count": 11,
     "metadata": {},
     "output_type": "execute_result"
    }
   ],
   "source": [
    "G.node[4]"
   ]
  },
  {
   "cell_type": "code",
   "execution_count": 12,
   "metadata": {
    "collapsed": false
   },
   "outputs": [],
   "source": [
    "modules = {n: n for n in G.nodes_iter()}"
   ]
  },
  {
   "cell_type": "markdown",
   "metadata": {},
   "source": [
    "* graph total weight\n",
    "* node relative weight\n",
    "* module relative weight\n",
    "* node to module map\n",
    "* module to node map\n"
   ]
  },
  {
   "cell_type": "code",
   "execution_count": 13,
   "metadata": {
    "collapsed": false
   },
   "outputs": [],
   "source": [
    "from collections import defaultdict \n",
    "import copy\n",
    "\n",
    "def nlogn(n):\n",
    "    return n * np.log2(n)\n",
    "\n",
    "class MapEqnManager:\n",
    "    def __init__(self, graph):\n",
    "        self.G = graph\n",
    "        if self.G.is_directed():\n",
    "            raise ValueError('directed graphs not supported yet')\n",
    "        \n",
    "        self._init_weights()\n",
    "        self._init_modules()\n",
    "\n",
    "    def _init_weights(self):\n",
    "        self.Gtw = total_edge_weight(self.G)\n",
    "        self.nrw = {}\n",
    "        for n in self.G.nodes_iter():\n",
    "            self.nrw[n] = node_weight(self.G, n) / self.Gtw\n",
    "        self.term3 = -sum(nlogn(rw) for rw in self.nrw.values())\n",
    "\n",
    "    def _init_modules(self):\n",
    "        self.nm = {}\n",
    "        self.mn = defaultdict(set)\n",
    "        \n",
    "        # each node is it's own module at the start\n",
    "        for n in self.G.nodes_iter():    \n",
    "            self.nm[n] = n\n",
    "            self.mn[n].add(n)\n",
    "        \n",
    "    def module_weight(self, m):\n",
    "        return sum(self.nrw[n] for n in self.mn[m])\n",
    "    \n",
    "    def module_exit_weight(self, m):\n",
    "        return sum(self.G.node[n].get('weight', 1) / self.Gtw \n",
    "                for n, neighbor \n",
    "                in self.G.edges_iter(self.mn[m]) \n",
    "                if neighbor not in self.mn[m])\n",
    "    \n",
    "    def total_exit_weight(self):\n",
    "        return sum(self.module_exit_weight(m) for m, nodes in self.mn.items() if nodes)\n",
    "        \n",
    "    def move_node_to_module(self, n, m):\n",
    "        self.mn[self.nm[n]].remove(n)\n",
    "        \n",
    "        self.nm[n] = m\n",
    "        self.mn[m].add(n)\n",
    "    \n",
    "    def move_nodes_to_module(self, nodes, m):\n",
    "        for n in set(nodes):\n",
    "            self.move_node_to_module(n, m)\n",
    "    \n",
    "    def code_length(self):\n",
    "        mod_weights = {m: self.module_weight(m) for m, nodes in self.mn.items() if nodes}\n",
    "        if len(mod_weights) == 1:\n",
    "            # single module, the other terms are useless/invalid\n",
    "            return self.term3\n",
    "        \n",
    "        mod_exit_weights = {m: self.module_exit_weight(m) for m in mod_weights}\n",
    "        total_exit_weight = sum(mod_exit_weights.values())\n",
    "        return (nlogn(total_exit_weight) \n",
    "                - 2 * sum(nlogn(ew) for ew in mod_exit_weights.values()) \n",
    "                + self.term3 \n",
    "                + sum(nlogn(mod_weights[m] + mod_exit_weights[m]) for m in mod_weights))\n",
    "    \n",
    "    def module_neighbors(self, m):\n",
    "        module_neighbors = set()\n",
    "        \n",
    "        for node in self.mn[m]:\n",
    "            for neighbor in self.G.neighbors(node):\n",
    "                module_neighbors.add(self.nm[neighbor])\n",
    "        module_neighbors.discard(m)\n",
    "        \n",
    "        return module_neighbors\n",
    "\n",
    "    ######## TESTING / VISUALIZATION #######\n",
    "\n",
    "    def _d3(self, *args, **kwargs):\n",
    "        # copy modules to \"group\" attribute on nodes\n",
    "        for n, m in self.nm.items():\n",
    "            self.G.node[n]['group'] = m\n",
    "        return d3shims.nx_force(self.G, *args, **kwargs)\n",
    "    \n",
    "    def _single_module(self, the_one=1):\n",
    "        for n in self.nm:\n",
    "            self.nm[n] = the_one\n",
    "        self.mn = defaultdict(set, {the_one: set(self.nm)})\n",
    "    \n",
    "    def _verify_module_map_consistency(self):\n",
    "        \"\"\"\n",
    "        Checks synchronization between node->module and module->nodes mappings\n",
    "        \"\"\"\n",
    "        nodes = set(self.nm)\n",
    "        mn_temp = copy.deepcopy(self.mn)\n",
    "        while nodes:\n",
    "            n = nodes.pop()\n",
    "            m = self.nm[n]\n",
    "            try:\n",
    "                mn_temp[m].remove(n)\n",
    "            except KeyError:\n",
    "                raise AssertionError('node {} not in expected module {}'.format(n, m))\n",
    "        \n",
    "        for m, m_leftovers in mn_temp.items():\n",
    "            assert not m_leftovers, 'extra node in module map! (node(s) {} in module {})'.format(m_leftovers, m)\n",
    "        "
   ]
  },
  {
   "cell_type": "code",
   "execution_count": 14,
   "metadata": {
    "collapsed": false
   },
   "outputs": [
    {
     "data": {
      "text/plain": [
       "6.5433062000996918"
      ]
     },
     "execution_count": 14,
     "metadata": {},
     "output_type": "execute_result"
    }
   ],
   "source": [
    "mem = MapEqnManager(G)\n",
    "mem._verify_module_map_consistency()\n",
    "mem.code_length()"
   ]
  },
  {
   "cell_type": "code",
   "execution_count": 15,
   "metadata": {
    "collapsed": false
   },
   "outputs": [
    {
     "data": {
      "text/plain": [
       "4.54330620009969"
      ]
     },
     "execution_count": 15,
     "metadata": {},
     "output_type": "execute_result"
    }
   ],
   "source": [
    "mem._single_module()\n",
    "mem._verify_module_map_consistency()\n",
    "mem.code_length()"
   ]
  },
  {
   "cell_type": "code",
   "execution_count": 16,
   "metadata": {
    "collapsed": false
   },
   "outputs": [
    {
     "data": {
      "text/plain": [
       "3.2670285810463575"
      ]
     },
     "execution_count": 16,
     "metadata": {},
     "output_type": "execute_result"
    }
   ],
   "source": [
    "for module, nodes in enumerate(optimal_modules):\n",
    "    for node in nodes:\n",
    "        mem.move_node_to_module(node, module)\n",
    "mem.code_length()"
   ]
  },
  {
   "cell_type": "code",
   "execution_count": 17,
   "metadata": {
    "collapsed": false
   },
   "outputs": [
    {
     "data": {
      "text/html": [
       "<style>\n",
       "    .node {\n",
       "      stroke: #fff;\n",
       "      stroke-width: 1.5px;\n",
       "    }\n",
       "\n",
       "    .link {\n",
       "      stroke: #999;\n",
       "      stroke-opacity: .6;\n",
       "    }\n",
       "\n",
       "    .node text {\n",
       "      pointer-events: none;\n",
       "      font: 10px sans-serif;\n",
       "      color: #000;\n",
       "      stroke-width: 0;\n",
       "    }\n",
       "</style>\n",
       "<script>\n",
       "+function() {\n",
       "    var options = {\n",
       "        'divid': '#x05c5027e5af94e4b9d837afe50de85f3',\n",
       "        'data': {\"nodes\": [{\"group\": 0, \"name\": \"1\"}, {\"group\": 0, \"name\": \"2\"}, {\"group\": 0, \"name\": \"3\"}, {\"group\": 0, \"name\": \"4\"}, {\"group\": 0, \"name\": \"5\"}, {\"group\": 0, \"name\": \"6\"}, {\"group\": 1, \"name\": \"7\"}, {\"group\": 1, \"name\": \"8\"}, {\"group\": 1, \"name\": \"9\"}, {\"group\": 1, \"name\": \"10\"}, {\"group\": 1, \"name\": \"11\"}, {\"group\": 1, \"name\": \"12\"}, {\"group\": 1, \"name\": \"13\"}, {\"group\": 2, \"name\": \"14\"}, {\"group\": 2, \"name\": \"15\"}, {\"group\": 2, \"name\": \"16\"}, {\"group\": 2, \"name\": \"17\"}, {\"group\": 3, \"name\": \"18\"}, {\"group\": 3, \"name\": \"19\"}, {\"group\": 3, \"name\": \"20\"}, {\"group\": 3, \"name\": \"21\"}, {\"group\": 3, \"name\": \"22\"}, {\"group\": 3, \"name\": \"23\"}, {\"group\": 3, \"name\": \"24\"}, {\"group\": 3, \"name\": \"25\"}], \"links\": [{\"target\": 1, \"value\": 1, \"source\": 0}, {\"target\": 2, \"value\": 1, \"source\": 0}, {\"target\": 2, \"value\": 1, \"source\": 1}, {\"target\": 3, \"value\": 1, \"source\": 1}, {\"target\": 4, \"value\": 1, \"source\": 1}, {\"target\": 5, \"value\": 1, \"source\": 1}, {\"target\": 5, \"value\": 1, \"source\": 2}, {\"target\": 6, \"value\": 1, \"source\": 2}, {\"target\": 5, \"value\": 1, \"source\": 4}, {\"target\": 7, \"value\": 1, \"source\": 6}, {\"target\": 8, \"value\": 1, \"source\": 6}, {\"target\": 9, \"value\": 1, \"source\": 6}, {\"target\": 8, \"value\": 1, \"source\": 7}, {\"target\": 11, \"value\": 1, \"source\": 7}, {\"target\": 9, \"value\": 1, \"source\": 8}, {\"target\": 10, \"value\": 1, \"source\": 8}, {\"target\": 11, \"value\": 1, \"source\": 8}, {\"target\": 24, \"value\": 1, \"source\": 9}, {\"target\": 12, \"value\": 1, \"source\": 9}, {\"target\": 11, \"value\": 1, \"source\": 10}, {\"target\": 12, \"value\": 1, \"source\": 10}, {\"target\": 12, \"value\": 1, \"source\": 11}, {\"target\": 13, \"value\": 1, \"source\": 12}, {\"target\": 15, \"value\": 1, \"source\": 13}, {\"target\": 14, \"value\": 1, \"source\": 13}, {\"target\": 15, \"value\": 1, \"source\": 14}, {\"target\": 16, \"value\": 1, \"source\": 14}, {\"target\": 16, \"value\": 1, \"source\": 15}, {\"target\": 17, \"value\": 1, \"source\": 15}, {\"target\": 18, \"value\": 1, \"source\": 17}, {\"target\": 19, \"value\": 1, \"source\": 17}, {\"target\": 20, \"value\": 1, \"source\": 17}, {\"target\": 19, \"value\": 1, \"source\": 18}, {\"target\": 21, \"value\": 1, \"source\": 18}, {\"target\": 21, \"value\": 1, \"source\": 19}, {\"target\": 24, \"value\": 1, \"source\": 20}, {\"target\": 21, \"value\": 1, \"source\": 20}, {\"target\": 22, \"value\": 1, \"source\": 21}, {\"target\": 23, \"value\": 1, \"source\": 21}, {\"target\": 24, \"value\": 1, \"source\": 21}, {\"target\": 24, \"value\": 1, \"source\": 23}]},\n",
       "        'width': 300,\n",
       "        'height': 300,\n",
       "        'linkdistance': 30\n",
       "    }\n",
       "\n",
       "    if (window.d3 === undefined) {\n",
       "        console.log('Loading D3 from CDN');\n",
       "        $.getScript('https://cdnjs.cloudflare.com/ajax/libs/d3/3.5.7/d3.js')\n",
       "            .done(function() {\n",
       "                plot_force(options);\n",
       "            });\n",
       "    } else {\n",
       "        plot_force(options);\n",
       "    }\n",
       "\n",
       "    function plot_force(o) {\n",
       "        var color = d3.scale.category20();\n",
       "\n",
       "        var svg = d3.select(o.divid).append(\"svg\")\n",
       "            .attr(\"width\", o.width)\n",
       "            .attr(\"height\", o.height);\n",
       "\n",
       "        var force = d3.layout.force()\n",
       "            .charge(-120)\n",
       "            .linkDistance(o.linkdistance)\n",
       "            .size([o.width, o.height])\n",
       "            .nodes(o.data.nodes)\n",
       "            .links(o.data.links)\n",
       "            .start();\n",
       "\n",
       "        var link = svg.selectAll(\".link\")\n",
       "                .data(o.data.links)\n",
       "            .enter().append(\"line\")\n",
       "                .attr(\"class\", \"link\")\n",
       "                .style(\"stroke-width\", function(d) { return Math.sqrt(d.value); });\n",
       "\n",
       "        var node = svg.selectAll(\".node\")\n",
       "                .data(o.data.nodes)\n",
       "            .enter().append(\"g\")\n",
       "                .attr(\"class\", \"node\")\n",
       "                .call(force.drag)\n",
       "\n",
       "        node.append(\"circle\")\n",
       "            .attr(\"r\", 5)\n",
       "            .style(\"fill\", function(d) { return color(d.group); });\n",
       "\n",
       "        /*node.append(\"title\")\n",
       "            .text(function(d) { return d.name; });*/\n",
       "\n",
       "        \n",
       "\n",
       "        force.on(\"tick\", function() {\n",
       "            link.attr(\"x1\", function(d) { return d.source.x; })\n",
       "                .attr(\"y1\", function(d) { return d.source.y; })\n",
       "                .attr(\"x2\", function(d) { return d.target.x; })\n",
       "                .attr(\"y2\", function(d) { return d.target.y; });\n",
       "\n",
       "            node.attr(\"transform\", function(d) { return \"translate(\" + d.x + \",\" + d.y + \")\"; });\n",
       "        });\n",
       "    }\n",
       "}();\n",
       "</script>\n",
       "<div id=\"x05c5027e5af94e4b9d837afe50de85f3\">\n",
       "</div>"
      ],
      "text/plain": [
       "<IPython.core.display.HTML object>"
      ]
     },
     "execution_count": 17,
     "metadata": {},
     "output_type": "execute_result"
    }
   ],
   "source": [
    "mem._d3((300, 300))"
   ]
  },
  {
   "cell_type": "markdown",
   "metadata": {
    "collapsed": true
   },
   "source": [
    "## Minimizing the Map Equation\n",
    "\n",
    "### \"Core algorithm\"\n",
    "1. Randomly order the nodes\n",
    "1. For each node, move to the neighboring module that provides the greatest decrease. If nothing provides a decrease, keep as-is.\n",
    "1. Repeat the above steps until no changes result in a decrease of the map equation.\n",
    "1. Transform the modules found above into nodes and repeat the process."
   ]
  },
  {
   "cell_type": "code",
   "execution_count": 18,
   "metadata": {
    "collapsed": false
   },
   "outputs": [
    {
     "data": {
      "text/plain": [
       "6.5433062000996918"
      ]
     },
     "execution_count": 18,
     "metadata": {},
     "output_type": "execute_result"
    }
   ],
   "source": [
    "mem = MapEqnManager(G)\n",
    "mem.code_length()"
   ]
  },
  {
   "cell_type": "code",
   "execution_count": 19,
   "metadata": {
    "collapsed": false
   },
   "outputs": [
    {
     "name": "stdout",
     "output_type": "stream",
     "text": [
      "[21, 20, 7, 5, 13, 6, 10, 16, 15, 4, 9, 19, 12, 22, 25, 14, 18, 8, 3, 23, 11, 2, 1, 24, 17]\n"
     ]
    }
   ],
   "source": [
    "def get_nodes_and_shuffle(G):\n",
    "    nodes = list(G.nodes_iter())\n",
    "    random.shuffle(nodes)\n",
    "    return nodes\n",
    "\n",
    "nodes = get_nodes_and_shuffle(mem.G)\n",
    "print(nodes)"
   ]
  },
  {
   "cell_type": "code",
   "execution_count": 20,
   "metadata": {
    "collapsed": false
   },
   "outputs": [
    {
     "name": "stdout",
     "output_type": "stream",
     "text": [
      "[2, 3]\n",
      "3\n"
     ]
    }
   ],
   "source": [
    "def find_greatest_neighbor_decrease(mG, n):\n",
    "    node_module = mG.nm[n] # module of focal node\n",
    "    neighbors = mG.G.neighbors(n)\n",
    "    scores = {None: mG.code_length()}\n",
    "    \n",
    "    for neighbor in neighbors:\n",
    "        original_module = mG.nm[neighbor]\n",
    "        mG.move_node_to_module(neighbor, node_module)\n",
    "        scores[neighbor] = mG.code_length()\n",
    "        mG.move_node_to_module(neighbor, original_module)\n",
    "        \n",
    "    return min(scores.keys(), key=lambda k: scores[k])\n",
    "\n",
    "print(mem.G.neighbors(1))\n",
    "print(find_greatest_neighbor_decrease(mem, 1))"
   ]
  },
  {
   "cell_type": "code",
   "execution_count": 21,
   "metadata": {
    "collapsed": false
   },
   "outputs": [
    {
     "data": {
      "text/html": [
       "<style>\n",
       "    .node {\n",
       "      stroke: #fff;\n",
       "      stroke-width: 1.5px;\n",
       "    }\n",
       "\n",
       "    .link {\n",
       "      stroke: #999;\n",
       "      stroke-opacity: .6;\n",
       "    }\n",
       "\n",
       "    .node text {\n",
       "      pointer-events: none;\n",
       "      font: 10px sans-serif;\n",
       "      color: #000;\n",
       "      stroke-width: 0;\n",
       "    }\n",
       "</style>\n",
       "<script>\n",
       "+function() {\n",
       "    var options = {\n",
       "        'divid': '#x4920eceff47a46d48959f48a2259dd7c',\n",
       "        'data': {\"nodes\": [{\"group\": 1, \"name\": \"1\"}, {\"group\": 2, \"name\": \"2\"}, {\"group\": 3, \"name\": \"3\"}, {\"group\": 4, \"name\": \"4\"}, {\"group\": 5, \"name\": \"5\"}, {\"group\": 6, \"name\": \"6\"}, {\"group\": 7, \"name\": \"7\"}, {\"group\": 8, \"name\": \"8\"}, {\"group\": 9, \"name\": \"9\"}, {\"group\": 10, \"name\": \"10\"}, {\"group\": 11, \"name\": \"11\"}, {\"group\": 12, \"name\": \"12\"}, {\"group\": 13, \"name\": \"13\"}, {\"group\": 14, \"name\": \"14\"}, {\"group\": 15, \"name\": \"15\"}, {\"group\": 16, \"name\": \"16\"}, {\"group\": 17, \"name\": \"17\"}, {\"group\": 18, \"name\": \"18\"}, {\"group\": 19, \"name\": \"19\"}, {\"group\": 20, \"name\": \"20\"}, {\"group\": 21, \"name\": \"21\"}, {\"group\": 22, \"name\": \"22\"}, {\"group\": 23, \"name\": \"23\"}, {\"group\": 24, \"name\": \"24\"}, {\"group\": 25, \"name\": \"25\"}], \"links\": [{\"target\": 1, \"value\": 1, \"source\": 0}, {\"target\": 2, \"value\": 1, \"source\": 0}, {\"target\": 2, \"value\": 1, \"source\": 1}, {\"target\": 3, \"value\": 1, \"source\": 1}, {\"target\": 4, \"value\": 1, \"source\": 1}, {\"target\": 5, \"value\": 1, \"source\": 1}, {\"target\": 5, \"value\": 1, \"source\": 2}, {\"target\": 6, \"value\": 1, \"source\": 2}, {\"target\": 5, \"value\": 1, \"source\": 4}, {\"target\": 7, \"value\": 1, \"source\": 6}, {\"target\": 8, \"value\": 1, \"source\": 6}, {\"target\": 9, \"value\": 1, \"source\": 6}, {\"target\": 8, \"value\": 1, \"source\": 7}, {\"target\": 11, \"value\": 1, \"source\": 7}, {\"target\": 9, \"value\": 1, \"source\": 8}, {\"target\": 10, \"value\": 1, \"source\": 8}, {\"target\": 11, \"value\": 1, \"source\": 8}, {\"target\": 24, \"value\": 1, \"source\": 9}, {\"target\": 12, \"value\": 1, \"source\": 9}, {\"target\": 11, \"value\": 1, \"source\": 10}, {\"target\": 12, \"value\": 1, \"source\": 10}, {\"target\": 12, \"value\": 1, \"source\": 11}, {\"target\": 13, \"value\": 1, \"source\": 12}, {\"target\": 15, \"value\": 1, \"source\": 13}, {\"target\": 14, \"value\": 1, \"source\": 13}, {\"target\": 15, \"value\": 1, \"source\": 14}, {\"target\": 16, \"value\": 1, \"source\": 14}, {\"target\": 16, \"value\": 1, \"source\": 15}, {\"target\": 17, \"value\": 1, \"source\": 15}, {\"target\": 18, \"value\": 1, \"source\": 17}, {\"target\": 19, \"value\": 1, \"source\": 17}, {\"target\": 20, \"value\": 1, \"source\": 17}, {\"target\": 19, \"value\": 1, \"source\": 18}, {\"target\": 21, \"value\": 1, \"source\": 18}, {\"target\": 21, \"value\": 1, \"source\": 19}, {\"target\": 24, \"value\": 1, \"source\": 20}, {\"target\": 21, \"value\": 1, \"source\": 20}, {\"target\": 22, \"value\": 1, \"source\": 21}, {\"target\": 23, \"value\": 1, \"source\": 21}, {\"target\": 24, \"value\": 1, \"source\": 21}, {\"target\": 24, \"value\": 1, \"source\": 23}]},\n",
       "        'width': 300,\n",
       "        'height': 300,\n",
       "        'linkdistance': 30\n",
       "    }\n",
       "\n",
       "    if (window.d3 === undefined) {\n",
       "        console.log('Loading D3 from CDN');\n",
       "        $.getScript('https://cdnjs.cloudflare.com/ajax/libs/d3/3.5.7/d3.js')\n",
       "            .done(function() {\n",
       "                plot_force(options);\n",
       "            });\n",
       "    } else {\n",
       "        plot_force(options);\n",
       "    }\n",
       "\n",
       "    function plot_force(o) {\n",
       "        var color = d3.scale.category20();\n",
       "\n",
       "        var svg = d3.select(o.divid).append(\"svg\")\n",
       "            .attr(\"width\", o.width)\n",
       "            .attr(\"height\", o.height);\n",
       "\n",
       "        var force = d3.layout.force()\n",
       "            .charge(-120)\n",
       "            .linkDistance(o.linkdistance)\n",
       "            .size([o.width, o.height])\n",
       "            .nodes(o.data.nodes)\n",
       "            .links(o.data.links)\n",
       "            .start();\n",
       "\n",
       "        var link = svg.selectAll(\".link\")\n",
       "                .data(o.data.links)\n",
       "            .enter().append(\"line\")\n",
       "                .attr(\"class\", \"link\")\n",
       "                .style(\"stroke-width\", function(d) { return Math.sqrt(d.value); });\n",
       "\n",
       "        var node = svg.selectAll(\".node\")\n",
       "                .data(o.data.nodes)\n",
       "            .enter().append(\"g\")\n",
       "                .attr(\"class\", \"node\")\n",
       "                .call(force.drag)\n",
       "\n",
       "        node.append(\"circle\")\n",
       "            .attr(\"r\", 5)\n",
       "            .style(\"fill\", function(d) { return color(d.group); });\n",
       "\n",
       "        /*node.append(\"title\")\n",
       "            .text(function(d) { return d.name; });*/\n",
       "\n",
       "        \n",
       "\n",
       "        force.on(\"tick\", function() {\n",
       "            link.attr(\"x1\", function(d) { return d.source.x; })\n",
       "                .attr(\"y1\", function(d) { return d.source.y; })\n",
       "                .attr(\"x2\", function(d) { return d.target.x; })\n",
       "                .attr(\"y2\", function(d) { return d.target.y; });\n",
       "\n",
       "            node.attr(\"transform\", function(d) { return \"translate(\" + d.x + \",\" + d.y + \")\"; });\n",
       "        });\n",
       "    }\n",
       "}();\n",
       "</script>\n",
       "<div id=\"x4920eceff47a46d48959f48a2259dd7c\">\n",
       "</div>"
      ],
      "text/plain": [
       "<IPython.core.display.HTML object>"
      ]
     },
     "execution_count": 21,
     "metadata": {},
     "output_type": "execute_result"
    }
   ],
   "source": [
    "mem._d3(size=size)"
   ]
  },
  {
   "cell_type": "code",
   "execution_count": 22,
   "metadata": {
    "collapsed": false
   },
   "outputs": [],
   "source": [
    "def node_collapse_iteration(mG):\n",
    "    nodes = get_nodes_and_shuffle(mG.G)\n",
    "    \n",
    "    start = mG.nm.copy()\n",
    "    #changed = False\n",
    "    for n in nodes:\n",
    "        best = find_greatest_neighbor_decrease(mG, n)\n",
    "        if best is None:\n",
    "            continue\n",
    "        mG.move_node_to_module(best, mG.nm[n])\n",
    "        # oscillations might be thwarting \"any change\" meaning \"a net change\"\n",
    "        # need to check, for now just check en-masse at start/end\n",
    "        #changed = True \n",
    "\n",
    "    return set(start.items()) != set(mG.nm.items())"
   ]
  },
  {
   "cell_type": "code",
   "execution_count": 23,
   "metadata": {
    "collapsed": false
   },
   "outputs": [
    {
     "data": {
      "text/html": [
       "<style>\n",
       "    .node {\n",
       "      stroke: #fff;\n",
       "      stroke-width: 1.5px;\n",
       "    }\n",
       "\n",
       "    .link {\n",
       "      stroke: #999;\n",
       "      stroke-opacity: .6;\n",
       "    }\n",
       "\n",
       "    .node text {\n",
       "      pointer-events: none;\n",
       "      font: 10px sans-serif;\n",
       "      color: #000;\n",
       "      stroke-width: 0;\n",
       "    }\n",
       "</style>\n",
       "<script>\n",
       "+function() {\n",
       "    var options = {\n",
       "        'divid': '#xdb4905d372904ffbad32aeb137668be4',\n",
       "        'data': {\"nodes\": [{\"group\": 1, \"name\": \"1\"}, {\"group\": 6, \"name\": \"2\"}, {\"group\": 1, \"name\": \"3\"}, {\"group\": 6, \"name\": \"4\"}, {\"group\": 6, \"name\": \"5\"}, {\"group\": 6, \"name\": \"6\"}, {\"group\": 10, \"name\": \"7\"}, {\"group\": 9, \"name\": \"8\"}, {\"group\": 9, \"name\": \"9\"}, {\"group\": 10, \"name\": \"10\"}, {\"group\": 9, \"name\": \"11\"}, {\"group\": 9, \"name\": \"12\"}, {\"group\": 11, \"name\": \"13\"}, {\"group\": 14, \"name\": \"14\"}, {\"group\": 14, \"name\": \"15\"}, {\"group\": 14, \"name\": \"16\"}, {\"group\": 14, \"name\": \"17\"}, {\"group\": 20, \"name\": \"18\"}, {\"group\": 20, \"name\": \"19\"}, {\"group\": 20, \"name\": \"20\"}, {\"group\": 18, \"name\": \"21\"}, {\"group\": 24, \"name\": \"22\"}, {\"group\": 22, \"name\": \"23\"}, {\"group\": 24, \"name\": \"24\"}, {\"group\": 24, \"name\": \"25\"}], \"links\": [{\"target\": 1, \"value\": 1, \"source\": 0}, {\"target\": 2, \"value\": 1, \"source\": 0}, {\"target\": 2, \"value\": 1, \"source\": 1}, {\"target\": 3, \"value\": 1, \"source\": 1}, {\"target\": 4, \"value\": 1, \"source\": 1}, {\"target\": 5, \"value\": 1, \"source\": 1}, {\"target\": 5, \"value\": 1, \"source\": 2}, {\"target\": 6, \"value\": 1, \"source\": 2}, {\"target\": 5, \"value\": 1, \"source\": 4}, {\"target\": 7, \"value\": 1, \"source\": 6}, {\"target\": 8, \"value\": 1, \"source\": 6}, {\"target\": 9, \"value\": 1, \"source\": 6}, {\"target\": 8, \"value\": 1, \"source\": 7}, {\"target\": 11, \"value\": 1, \"source\": 7}, {\"target\": 9, \"value\": 1, \"source\": 8}, {\"target\": 10, \"value\": 1, \"source\": 8}, {\"target\": 11, \"value\": 1, \"source\": 8}, {\"target\": 24, \"value\": 1, \"source\": 9}, {\"target\": 12, \"value\": 1, \"source\": 9}, {\"target\": 11, \"value\": 1, \"source\": 10}, {\"target\": 12, \"value\": 1, \"source\": 10}, {\"target\": 12, \"value\": 1, \"source\": 11}, {\"target\": 13, \"value\": 1, \"source\": 12}, {\"target\": 15, \"value\": 1, \"source\": 13}, {\"target\": 14, \"value\": 1, \"source\": 13}, {\"target\": 15, \"value\": 1, \"source\": 14}, {\"target\": 16, \"value\": 1, \"source\": 14}, {\"target\": 16, \"value\": 1, \"source\": 15}, {\"target\": 17, \"value\": 1, \"source\": 15}, {\"target\": 18, \"value\": 1, \"source\": 17}, {\"target\": 19, \"value\": 1, \"source\": 17}, {\"target\": 20, \"value\": 1, \"source\": 17}, {\"target\": 19, \"value\": 1, \"source\": 18}, {\"target\": 21, \"value\": 1, \"source\": 18}, {\"target\": 21, \"value\": 1, \"source\": 19}, {\"target\": 24, \"value\": 1, \"source\": 20}, {\"target\": 21, \"value\": 1, \"source\": 20}, {\"target\": 22, \"value\": 1, \"source\": 21}, {\"target\": 23, \"value\": 1, \"source\": 21}, {\"target\": 24, \"value\": 1, \"source\": 21}, {\"target\": 24, \"value\": 1, \"source\": 23}]},\n",
       "        'width': 300,\n",
       "        'height': 300,\n",
       "        'linkdistance': 30\n",
       "    }\n",
       "\n",
       "    if (window.d3 === undefined) {\n",
       "        console.log('Loading D3 from CDN');\n",
       "        $.getScript('https://cdnjs.cloudflare.com/ajax/libs/d3/3.5.7/d3.js')\n",
       "            .done(function() {\n",
       "                plot_force(options);\n",
       "            });\n",
       "    } else {\n",
       "        plot_force(options);\n",
       "    }\n",
       "\n",
       "    function plot_force(o) {\n",
       "        var color = d3.scale.category20();\n",
       "\n",
       "        var svg = d3.select(o.divid).append(\"svg\")\n",
       "            .attr(\"width\", o.width)\n",
       "            .attr(\"height\", o.height);\n",
       "\n",
       "        var force = d3.layout.force()\n",
       "            .charge(-120)\n",
       "            .linkDistance(o.linkdistance)\n",
       "            .size([o.width, o.height])\n",
       "            .nodes(o.data.nodes)\n",
       "            .links(o.data.links)\n",
       "            .start();\n",
       "\n",
       "        var link = svg.selectAll(\".link\")\n",
       "                .data(o.data.links)\n",
       "            .enter().append(\"line\")\n",
       "                .attr(\"class\", \"link\")\n",
       "                .style(\"stroke-width\", function(d) { return Math.sqrt(d.value); });\n",
       "\n",
       "        var node = svg.selectAll(\".node\")\n",
       "                .data(o.data.nodes)\n",
       "            .enter().append(\"g\")\n",
       "                .attr(\"class\", \"node\")\n",
       "                .call(force.drag)\n",
       "\n",
       "        node.append(\"circle\")\n",
       "            .attr(\"r\", 5)\n",
       "            .style(\"fill\", function(d) { return color(d.group); });\n",
       "\n",
       "        /*node.append(\"title\")\n",
       "            .text(function(d) { return d.name; });*/\n",
       "\n",
       "        \n",
       "\n",
       "        force.on(\"tick\", function() {\n",
       "            link.attr(\"x1\", function(d) { return d.source.x; })\n",
       "                .attr(\"y1\", function(d) { return d.source.y; })\n",
       "                .attr(\"x2\", function(d) { return d.target.x; })\n",
       "                .attr(\"y2\", function(d) { return d.target.y; });\n",
       "\n",
       "            node.attr(\"transform\", function(d) { return \"translate(\" + d.x + \",\" + d.y + \")\"; });\n",
       "        });\n",
       "    }\n",
       "}();\n",
       "</script>\n",
       "<div id=\"xdb4905d372904ffbad32aeb137668be4\">\n",
       "</div>"
      ],
      "text/plain": [
       "<IPython.core.display.HTML object>"
      ]
     },
     "execution_count": 23,
     "metadata": {},
     "output_type": "execute_result"
    }
   ],
   "source": [
    "node_collapse_iteration(mem)\n",
    "mem._d3((300, 300))"
   ]
  },
  {
   "cell_type": "code",
   "execution_count": 24,
   "metadata": {
    "collapsed": false
   },
   "outputs": [
    {
     "name": "stdout",
     "output_type": "stream",
     "text": [
      "3.34554762858\n"
     ]
    },
    {
     "data": {
      "text/html": [
       "<style>\n",
       "    .node {\n",
       "      stroke: #fff;\n",
       "      stroke-width: 1.5px;\n",
       "    }\n",
       "\n",
       "    .link {\n",
       "      stroke: #999;\n",
       "      stroke-opacity: .6;\n",
       "    }\n",
       "\n",
       "    .node text {\n",
       "      pointer-events: none;\n",
       "      font: 10px sans-serif;\n",
       "      color: #000;\n",
       "      stroke-width: 0;\n",
       "    }\n",
       "</style>\n",
       "<script>\n",
       "+function() {\n",
       "    var options = {\n",
       "        'divid': '#xb62268997690409bbceb13d0f8ffa854',\n",
       "        'data': {\"nodes\": [{\"group\": 6, \"name\": \"1\"}, {\"group\": 6, \"name\": \"2\"}, {\"group\": 6, \"name\": \"3\"}, {\"group\": 6, \"name\": \"4\"}, {\"group\": 6, \"name\": \"5\"}, {\"group\": 6, \"name\": \"6\"}, {\"group\": 7, \"name\": \"7\"}, {\"group\": 7, \"name\": \"8\"}, {\"group\": 7, \"name\": \"9\"}, {\"group\": 7, \"name\": \"10\"}, {\"group\": 7, \"name\": \"11\"}, {\"group\": 7, \"name\": \"12\"}, {\"group\": 7, \"name\": \"13\"}, {\"group\": 16, \"name\": \"14\"}, {\"group\": 16, \"name\": \"15\"}, {\"group\": 16, \"name\": \"16\"}, {\"group\": 16, \"name\": \"17\"}, {\"group\": 20, \"name\": \"18\"}, {\"group\": 20, \"name\": \"19\"}, {\"group\": 20, \"name\": \"20\"}, {\"group\": 25, \"name\": \"21\"}, {\"group\": 25, \"name\": \"22\"}, {\"group\": 25, \"name\": \"23\"}, {\"group\": 25, \"name\": \"24\"}, {\"group\": 25, \"name\": \"25\"}], \"links\": [{\"target\": 1, \"value\": 1, \"source\": 0}, {\"target\": 2, \"value\": 1, \"source\": 0}, {\"target\": 2, \"value\": 1, \"source\": 1}, {\"target\": 3, \"value\": 1, \"source\": 1}, {\"target\": 4, \"value\": 1, \"source\": 1}, {\"target\": 5, \"value\": 1, \"source\": 1}, {\"target\": 5, \"value\": 1, \"source\": 2}, {\"target\": 6, \"value\": 1, \"source\": 2}, {\"target\": 5, \"value\": 1, \"source\": 4}, {\"target\": 7, \"value\": 1, \"source\": 6}, {\"target\": 8, \"value\": 1, \"source\": 6}, {\"target\": 9, \"value\": 1, \"source\": 6}, {\"target\": 8, \"value\": 1, \"source\": 7}, {\"target\": 11, \"value\": 1, \"source\": 7}, {\"target\": 9, \"value\": 1, \"source\": 8}, {\"target\": 10, \"value\": 1, \"source\": 8}, {\"target\": 11, \"value\": 1, \"source\": 8}, {\"target\": 24, \"value\": 1, \"source\": 9}, {\"target\": 12, \"value\": 1, \"source\": 9}, {\"target\": 11, \"value\": 1, \"source\": 10}, {\"target\": 12, \"value\": 1, \"source\": 10}, {\"target\": 12, \"value\": 1, \"source\": 11}, {\"target\": 13, \"value\": 1, \"source\": 12}, {\"target\": 15, \"value\": 1, \"source\": 13}, {\"target\": 14, \"value\": 1, \"source\": 13}, {\"target\": 15, \"value\": 1, \"source\": 14}, {\"target\": 16, \"value\": 1, \"source\": 14}, {\"target\": 16, \"value\": 1, \"source\": 15}, {\"target\": 17, \"value\": 1, \"source\": 15}, {\"target\": 18, \"value\": 1, \"source\": 17}, {\"target\": 19, \"value\": 1, \"source\": 17}, {\"target\": 20, \"value\": 1, \"source\": 17}, {\"target\": 19, \"value\": 1, \"source\": 18}, {\"target\": 21, \"value\": 1, \"source\": 18}, {\"target\": 21, \"value\": 1, \"source\": 19}, {\"target\": 24, \"value\": 1, \"source\": 20}, {\"target\": 21, \"value\": 1, \"source\": 20}, {\"target\": 22, \"value\": 1, \"source\": 21}, {\"target\": 23, \"value\": 1, \"source\": 21}, {\"target\": 24, \"value\": 1, \"source\": 21}, {\"target\": 24, \"value\": 1, \"source\": 23}]},\n",
       "        'width': 300,\n",
       "        'height': 300,\n",
       "        'linkdistance': 30\n",
       "    }\n",
       "\n",
       "    if (window.d3 === undefined) {\n",
       "        console.log('Loading D3 from CDN');\n",
       "        $.getScript('https://cdnjs.cloudflare.com/ajax/libs/d3/3.5.7/d3.js')\n",
       "            .done(function() {\n",
       "                plot_force(options);\n",
       "            });\n",
       "    } else {\n",
       "        plot_force(options);\n",
       "    }\n",
       "\n",
       "    function plot_force(o) {\n",
       "        var color = d3.scale.category20();\n",
       "\n",
       "        var svg = d3.select(o.divid).append(\"svg\")\n",
       "            .attr(\"width\", o.width)\n",
       "            .attr(\"height\", o.height);\n",
       "\n",
       "        var force = d3.layout.force()\n",
       "            .charge(-120)\n",
       "            .linkDistance(o.linkdistance)\n",
       "            .size([o.width, o.height])\n",
       "            .nodes(o.data.nodes)\n",
       "            .links(o.data.links)\n",
       "            .start();\n",
       "\n",
       "        var link = svg.selectAll(\".link\")\n",
       "                .data(o.data.links)\n",
       "            .enter().append(\"line\")\n",
       "                .attr(\"class\", \"link\")\n",
       "                .style(\"stroke-width\", function(d) { return Math.sqrt(d.value); });\n",
       "\n",
       "        var node = svg.selectAll(\".node\")\n",
       "                .data(o.data.nodes)\n",
       "            .enter().append(\"g\")\n",
       "                .attr(\"class\", \"node\")\n",
       "                .call(force.drag)\n",
       "\n",
       "        node.append(\"circle\")\n",
       "            .attr(\"r\", 5)\n",
       "            .style(\"fill\", function(d) { return color(d.group); });\n",
       "\n",
       "        /*node.append(\"title\")\n",
       "            .text(function(d) { return d.name; });*/\n",
       "\n",
       "        \n",
       "\n",
       "        force.on(\"tick\", function() {\n",
       "            link.attr(\"x1\", function(d) { return d.source.x; })\n",
       "                .attr(\"y1\", function(d) { return d.source.y; })\n",
       "                .attr(\"x2\", function(d) { return d.target.x; })\n",
       "                .attr(\"y2\", function(d) { return d.target.y; });\n",
       "\n",
       "            node.attr(\"transform\", function(d) { return \"translate(\" + d.x + \",\" + d.y + \")\"; });\n",
       "        });\n",
       "    }\n",
       "}();\n",
       "</script>\n",
       "<div id=\"xb62268997690409bbceb13d0f8ffa854\">\n",
       "</div>"
      ],
      "text/plain": [
       "<IPython.core.display.HTML object>"
      ]
     },
     "execution_count": 24,
     "metadata": {},
     "output_type": "execute_result"
    }
   ],
   "source": [
    "mem = MapEqnManager(G)\n",
    "start = time.time()\n",
    "while True:\n",
    "    changes = node_collapse_iteration(mem)\n",
    "\n",
    "    if not changes:\n",
    "        break\n",
    "    elif time.time() - start > 5:\n",
    "        raise Exception('timeout')\n",
    "\n",
    "print(mem.code_length())\n",
    "mem._d3(size=size)"
   ]
  },
  {
   "cell_type": "code",
   "execution_count": 25,
   "metadata": {
    "collapsed": false
   },
   "outputs": [
    {
     "name": "stdout",
     "output_type": "stream",
     "text": [
      "[20, 6, 16, 7, 25]\n"
     ]
    }
   ],
   "source": [
    "def get_modules_and_shuffle(mG):\n",
    "    modules = [module for module, nodes in mG.mn.items() if nodes]\n",
    "    random.shuffle(modules)\n",
    "    return modules\n",
    "\n",
    "modules = get_modules_and_shuffle(mem)\n",
    "print(modules)"
   ]
  },
  {
   "cell_type": "code",
   "execution_count": 26,
   "metadata": {
    "collapsed": false
   },
   "outputs": [],
   "source": [
    "def find_greatest_module_neighbor_decrease(mG, module):\n",
    "    module_neighbors = mG.module_neighbors(module)\n",
    "            \n",
    "    scores = {None: mG.code_length()}\n",
    "    \n",
    "    for mneighbor in module_neighbors:\n",
    "        nodes = set(mG.mn[mneighbor]) # copy\n",
    "        mG.move_nodes_to_module(nodes, module)\n",
    "        scores[mneighbor] = mG.code_length()\n",
    "        mG.move_nodes_to_module(nodes, mneighbor)\n",
    "        \n",
    "    return min(scores.keys(), key=lambda k: scores[k])\n",
    "\n",
    "find_greatest_module_neighbor_decrease(mem, 19)"
   ]
  },
  {
   "cell_type": "code",
   "execution_count": 27,
   "metadata": {
    "collapsed": true
   },
   "outputs": [],
   "source": [
    "def module_collapse_iteration(mG):\n",
    "    modules = get_modules_and_shuffle(mG)\n",
    "    \n",
    "    start = set(mG.nm.items())\n",
    "    for m in modules:\n",
    "        mbest = find_greatest_module_neighbor_decrease(mG, m)\n",
    "        if mbest is None:\n",
    "            continue\n",
    "        mG.move_nodes_to_module(mG.mn[mbest], m)\n",
    "\n",
    "    return start != set(mG.nm.items())"
   ]
  },
  {
   "cell_type": "code",
   "execution_count": 28,
   "metadata": {
    "collapsed": false
   },
   "outputs": [
    {
     "name": "stdout",
     "output_type": "stream",
     "text": [
      "3.26702858105\n"
     ]
    },
    {
     "data": {
      "text/html": [
       "<style>\n",
       "    .node {\n",
       "      stroke: #fff;\n",
       "      stroke-width: 1.5px;\n",
       "    }\n",
       "\n",
       "    .link {\n",
       "      stroke: #999;\n",
       "      stroke-opacity: .6;\n",
       "    }\n",
       "\n",
       "    .node text {\n",
       "      pointer-events: none;\n",
       "      font: 10px sans-serif;\n",
       "      color: #000;\n",
       "      stroke-width: 0;\n",
       "    }\n",
       "</style>\n",
       "<script>\n",
       "+function() {\n",
       "    var options = {\n",
       "        'divid': '#x6080b3a69a6e46919e3448e5e56a4172',\n",
       "        'data': {\"nodes\": [{\"group\": 6, \"name\": \"1\"}, {\"group\": 6, \"name\": \"2\"}, {\"group\": 6, \"name\": \"3\"}, {\"group\": 6, \"name\": \"4\"}, {\"group\": 6, \"name\": \"5\"}, {\"group\": 6, \"name\": \"6\"}, {\"group\": 7, \"name\": \"7\"}, {\"group\": 7, \"name\": \"8\"}, {\"group\": 7, \"name\": \"9\"}, {\"group\": 7, \"name\": \"10\"}, {\"group\": 7, \"name\": \"11\"}, {\"group\": 7, \"name\": \"12\"}, {\"group\": 7, \"name\": \"13\"}, {\"group\": 16, \"name\": \"14\"}, {\"group\": 16, \"name\": \"15\"}, {\"group\": 16, \"name\": \"16\"}, {\"group\": 16, \"name\": \"17\"}, {\"group\": 20, \"name\": \"18\"}, {\"group\": 20, \"name\": \"19\"}, {\"group\": 20, \"name\": \"20\"}, {\"group\": 20, \"name\": \"21\"}, {\"group\": 20, \"name\": \"22\"}, {\"group\": 20, \"name\": \"23\"}, {\"group\": 20, \"name\": \"24\"}, {\"group\": 20, \"name\": \"25\"}], \"links\": [{\"target\": 1, \"value\": 1, \"source\": 0}, {\"target\": 2, \"value\": 1, \"source\": 0}, {\"target\": 2, \"value\": 1, \"source\": 1}, {\"target\": 3, \"value\": 1, \"source\": 1}, {\"target\": 4, \"value\": 1, \"source\": 1}, {\"target\": 5, \"value\": 1, \"source\": 1}, {\"target\": 5, \"value\": 1, \"source\": 2}, {\"target\": 6, \"value\": 1, \"source\": 2}, {\"target\": 5, \"value\": 1, \"source\": 4}, {\"target\": 7, \"value\": 1, \"source\": 6}, {\"target\": 8, \"value\": 1, \"source\": 6}, {\"target\": 9, \"value\": 1, \"source\": 6}, {\"target\": 8, \"value\": 1, \"source\": 7}, {\"target\": 11, \"value\": 1, \"source\": 7}, {\"target\": 9, \"value\": 1, \"source\": 8}, {\"target\": 10, \"value\": 1, \"source\": 8}, {\"target\": 11, \"value\": 1, \"source\": 8}, {\"target\": 24, \"value\": 1, \"source\": 9}, {\"target\": 12, \"value\": 1, \"source\": 9}, {\"target\": 11, \"value\": 1, \"source\": 10}, {\"target\": 12, \"value\": 1, \"source\": 10}, {\"target\": 12, \"value\": 1, \"source\": 11}, {\"target\": 13, \"value\": 1, \"source\": 12}, {\"target\": 15, \"value\": 1, \"source\": 13}, {\"target\": 14, \"value\": 1, \"source\": 13}, {\"target\": 15, \"value\": 1, \"source\": 14}, {\"target\": 16, \"value\": 1, \"source\": 14}, {\"target\": 16, \"value\": 1, \"source\": 15}, {\"target\": 17, \"value\": 1, \"source\": 15}, {\"target\": 18, \"value\": 1, \"source\": 17}, {\"target\": 19, \"value\": 1, \"source\": 17}, {\"target\": 20, \"value\": 1, \"source\": 17}, {\"target\": 19, \"value\": 1, \"source\": 18}, {\"target\": 21, \"value\": 1, \"source\": 18}, {\"target\": 21, \"value\": 1, \"source\": 19}, {\"target\": 24, \"value\": 1, \"source\": 20}, {\"target\": 21, \"value\": 1, \"source\": 20}, {\"target\": 22, \"value\": 1, \"source\": 21}, {\"target\": 23, \"value\": 1, \"source\": 21}, {\"target\": 24, \"value\": 1, \"source\": 21}, {\"target\": 24, \"value\": 1, \"source\": 23}]},\n",
       "        'width': 300,\n",
       "        'height': 300,\n",
       "        'linkdistance': 30\n",
       "    }\n",
       "\n",
       "    if (window.d3 === undefined) {\n",
       "        console.log('Loading D3 from CDN');\n",
       "        $.getScript('https://cdnjs.cloudflare.com/ajax/libs/d3/3.5.7/d3.js')\n",
       "            .done(function() {\n",
       "                plot_force(options);\n",
       "            });\n",
       "    } else {\n",
       "        plot_force(options);\n",
       "    }\n",
       "\n",
       "    function plot_force(o) {\n",
       "        var color = d3.scale.category20();\n",
       "\n",
       "        var svg = d3.select(o.divid).append(\"svg\")\n",
       "            .attr(\"width\", o.width)\n",
       "            .attr(\"height\", o.height);\n",
       "\n",
       "        var force = d3.layout.force()\n",
       "            .charge(-120)\n",
       "            .linkDistance(o.linkdistance)\n",
       "            .size([o.width, o.height])\n",
       "            .nodes(o.data.nodes)\n",
       "            .links(o.data.links)\n",
       "            .start();\n",
       "\n",
       "        var link = svg.selectAll(\".link\")\n",
       "                .data(o.data.links)\n",
       "            .enter().append(\"line\")\n",
       "                .attr(\"class\", \"link\")\n",
       "                .style(\"stroke-width\", function(d) { return Math.sqrt(d.value); });\n",
       "\n",
       "        var node = svg.selectAll(\".node\")\n",
       "                .data(o.data.nodes)\n",
       "            .enter().append(\"g\")\n",
       "                .attr(\"class\", \"node\")\n",
       "                .call(force.drag)\n",
       "\n",
       "        node.append(\"circle\")\n",
       "            .attr(\"r\", 5)\n",
       "            .style(\"fill\", function(d) { return color(d.group); });\n",
       "\n",
       "        /*node.append(\"title\")\n",
       "            .text(function(d) { return d.name; });*/\n",
       "\n",
       "        \n",
       "\n",
       "        force.on(\"tick\", function() {\n",
       "            link.attr(\"x1\", function(d) { return d.source.x; })\n",
       "                .attr(\"y1\", function(d) { return d.source.y; })\n",
       "                .attr(\"x2\", function(d) { return d.target.x; })\n",
       "                .attr(\"y2\", function(d) { return d.target.y; });\n",
       "\n",
       "            node.attr(\"transform\", function(d) { return \"translate(\" + d.x + \",\" + d.y + \")\"; });\n",
       "        });\n",
       "    }\n",
       "}();\n",
       "</script>\n",
       "<div id=\"x6080b3a69a6e46919e3448e5e56a4172\">\n",
       "</div>"
      ],
      "text/plain": [
       "<IPython.core.display.HTML object>"
      ]
     },
     "execution_count": 28,
     "metadata": {},
     "output_type": "execute_result"
    }
   ],
   "source": [
    "start = time.time()\n",
    "while True:\n",
    "    changes = module_collapse_iteration(mem)\n",
    "\n",
    "    if not changes:\n",
    "        break\n",
    "    elif time.time() - start > 5:\n",
    "        raise Exception('timeout')\n",
    "\n",
    "print(mem.code_length())\n",
    "mem._d3(size=size)"
   ]
  },
  {
   "cell_type": "code",
   "execution_count": 29,
   "metadata": {
    "collapsed": false
   },
   "outputs": [
    {
     "name": "stdout",
     "output_type": "stream",
     "text": [
      "3.26702858105\n"
     ]
    },
    {
     "data": {
      "text/html": [
       "<style>\n",
       "    .node {\n",
       "      stroke: #fff;\n",
       "      stroke-width: 1.5px;\n",
       "    }\n",
       "\n",
       "    .link {\n",
       "      stroke: #999;\n",
       "      stroke-opacity: .6;\n",
       "    }\n",
       "\n",
       "    .node text {\n",
       "      pointer-events: none;\n",
       "      font: 10px sans-serif;\n",
       "      color: #000;\n",
       "      stroke-width: 0;\n",
       "    }\n",
       "</style>\n",
       "<script>\n",
       "+function() {\n",
       "    var options = {\n",
       "        'divid': '#x6c1d544684da47e888c5a4f8218a8e7c',\n",
       "        'data': {\"nodes\": [{\"group\": 1, \"name\": \"1\"}, {\"group\": 1, \"name\": \"2\"}, {\"group\": 1, \"name\": \"3\"}, {\"group\": 1, \"name\": \"4\"}, {\"group\": 1, \"name\": \"5\"}, {\"group\": 1, \"name\": \"6\"}, {\"group\": 10, \"name\": \"7\"}, {\"group\": 10, \"name\": \"8\"}, {\"group\": 10, \"name\": \"9\"}, {\"group\": 10, \"name\": \"10\"}, {\"group\": 10, \"name\": \"11\"}, {\"group\": 10, \"name\": \"12\"}, {\"group\": 10, \"name\": \"13\"}, {\"group\": 16, \"name\": \"14\"}, {\"group\": 16, \"name\": \"15\"}, {\"group\": 16, \"name\": \"16\"}, {\"group\": 16, \"name\": \"17\"}, {\"group\": 19, \"name\": \"18\"}, {\"group\": 19, \"name\": \"19\"}, {\"group\": 19, \"name\": \"20\"}, {\"group\": 19, \"name\": \"21\"}, {\"group\": 19, \"name\": \"22\"}, {\"group\": 19, \"name\": \"23\"}, {\"group\": 19, \"name\": \"24\"}, {\"group\": 19, \"name\": \"25\"}], \"links\": [{\"target\": 1, \"value\": 1, \"source\": 0}, {\"target\": 2, \"value\": 1, \"source\": 0}, {\"target\": 2, \"value\": 1, \"source\": 1}, {\"target\": 3, \"value\": 1, \"source\": 1}, {\"target\": 4, \"value\": 1, \"source\": 1}, {\"target\": 5, \"value\": 1, \"source\": 1}, {\"target\": 5, \"value\": 1, \"source\": 2}, {\"target\": 6, \"value\": 1, \"source\": 2}, {\"target\": 5, \"value\": 1, \"source\": 4}, {\"target\": 7, \"value\": 1, \"source\": 6}, {\"target\": 8, \"value\": 1, \"source\": 6}, {\"target\": 9, \"value\": 1, \"source\": 6}, {\"target\": 8, \"value\": 1, \"source\": 7}, {\"target\": 11, \"value\": 1, \"source\": 7}, {\"target\": 9, \"value\": 1, \"source\": 8}, {\"target\": 10, \"value\": 1, \"source\": 8}, {\"target\": 11, \"value\": 1, \"source\": 8}, {\"target\": 24, \"value\": 1, \"source\": 9}, {\"target\": 12, \"value\": 1, \"source\": 9}, {\"target\": 11, \"value\": 1, \"source\": 10}, {\"target\": 12, \"value\": 1, \"source\": 10}, {\"target\": 12, \"value\": 1, \"source\": 11}, {\"target\": 13, \"value\": 1, \"source\": 12}, {\"target\": 15, \"value\": 1, \"source\": 13}, {\"target\": 14, \"value\": 1, \"source\": 13}, {\"target\": 15, \"value\": 1, \"source\": 14}, {\"target\": 16, \"value\": 1, \"source\": 14}, {\"target\": 16, \"value\": 1, \"source\": 15}, {\"target\": 17, \"value\": 1, \"source\": 15}, {\"target\": 18, \"value\": 1, \"source\": 17}, {\"target\": 19, \"value\": 1, \"source\": 17}, {\"target\": 20, \"value\": 1, \"source\": 17}, {\"target\": 19, \"value\": 1, \"source\": 18}, {\"target\": 21, \"value\": 1, \"source\": 18}, {\"target\": 21, \"value\": 1, \"source\": 19}, {\"target\": 24, \"value\": 1, \"source\": 20}, {\"target\": 21, \"value\": 1, \"source\": 20}, {\"target\": 22, \"value\": 1, \"source\": 21}, {\"target\": 23, \"value\": 1, \"source\": 21}, {\"target\": 24, \"value\": 1, \"source\": 21}, {\"target\": 24, \"value\": 1, \"source\": 23}]},\n",
       "        'width': 300,\n",
       "        'height': 300,\n",
       "        'linkdistance': 30\n",
       "    }\n",
       "\n",
       "    if (window.d3 === undefined) {\n",
       "        console.log('Loading D3 from CDN');\n",
       "        $.getScript('https://cdnjs.cloudflare.com/ajax/libs/d3/3.5.7/d3.js')\n",
       "            .done(function() {\n",
       "                plot_force(options);\n",
       "            });\n",
       "    } else {\n",
       "        plot_force(options);\n",
       "    }\n",
       "\n",
       "    function plot_force(o) {\n",
       "        var color = d3.scale.category20();\n",
       "\n",
       "        var svg = d3.select(o.divid).append(\"svg\")\n",
       "            .attr(\"width\", o.width)\n",
       "            .attr(\"height\", o.height);\n",
       "\n",
       "        var force = d3.layout.force()\n",
       "            .charge(-120)\n",
       "            .linkDistance(o.linkdistance)\n",
       "            .size([o.width, o.height])\n",
       "            .nodes(o.data.nodes)\n",
       "            .links(o.data.links)\n",
       "            .start();\n",
       "\n",
       "        var link = svg.selectAll(\".link\")\n",
       "                .data(o.data.links)\n",
       "            .enter().append(\"line\")\n",
       "                .attr(\"class\", \"link\")\n",
       "                .style(\"stroke-width\", function(d) { return Math.sqrt(d.value); });\n",
       "\n",
       "        var node = svg.selectAll(\".node\")\n",
       "                .data(o.data.nodes)\n",
       "            .enter().append(\"g\")\n",
       "                .attr(\"class\", \"node\")\n",
       "                .call(force.drag)\n",
       "\n",
       "        node.append(\"circle\")\n",
       "            .attr(\"r\", 5)\n",
       "            .style(\"fill\", function(d) { return color(d.group); });\n",
       "\n",
       "        /*node.append(\"title\")\n",
       "            .text(function(d) { return d.name; });*/\n",
       "\n",
       "        \n",
       "\n",
       "        force.on(\"tick\", function() {\n",
       "            link.attr(\"x1\", function(d) { return d.source.x; })\n",
       "                .attr(\"y1\", function(d) { return d.source.y; })\n",
       "                .attr(\"x2\", function(d) { return d.target.x; })\n",
       "                .attr(\"y2\", function(d) { return d.target.y; });\n",
       "\n",
       "            node.attr(\"transform\", function(d) { return \"translate(\" + d.x + \",\" + d.y + \")\"; });\n",
       "        });\n",
       "    }\n",
       "}();\n",
       "</script>\n",
       "<div id=\"x6c1d544684da47e888c5a4f8218a8e7c\">\n",
       "</div>"
      ],
      "text/plain": [
       "<IPython.core.display.HTML object>"
      ]
     },
     "execution_count": 29,
     "metadata": {},
     "output_type": "execute_result"
    }
   ],
   "source": [
    "def core_algorithm(G, timeout=5):\n",
    "    mG = MapEqnManager(G)\n",
    "\n",
    "    start = time.time()\n",
    "    e = Exception('timeout')\n",
    "\n",
    "    while time.time() - start < timeout:\n",
    "        changes = node_collapse_iteration(mG)\n",
    "        if not changes:\n",
    "            break\n",
    "    else:\n",
    "        raise e\n",
    "            \n",
    "    while time.time() - start < timeout:\n",
    "        changes = module_collapse_iteration(mG)\n",
    "        if not changes:\n",
    "            break\n",
    "    else:\n",
    "        raise e\n",
    "\n",
    "    return mG\n",
    "            \n",
    "mG = core_algorithm(G)\n",
    "print(mG.code_length())\n",
    "mG._d3(size)"
   ]
  },
  {
   "cell_type": "code",
   "execution_count": 32,
   "metadata": {
    "collapsed": false
   },
   "outputs": [],
   "source": [
    "import itertools\n",
    "\n",
    "messier = nx.Graph()\n",
    "\n",
    "nodes = 100\n",
    "groups = 6\n",
    "group_size = nodes // groups\n",
    "\n",
    "messier.add_edges_from(e for e in itertools.combinations(range(nodes), 2) if random.random() < 0.025)\n",
    "for n in range(groups):\n",
    "    edges = itertools.combinations(range(n * group_size, (n + 1) * group_size), 2)\n",
    "    messier.add_edges_from(e for e in edges if random.random() < 0.4)"
   ]
  },
  {
   "cell_type": "code",
   "execution_count": 33,
   "metadata": {
    "collapsed": false
   },
   "outputs": [
    {
     "name": "stdout",
     "output_type": "stream",
     "text": [
      "5.48812732095\n"
     ]
    },
    {
     "data": {
      "text/html": [
       "<style>\n",
       "    .node {\n",
       "      stroke: #fff;\n",
       "      stroke-width: 1.5px;\n",
       "    }\n",
       "\n",
       "    .link {\n",
       "      stroke: #999;\n",
       "      stroke-opacity: .6;\n",
       "    }\n",
       "\n",
       "    .node text {\n",
       "      pointer-events: none;\n",
       "      font: 10px sans-serif;\n",
       "      color: #000;\n",
       "      stroke-width: 0;\n",
       "    }\n",
       "</style>\n",
       "<script>\n",
       "+function() {\n",
       "    var options = {\n",
       "        'divid': '#x82911941494e4a62abcf7ee709cdfb2c',\n",
       "        'data': {\"nodes\": [{\"group\": 1, \"name\": \"0\"}, {\"group\": 1, \"name\": \"1\"}, {\"group\": 1, \"name\": \"2\"}, {\"group\": 1, \"name\": \"3\"}, {\"group\": 1, \"name\": \"4\"}, {\"group\": 1, \"name\": \"5\"}, {\"group\": 1, \"name\": \"6\"}, {\"group\": 1, \"name\": \"7\"}, {\"group\": 1, \"name\": \"8\"}, {\"group\": 1, \"name\": \"9\"}, {\"group\": 1, \"name\": \"10\"}, {\"group\": 1, \"name\": \"11\"}, {\"group\": 1, \"name\": \"12\"}, {\"group\": 1, \"name\": \"13\"}, {\"group\": 1, \"name\": \"14\"}, {\"group\": 1, \"name\": \"15\"}, {\"group\": 31, \"name\": \"16\"}, {\"group\": 31, \"name\": \"17\"}, {\"group\": 31, \"name\": \"18\"}, {\"group\": 31, \"name\": \"19\"}, {\"group\": 31, \"name\": \"20\"}, {\"group\": 31, \"name\": \"21\"}, {\"group\": 31, \"name\": \"22\"}, {\"group\": 31, \"name\": \"23\"}, {\"group\": 31, \"name\": \"24\"}, {\"group\": 31, \"name\": \"25\"}, {\"group\": 31, \"name\": \"26\"}, {\"group\": 31, \"name\": \"27\"}, {\"group\": 97, \"name\": \"28\"}, {\"group\": 31, \"name\": \"29\"}, {\"group\": 31, \"name\": \"30\"}, {\"group\": 31, \"name\": \"31\"}, {\"group\": 40, \"name\": \"32\"}, {\"group\": 40, \"name\": \"33\"}, {\"group\": 40, \"name\": \"34\"}, {\"group\": 40, \"name\": \"35\"}, {\"group\": 40, \"name\": \"36\"}, {\"group\": 40, \"name\": \"37\"}, {\"group\": 40, \"name\": \"38\"}, {\"group\": 40, \"name\": \"39\"}, {\"group\": 40, \"name\": \"40\"}, {\"group\": 40, \"name\": \"41\"}, {\"group\": 40, \"name\": \"42\"}, {\"group\": 40, \"name\": \"43\"}, {\"group\": 40, \"name\": \"44\"}, {\"group\": 40, \"name\": \"45\"}, {\"group\": 40, \"name\": \"46\"}, {\"group\": 40, \"name\": \"47\"}, {\"group\": 50, \"name\": \"48\"}, {\"group\": 50, \"name\": \"49\"}, {\"group\": 50, \"name\": \"50\"}, {\"group\": 50, \"name\": \"51\"}, {\"group\": 50, \"name\": \"52\"}, {\"group\": 50, \"name\": \"53\"}, {\"group\": 50, \"name\": \"54\"}, {\"group\": 50, \"name\": \"55\"}, {\"group\": 50, \"name\": \"56\"}, {\"group\": 50, \"name\": \"57\"}, {\"group\": 97, \"name\": \"58\"}, {\"group\": 50, \"name\": \"59\"}, {\"group\": 50, \"name\": \"60\"}, {\"group\": 97, \"name\": \"61\"}, {\"group\": 50, \"name\": \"62\"}, {\"group\": 50, \"name\": \"63\"}, {\"group\": 78, \"name\": \"64\"}, {\"group\": 78, \"name\": \"65\"}, {\"group\": 78, \"name\": \"66\"}, {\"group\": 78, \"name\": \"67\"}, {\"group\": 78, \"name\": \"68\"}, {\"group\": 78, \"name\": \"69\"}, {\"group\": 78, \"name\": \"70\"}, {\"group\": 78, \"name\": \"71\"}, {\"group\": 78, \"name\": \"72\"}, {\"group\": 78, \"name\": \"73\"}, {\"group\": 78, \"name\": \"74\"}, {\"group\": 78, \"name\": \"75\"}, {\"group\": 78, \"name\": \"76\"}, {\"group\": 78, \"name\": \"77\"}, {\"group\": 78, \"name\": \"78\"}, {\"group\": 78, \"name\": \"79\"}, {\"group\": 82, \"name\": \"80\"}, {\"group\": 82, \"name\": \"81\"}, {\"group\": 82, \"name\": \"82\"}, {\"group\": 82, \"name\": \"83\"}, {\"group\": 82, \"name\": \"84\"}, {\"group\": 82, \"name\": \"85\"}, {\"group\": 82, \"name\": \"86\"}, {\"group\": 82, \"name\": \"87\"}, {\"group\": 82, \"name\": \"88\"}, {\"group\": 82, \"name\": \"89\"}, {\"group\": 82, \"name\": \"90\"}, {\"group\": 82, \"name\": \"91\"}, {\"group\": 82, \"name\": \"92\"}, {\"group\": 82, \"name\": \"93\"}, {\"group\": 82, \"name\": \"94\"}, {\"group\": 82, \"name\": \"95\"}, {\"group\": 40, \"name\": \"96\"}, {\"group\": 1, \"name\": \"97\"}, {\"group\": 31, \"name\": \"98\"}, {\"group\": 31, \"name\": \"99\"}], \"links\": [{\"target\": 33, \"value\": 1, \"source\": 0}, {\"target\": 3, \"value\": 1, \"source\": 0}, {\"target\": 37, \"value\": 1, \"source\": 0}, {\"target\": 6, \"value\": 1, \"source\": 0}, {\"target\": 1, \"value\": 1, \"source\": 0}, {\"target\": 8, \"value\": 1, \"source\": 0}, {\"target\": 9, \"value\": 1, \"source\": 0}, {\"target\": 7, \"value\": 1, \"source\": 0}, {\"target\": 15, \"value\": 1, \"source\": 0}, {\"target\": 2, \"value\": 1, \"source\": 1}, {\"target\": 4, \"value\": 1, \"source\": 1}, {\"target\": 5, \"value\": 1, \"source\": 1}, {\"target\": 70, \"value\": 1, \"source\": 1}, {\"target\": 7, \"value\": 1, \"source\": 1}, {\"target\": 73, \"value\": 1, \"source\": 1}, {\"target\": 6, \"value\": 1, \"source\": 1}, {\"target\": 15, \"value\": 1, \"source\": 1}, {\"target\": 10, \"value\": 1, \"source\": 1}, {\"target\": 13, \"value\": 1, \"source\": 1}, {\"target\": 34, \"value\": 1, \"source\": 2}, {\"target\": 3, \"value\": 1, \"source\": 2}, {\"target\": 21, \"value\": 1, \"source\": 2}, {\"target\": 33, \"value\": 1, \"source\": 2}, {\"target\": 8, \"value\": 1, \"source\": 2}, {\"target\": 10, \"value\": 1, \"source\": 2}, {\"target\": 7, \"value\": 1, \"source\": 2}, {\"target\": 13, \"value\": 1, \"source\": 2}, {\"target\": 4, \"value\": 1, \"source\": 3}, {\"target\": 5, \"value\": 1, \"source\": 3}, {\"target\": 6, \"value\": 1, \"source\": 3}, {\"target\": 7, \"value\": 1, \"source\": 3}, {\"target\": 9, \"value\": 1, \"source\": 3}, {\"target\": 11, \"value\": 1, \"source\": 3}, {\"target\": 13, \"value\": 1, \"source\": 3}, {\"target\": 14, \"value\": 1, \"source\": 3}, {\"target\": 15, \"value\": 1, \"source\": 3}, {\"target\": 81, \"value\": 1, \"source\": 3}, {\"target\": 23, \"value\": 1, \"source\": 3}, {\"target\": 32, \"value\": 1, \"source\": 4}, {\"target\": 6, \"value\": 1, \"source\": 4}, {\"target\": 71, \"value\": 1, \"source\": 4}, {\"target\": 10, \"value\": 1, \"source\": 4}, {\"target\": 12, \"value\": 1, \"source\": 4}, {\"target\": 15, \"value\": 1, \"source\": 4}, {\"target\": 11, \"value\": 1, \"source\": 5}, {\"target\": 97, \"value\": 1, \"source\": 5}, {\"target\": 66, \"value\": 1, \"source\": 5}, {\"target\": 6, \"value\": 1, \"source\": 5}, {\"target\": 8, \"value\": 1, \"source\": 5}, {\"target\": 9, \"value\": 1, \"source\": 5}, {\"target\": 10, \"value\": 1, \"source\": 5}, {\"target\": 39, \"value\": 1, \"source\": 5}, {\"target\": 64, \"value\": 1, \"source\": 6}, {\"target\": 8, \"value\": 1, \"source\": 6}, {\"target\": 88, \"value\": 1, \"source\": 6}, {\"target\": 12, \"value\": 1, \"source\": 6}, {\"target\": 13, \"value\": 1, \"source\": 6}, {\"target\": 12, \"value\": 1, \"source\": 7}, {\"target\": 15, \"value\": 1, \"source\": 7}, {\"target\": 15, \"value\": 1, \"source\": 8}, {\"target\": 11, \"value\": 1, \"source\": 8}, {\"target\": 95, \"value\": 1, \"source\": 8}, {\"target\": 12, \"value\": 1, \"source\": 9}, {\"target\": 13, \"value\": 1, \"source\": 9}, {\"target\": 54, \"value\": 1, \"source\": 10}, {\"target\": 26, \"value\": 1, \"source\": 10}, {\"target\": 13, \"value\": 1, \"source\": 10}, {\"target\": 14, \"value\": 1, \"source\": 10}, {\"target\": 83, \"value\": 1, \"source\": 11}, {\"target\": 87, \"value\": 1, \"source\": 11}, {\"target\": 67, \"value\": 1, \"source\": 11}, {\"target\": 13, \"value\": 1, \"source\": 11}, {\"target\": 63, \"value\": 1, \"source\": 11}, {\"target\": 97, \"value\": 1, \"source\": 12}, {\"target\": 60, \"value\": 1, \"source\": 12}, {\"target\": 14, \"value\": 1, \"source\": 12}, {\"target\": 68, \"value\": 1, \"source\": 13}, {\"target\": 14, \"value\": 1, \"source\": 13}, {\"target\": 15, \"value\": 1, \"source\": 13}, {\"target\": 75, \"value\": 1, \"source\": 13}, {\"target\": 41, \"value\": 1, \"source\": 13}, {\"target\": 48, \"value\": 1, \"source\": 15}, {\"target\": 25, \"value\": 1, \"source\": 16}, {\"target\": 26, \"value\": 1, \"source\": 16}, {\"target\": 99, \"value\": 1, \"source\": 16}, {\"target\": 30, \"value\": 1, \"source\": 16}, {\"target\": 64, \"value\": 1, \"source\": 17}, {\"target\": 21, \"value\": 1, \"source\": 17}, {\"target\": 88, \"value\": 1, \"source\": 17}, {\"target\": 26, \"value\": 1, \"source\": 17}, {\"target\": 27, \"value\": 1, \"source\": 17}, {\"target\": 29, \"value\": 1, \"source\": 17}, {\"target\": 63, \"value\": 1, \"source\": 17}, {\"target\": 83, \"value\": 1, \"source\": 18}, {\"target\": 21, \"value\": 1, \"source\": 18}, {\"target\": 22, \"value\": 1, \"source\": 18}, {\"target\": 23, \"value\": 1, \"source\": 18}, {\"target\": 25, \"value\": 1, \"source\": 18}, {\"target\": 74, \"value\": 1, \"source\": 18}, {\"target\": 43, \"value\": 1, \"source\": 18}, {\"target\": 28, \"value\": 1, \"source\": 18}, {\"target\": 29, \"value\": 1, \"source\": 18}, {\"target\": 35, \"value\": 1, \"source\": 19}, {\"target\": 99, \"value\": 1, \"source\": 19}, {\"target\": 21, \"value\": 1, \"source\": 19}, {\"target\": 22, \"value\": 1, \"source\": 19}, {\"target\": 23, \"value\": 1, \"source\": 19}, {\"target\": 27, \"value\": 1, \"source\": 19}, {\"target\": 30, \"value\": 1, \"source\": 19}, {\"target\": 25, \"value\": 1, \"source\": 20}, {\"target\": 23, \"value\": 1, \"source\": 20}, {\"target\": 24, \"value\": 1, \"source\": 20}, {\"target\": 73, \"value\": 1, \"source\": 20}, {\"target\": 26, \"value\": 1, \"source\": 20}, {\"target\": 27, \"value\": 1, \"source\": 20}, {\"target\": 30, \"value\": 1, \"source\": 20}, {\"target\": 63, \"value\": 1, \"source\": 20}, {\"target\": 35, \"value\": 1, \"source\": 21}, {\"target\": 30, \"value\": 1, \"source\": 21}, {\"target\": 31, \"value\": 1, \"source\": 21}, {\"target\": 25, \"value\": 1, \"source\": 22}, {\"target\": 26, \"value\": 1, \"source\": 22}, {\"target\": 30, \"value\": 1, \"source\": 22}, {\"target\": 31, \"value\": 1, \"source\": 22}, {\"target\": 51, \"value\": 1, \"source\": 23}, {\"target\": 99, \"value\": 1, \"source\": 23}, {\"target\": 25, \"value\": 1, \"source\": 23}, {\"target\": 27, \"value\": 1, \"source\": 23}, {\"target\": 45, \"value\": 1, \"source\": 23}, {\"target\": 30, \"value\": 1, \"source\": 23}, {\"target\": 77, \"value\": 1, \"source\": 23}, {\"target\": 35, \"value\": 1, \"source\": 24}, {\"target\": 71, \"value\": 1, \"source\": 25}, {\"target\": 89, \"value\": 1, \"source\": 25}, {\"target\": 58, \"value\": 1, \"source\": 25}, {\"target\": 26, \"value\": 1, \"source\": 25}, {\"target\": 30, \"value\": 1, \"source\": 25}, {\"target\": 96, \"value\": 1, \"source\": 26}, {\"target\": 98, \"value\": 1, \"source\": 26}, {\"target\": 75, \"value\": 1, \"source\": 26}, {\"target\": 78, \"value\": 1, \"source\": 26}, {\"target\": 84, \"value\": 1, \"source\": 26}, {\"target\": 30, \"value\": 1, \"source\": 26}, {\"target\": 99, \"value\": 1, \"source\": 27}, {\"target\": 29, \"value\": 1, \"source\": 27}, {\"target\": 82, \"value\": 1, \"source\": 28}, {\"target\": 36, \"value\": 1, \"source\": 28}, {\"target\": 85, \"value\": 1, \"source\": 28}, {\"target\": 58, \"value\": 1, \"source\": 28}, {\"target\": 31, \"value\": 1, \"source\": 28}, {\"target\": 44, \"value\": 1, \"source\": 28}, {\"target\": 79, \"value\": 1, \"source\": 28}, {\"target\": 50, \"value\": 1, \"source\": 29}, {\"target\": 99, \"value\": 1, \"source\": 29}, {\"target\": 84, \"value\": 1, \"source\": 29}, {\"target\": 77, \"value\": 1, \"source\": 29}, {\"target\": 31, \"value\": 1, \"source\": 29}, {\"target\": 73, \"value\": 1, \"source\": 30}, {\"target\": 47, \"value\": 1, \"source\": 30}, {\"target\": 44, \"value\": 1, \"source\": 31}, {\"target\": 74, \"value\": 1, \"source\": 31}, {\"target\": 35, \"value\": 1, \"source\": 32}, {\"target\": 37, \"value\": 1, \"source\": 32}, {\"target\": 38, \"value\": 1, \"source\": 32}, {\"target\": 40, \"value\": 1, \"source\": 32}, {\"target\": 41, \"value\": 1, \"source\": 32}, {\"target\": 47, \"value\": 1, \"source\": 32}, {\"target\": 99, \"value\": 1, \"source\": 33}, {\"target\": 52, \"value\": 1, \"source\": 33}, {\"target\": 38, \"value\": 1, \"source\": 33}, {\"target\": 90, \"value\": 1, \"source\": 33}, {\"target\": 44, \"value\": 1, \"source\": 33}, {\"target\": 45, \"value\": 1, \"source\": 33}, {\"target\": 47, \"value\": 1, \"source\": 33}, {\"target\": 35, \"value\": 1, \"source\": 34}, {\"target\": 36, \"value\": 1, \"source\": 34}, {\"target\": 41, \"value\": 1, \"source\": 34}, {\"target\": 38, \"value\": 1, \"source\": 34}, {\"target\": 55, \"value\": 1, \"source\": 34}, {\"target\": 89, \"value\": 1, \"source\": 34}, {\"target\": 43, \"value\": 1, \"source\": 34}, {\"target\": 44, \"value\": 1, \"source\": 34}, {\"target\": 45, \"value\": 1, \"source\": 34}, {\"target\": 95, \"value\": 1, \"source\": 34}, {\"target\": 39, \"value\": 1, \"source\": 35}, {\"target\": 41, \"value\": 1, \"source\": 35}, {\"target\": 45, \"value\": 1, \"source\": 35}, {\"target\": 38, \"value\": 1, \"source\": 36}, {\"target\": 39, \"value\": 1, \"source\": 36}, {\"target\": 41, \"value\": 1, \"source\": 36}, {\"target\": 47, \"value\": 1, \"source\": 36}, {\"target\": 49, \"value\": 1, \"source\": 37}, {\"target\": 44, \"value\": 1, \"source\": 37}, {\"target\": 96, \"value\": 1, \"source\": 38}, {\"target\": 67, \"value\": 1, \"source\": 38}, {\"target\": 41, \"value\": 1, \"source\": 38}, {\"target\": 42, \"value\": 1, \"source\": 38}, {\"target\": 45, \"value\": 1, \"source\": 38}, {\"target\": 46, \"value\": 1, \"source\": 38}, {\"target\": 47, \"value\": 1, \"source\": 38}, {\"target\": 90, \"value\": 1, \"source\": 38}, {\"target\": 40, \"value\": 1, \"source\": 39}, {\"target\": 43, \"value\": 1, \"source\": 39}, {\"target\": 46, \"value\": 1, \"source\": 39}, {\"target\": 85, \"value\": 1, \"source\": 39}, {\"target\": 42, \"value\": 1, \"source\": 40}, {\"target\": 43, \"value\": 1, \"source\": 40}, {\"target\": 42, \"value\": 1, \"source\": 41}, {\"target\": 45, \"value\": 1, \"source\": 41}, {\"target\": 44, \"value\": 1, \"source\": 41}, {\"target\": 61, \"value\": 1, \"source\": 41}, {\"target\": 43, \"value\": 1, \"source\": 42}, {\"target\": 46, \"value\": 1, \"source\": 42}, {\"target\": 74, \"value\": 1, \"source\": 43}, {\"target\": 47, \"value\": 1, \"source\": 43}, {\"target\": 46, \"value\": 1, \"source\": 43}, {\"target\": 45, \"value\": 1, \"source\": 43}, {\"target\": 46, \"value\": 1, \"source\": 44}, {\"target\": 47, \"value\": 1, \"source\": 45}, {\"target\": 64, \"value\": 1, \"source\": 46}, {\"target\": 67, \"value\": 1, \"source\": 46}, {\"target\": 47, \"value\": 1, \"source\": 46}, {\"target\": 65, \"value\": 1, \"source\": 47}, {\"target\": 74, \"value\": 1, \"source\": 47}, {\"target\": 49, \"value\": 1, \"source\": 48}, {\"target\": 50, \"value\": 1, \"source\": 48}, {\"target\": 51, \"value\": 1, \"source\": 48}, {\"target\": 54, \"value\": 1, \"source\": 48}, {\"target\": 56, \"value\": 1, \"source\": 48}, {\"target\": 57, \"value\": 1, \"source\": 48}, {\"target\": 62, \"value\": 1, \"source\": 48}, {\"target\": 55, \"value\": 1, \"source\": 49}, {\"target\": 59, \"value\": 1, \"source\": 49}, {\"target\": 62, \"value\": 1, \"source\": 49}, {\"target\": 63, \"value\": 1, \"source\": 49}, {\"target\": 51, \"value\": 1, \"source\": 50}, {\"target\": 52, \"value\": 1, \"source\": 50}, {\"target\": 53, \"value\": 1, \"source\": 50}, {\"target\": 57, \"value\": 1, \"source\": 50}, {\"target\": 62, \"value\": 1, \"source\": 50}, {\"target\": 93, \"value\": 1, \"source\": 50}, {\"target\": 80, \"value\": 1, \"source\": 51}, {\"target\": 59, \"value\": 1, \"source\": 51}, {\"target\": 53, \"value\": 1, \"source\": 51}, {\"target\": 54, \"value\": 1, \"source\": 51}, {\"target\": 55, \"value\": 1, \"source\": 51}, {\"target\": 60, \"value\": 1, \"source\": 51}, {\"target\": 54, \"value\": 1, \"source\": 52}, {\"target\": 55, \"value\": 1, \"source\": 52}, {\"target\": 59, \"value\": 1, \"source\": 52}, {\"target\": 63, \"value\": 1, \"source\": 52}, {\"target\": 99, \"value\": 1, \"source\": 53}, {\"target\": 54, \"value\": 1, \"source\": 53}, {\"target\": 55, \"value\": 1, \"source\": 53}, {\"target\": 56, \"value\": 1, \"source\": 53}, {\"target\": 57, \"value\": 1, \"source\": 53}, {\"target\": 59, \"value\": 1, \"source\": 53}, {\"target\": 61, \"value\": 1, \"source\": 53}, {\"target\": 62, \"value\": 1, \"source\": 53}, {\"target\": 58, \"value\": 1, \"source\": 54}, {\"target\": 68, \"value\": 1, \"source\": 54}, {\"target\": 60, \"value\": 1, \"source\": 54}, {\"target\": 74, \"value\": 1, \"source\": 54}, {\"target\": 59, \"value\": 1, \"source\": 55}, {\"target\": 60, \"value\": 1, \"source\": 55}, {\"target\": 82, \"value\": 1, \"source\": 55}, {\"target\": 63, \"value\": 1, \"source\": 55}, {\"target\": 81, \"value\": 1, \"source\": 56}, {\"target\": 57, \"value\": 1, \"source\": 56}, {\"target\": 60, \"value\": 1, \"source\": 56}, {\"target\": 62, \"value\": 1, \"source\": 56}, {\"target\": 63, \"value\": 1, \"source\": 56}, {\"target\": 59, \"value\": 1, \"source\": 57}, {\"target\": 97, \"value\": 1, \"source\": 58}, {\"target\": 65, \"value\": 1, \"source\": 58}, {\"target\": 61, \"value\": 1, \"source\": 58}, {\"target\": 62, \"value\": 1, \"source\": 58}, {\"target\": 60, \"value\": 1, \"source\": 59}, {\"target\": 62, \"value\": 1, \"source\": 59}, {\"target\": 62, \"value\": 1, \"source\": 60}, {\"target\": 88, \"value\": 1, \"source\": 61}, {\"target\": 77, \"value\": 1, \"source\": 61}, {\"target\": 63, \"value\": 1, \"source\": 61}, {\"target\": 63, \"value\": 1, \"source\": 62}, {\"target\": 67, \"value\": 1, \"source\": 64}, {\"target\": 65, \"value\": 1, \"source\": 64}, {\"target\": 72, \"value\": 1, \"source\": 64}, {\"target\": 73, \"value\": 1, \"source\": 64}, {\"target\": 79, \"value\": 1, \"source\": 64}, {\"target\": 78, \"value\": 1, \"source\": 64}, {\"target\": 94, \"value\": 1, \"source\": 64}, {\"target\": 69, \"value\": 1, \"source\": 64}, {\"target\": 66, \"value\": 1, \"source\": 65}, {\"target\": 68, \"value\": 1, \"source\": 65}, {\"target\": 74, \"value\": 1, \"source\": 65}, {\"target\": 70, \"value\": 1, \"source\": 65}, {\"target\": 72, \"value\": 1, \"source\": 65}, {\"target\": 79, \"value\": 1, \"source\": 65}, {\"target\": 77, \"value\": 1, \"source\": 65}, {\"target\": 76, \"value\": 1, \"source\": 66}, {\"target\": 68, \"value\": 1, \"source\": 66}, {\"target\": 70, \"value\": 1, \"source\": 66}, {\"target\": 73, \"value\": 1, \"source\": 66}, {\"target\": 74, \"value\": 1, \"source\": 66}, {\"target\": 92, \"value\": 1, \"source\": 66}, {\"target\": 77, \"value\": 1, \"source\": 66}, {\"target\": 78, \"value\": 1, \"source\": 66}, {\"target\": 79, \"value\": 1, \"source\": 66}, {\"target\": 75, \"value\": 1, \"source\": 67}, {\"target\": 70, \"value\": 1, \"source\": 67}, {\"target\": 71, \"value\": 1, \"source\": 67}, {\"target\": 72, \"value\": 1, \"source\": 67}, {\"target\": 76, \"value\": 1, \"source\": 67}, {\"target\": 78, \"value\": 1, \"source\": 67}, {\"target\": 71, \"value\": 1, \"source\": 68}, {\"target\": 73, \"value\": 1, \"source\": 68}, {\"target\": 74, \"value\": 1, \"source\": 68}, {\"target\": 78, \"value\": 1, \"source\": 68}, {\"target\": 73, \"value\": 1, \"source\": 69}, {\"target\": 75, \"value\": 1, \"source\": 69}, {\"target\": 78, \"value\": 1, \"source\": 69}, {\"target\": 71, \"value\": 1, \"source\": 70}, {\"target\": 72, \"value\": 1, \"source\": 70}, {\"target\": 73, \"value\": 1, \"source\": 70}, {\"target\": 75, \"value\": 1, \"source\": 70}, {\"target\": 78, \"value\": 1, \"source\": 71}, {\"target\": 75, \"value\": 1, \"source\": 71}, {\"target\": 95, \"value\": 1, \"source\": 71}, {\"target\": 74, \"value\": 1, \"source\": 72}, {\"target\": 75, \"value\": 1, \"source\": 72}, {\"target\": 76, \"value\": 1, \"source\": 72}, {\"target\": 77, \"value\": 1, \"source\": 72}, {\"target\": 94, \"value\": 1, \"source\": 72}, {\"target\": 79, \"value\": 1, \"source\": 72}, {\"target\": 74, \"value\": 1, \"source\": 73}, {\"target\": 76, \"value\": 1, \"source\": 73}, {\"target\": 78, \"value\": 1, \"source\": 73}, {\"target\": 82, \"value\": 1, \"source\": 74}, {\"target\": 77, \"value\": 1, \"source\": 74}, {\"target\": 80, \"value\": 1, \"source\": 74}, {\"target\": 78, \"value\": 1, \"source\": 74}, {\"target\": 87, \"value\": 1, \"source\": 74}, {\"target\": 76, \"value\": 1, \"source\": 75}, {\"target\": 78, \"value\": 1, \"source\": 75}, {\"target\": 77, \"value\": 1, \"source\": 76}, {\"target\": 79, \"value\": 1, \"source\": 76}, {\"target\": 78, \"value\": 1, \"source\": 77}, {\"target\": 94, \"value\": 1, \"source\": 78}, {\"target\": 83, \"value\": 1, \"source\": 80}, {\"target\": 89, \"value\": 1, \"source\": 80}, {\"target\": 92, \"value\": 1, \"source\": 80}, {\"target\": 95, \"value\": 1, \"source\": 80}, {\"target\": 82, \"value\": 1, \"source\": 81}, {\"target\": 83, \"value\": 1, \"source\": 81}, {\"target\": 86, \"value\": 1, \"source\": 81}, {\"target\": 91, \"value\": 1, \"source\": 81}, {\"target\": 97, \"value\": 1, \"source\": 82}, {\"target\": 83, \"value\": 1, \"source\": 82}, {\"target\": 84, \"value\": 1, \"source\": 82}, {\"target\": 86, \"value\": 1, \"source\": 82}, {\"target\": 89, \"value\": 1, \"source\": 82}, {\"target\": 91, \"value\": 1, \"source\": 82}, {\"target\": 92, \"value\": 1, \"source\": 82}, {\"target\": 93, \"value\": 1, \"source\": 82}, {\"target\": 94, \"value\": 1, \"source\": 82}, {\"target\": 91, \"value\": 1, \"source\": 83}, {\"target\": 87, \"value\": 1, \"source\": 83}, {\"target\": 89, \"value\": 1, \"source\": 83}, {\"target\": 92, \"value\": 1, \"source\": 83}, {\"target\": 95, \"value\": 1, \"source\": 83}, {\"target\": 99, \"value\": 1, \"source\": 84}, {\"target\": 86, \"value\": 1, \"source\": 84}, {\"target\": 87, \"value\": 1, \"source\": 84}, {\"target\": 88, \"value\": 1, \"source\": 84}, {\"target\": 91, \"value\": 1, \"source\": 84}, {\"target\": 94, \"value\": 1, \"source\": 84}, {\"target\": 95, \"value\": 1, \"source\": 84}, {\"target\": 89, \"value\": 1, \"source\": 85}, {\"target\": 90, \"value\": 1, \"source\": 85}, {\"target\": 94, \"value\": 1, \"source\": 85}, {\"target\": 95, \"value\": 1, \"source\": 85}, {\"target\": 87, \"value\": 1, \"source\": 86}, {\"target\": 89, \"value\": 1, \"source\": 86}, {\"target\": 90, \"value\": 1, \"source\": 86}, {\"target\": 92, \"value\": 1, \"source\": 86}, {\"target\": 95, \"value\": 1, \"source\": 86}, {\"target\": 91, \"value\": 1, \"source\": 87}, {\"target\": 89, \"value\": 1, \"source\": 87}, {\"target\": 92, \"value\": 1, \"source\": 87}, {\"target\": 93, \"value\": 1, \"source\": 87}, {\"target\": 94, \"value\": 1, \"source\": 87}, {\"target\": 95, \"value\": 1, \"source\": 87}, {\"target\": 89, \"value\": 1, \"source\": 88}, {\"target\": 90, \"value\": 1, \"source\": 88}, {\"target\": 94, \"value\": 1, \"source\": 88}, {\"target\": 90, \"value\": 1, \"source\": 89}, {\"target\": 95, \"value\": 1, \"source\": 89}, {\"target\": 93, \"value\": 1, \"source\": 90}, {\"target\": 94, \"value\": 1, \"source\": 90}, {\"target\": 95, \"value\": 1, \"source\": 91}, {\"target\": 93, \"value\": 1, \"source\": 92}, {\"target\": 94, \"value\": 1, \"source\": 93}, {\"target\": 95, \"value\": 1, \"source\": 93}, {\"target\": 95, \"value\": 1, \"source\": 94}]},\n",
       "        'width': 600,\n",
       "        'height': 400,\n",
       "        'linkdistance': 50\n",
       "    }\n",
       "\n",
       "    if (window.d3 === undefined) {\n",
       "        console.log('Loading D3 from CDN');\n",
       "        $.getScript('https://cdnjs.cloudflare.com/ajax/libs/d3/3.5.7/d3.js')\n",
       "            .done(function() {\n",
       "                plot_force(options);\n",
       "            });\n",
       "    } else {\n",
       "        plot_force(options);\n",
       "    }\n",
       "\n",
       "    function plot_force(o) {\n",
       "        var color = d3.scale.category20();\n",
       "\n",
       "        var svg = d3.select(o.divid).append(\"svg\")\n",
       "            .attr(\"width\", o.width)\n",
       "            .attr(\"height\", o.height);\n",
       "\n",
       "        var force = d3.layout.force()\n",
       "            .charge(-120)\n",
       "            .linkDistance(o.linkdistance)\n",
       "            .size([o.width, o.height])\n",
       "            .nodes(o.data.nodes)\n",
       "            .links(o.data.links)\n",
       "            .start();\n",
       "\n",
       "        var link = svg.selectAll(\".link\")\n",
       "                .data(o.data.links)\n",
       "            .enter().append(\"line\")\n",
       "                .attr(\"class\", \"link\")\n",
       "                .style(\"stroke-width\", function(d) { return Math.sqrt(d.value); });\n",
       "\n",
       "        var node = svg.selectAll(\".node\")\n",
       "                .data(o.data.nodes)\n",
       "            .enter().append(\"g\")\n",
       "                .attr(\"class\", \"node\")\n",
       "                .call(force.drag)\n",
       "\n",
       "        node.append(\"circle\")\n",
       "            .attr(\"r\", 5)\n",
       "            .style(\"fill\", function(d) { return color(d.group); });\n",
       "\n",
       "        /*node.append(\"title\")\n",
       "            .text(function(d) { return d.name; });*/\n",
       "\n",
       "        \n",
       "\n",
       "        force.on(\"tick\", function() {\n",
       "            link.attr(\"x1\", function(d) { return d.source.x; })\n",
       "                .attr(\"y1\", function(d) { return d.source.y; })\n",
       "                .attr(\"x2\", function(d) { return d.target.x; })\n",
       "                .attr(\"y2\", function(d) { return d.target.y; });\n",
       "\n",
       "            node.attr(\"transform\", function(d) { return \"translate(\" + d.x + \",\" + d.y + \")\"; });\n",
       "        });\n",
       "    }\n",
       "}();\n",
       "</script>\n",
       "<div id=\"x82911941494e4a62abcf7ee709cdfb2c\">\n",
       "</div>"
      ],
      "text/plain": [
       "<IPython.core.display.HTML object>"
      ]
     },
     "execution_count": 33,
     "metadata": {},
     "output_type": "execute_result"
    }
   ],
   "source": [
    "mess = core_algorithm(messier, 10)\n",
    "print(mess.code_length())\n",
    "mess._d3(linkdistance=50)"
   ]
  },
  {
   "cell_type": "code",
   "execution_count": null,
   "metadata": {
    "collapsed": true
   },
   "outputs": [],
   "source": []
  }
 ],
 "metadata": {
  "kernelspec": {
   "display_name": "Python 3",
   "language": "python",
   "name": "python3"
  },
  "language_info": {
   "codemirror_mode": {
    "name": "ipython",
    "version": 3
   },
   "file_extension": ".py",
   "mimetype": "text/x-python",
   "name": "python",
   "nbconvert_exporter": "python",
   "pygments_lexer": "ipython3",
   "version": "3.5.1"
  }
 },
 "nbformat": 4,
 "nbformat_minor": 0
}
