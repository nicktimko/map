{
 "cells": [
  {
   "cell_type": "markdown",
   "metadata": {},
   "source": [
    "# The map equation\n",
    "http://www.mapequation.org/assets/publications/EurPhysJ2010Rosvall.pdf\n"
   ]
  },
  {
   "cell_type": "code",
   "execution_count": 1,
   "metadata": {
    "collapsed": true
   },
   "outputs": [],
   "source": [
    "%matplotlib inline"
   ]
  },
  {
   "cell_type": "code",
   "execution_count": 2,
   "metadata": {
    "collapsed": false
   },
   "outputs": [],
   "source": [
    "import math\n",
    "import random\n",
    "import time\n",
    "\n",
    "import networkx as nx\n",
    "import numpy as np\n",
    "import matplotlib.pyplot as plt\n",
    "import d3shims"
   ]
  },
  {
   "cell_type": "code",
   "execution_count": 3,
   "metadata": {
    "collapsed": true
   },
   "outputs": [],
   "source": [
    "G = nx.Graph()\n",
    "G.add_edges_from([\n",
    "    (1, 2), (1, 3), (2, 3), (4, 2), (5, 2), (5, 6), (2, 6), \n",
    "    (3, 6), (3, 7), (7, 8), (7, 9), (7, 10), (9, 10), (9, 11), \n",
    "    (8, 9), (8, 12), (9, 12), (11, 12), (13, 12), (13, 11), \n",
    "    (13, 10), (13, 14), (14, 15), (14, 16), (15, 16), (15, 17), \n",
    "    (16, 17), (16, 18), (18, 19), (19, 20), (20, 18), (18, 21), \n",
    "    (21, 22), (22, 20), (19, 22), (23, 22), (24, 22), (25, 22), \n",
    "    (25, 24), (25, 21), (25, 10),\n",
    "])\n",
    "\n",
    "optimal_modules = [\n",
    "    [1, 2, 3, 4, 5, 6],\n",
    "    [7, 8, 9, 10, 11, 12, 13],\n",
    "    [14, 15, 16, 17],\n",
    "    [18, 19, 20, 21, 22, 23, 24, 25],\n",
    "]"
   ]
  },
  {
   "cell_type": "code",
   "execution_count": 4,
   "metadata": {
    "collapsed": false
   },
   "outputs": [
    {
     "data": {
      "text/html": [
       "<style>\n",
       "    .node {\n",
       "      stroke: #fff;\n",
       "      stroke-width: 1.5px;\n",
       "    }\n",
       "\n",
       "    .link {\n",
       "      stroke: #999;\n",
       "      stroke-opacity: .6;\n",
       "    }\n",
       "\n",
       "    .node text {\n",
       "      pointer-events: none;\n",
       "      font: 10px sans-serif;\n",
       "      color: #000;\n",
       "      stroke-width: 0;\n",
       "    }\n",
       "</style>\n",
       "<script>\n",
       "+function() {\n",
       "    var options = {\n",
       "        'divid': '#xc7c5600e2cf649abb56db8fe3881527f',\n",
       "        'data': {\"links\": [{\"value\": 1, \"source\": 0, \"target\": 1}, {\"value\": 1, \"source\": 0, \"target\": 2}, {\"value\": 1, \"source\": 1, \"target\": 2}, {\"value\": 1, \"source\": 1, \"target\": 3}, {\"value\": 1, \"source\": 1, \"target\": 4}, {\"value\": 1, \"source\": 1, \"target\": 5}, {\"value\": 1, \"source\": 2, \"target\": 5}, {\"value\": 1, \"source\": 2, \"target\": 6}, {\"value\": 1, \"source\": 4, \"target\": 5}, {\"value\": 1, \"source\": 6, \"target\": 7}, {\"value\": 1, \"source\": 6, \"target\": 8}, {\"value\": 1, \"source\": 6, \"target\": 9}, {\"value\": 1, \"source\": 7, \"target\": 8}, {\"value\": 1, \"source\": 7, \"target\": 11}, {\"value\": 1, \"source\": 8, \"target\": 9}, {\"value\": 1, \"source\": 8, \"target\": 10}, {\"value\": 1, \"source\": 8, \"target\": 11}, {\"value\": 1, \"source\": 9, \"target\": 24}, {\"value\": 1, \"source\": 9, \"target\": 12}, {\"value\": 1, \"source\": 10, \"target\": 11}, {\"value\": 1, \"source\": 10, \"target\": 12}, {\"value\": 1, \"source\": 11, \"target\": 12}, {\"value\": 1, \"source\": 12, \"target\": 13}, {\"value\": 1, \"source\": 13, \"target\": 15}, {\"value\": 1, \"source\": 13, \"target\": 14}, {\"value\": 1, \"source\": 14, \"target\": 15}, {\"value\": 1, \"source\": 14, \"target\": 16}, {\"value\": 1, \"source\": 15, \"target\": 16}, {\"value\": 1, \"source\": 15, \"target\": 17}, {\"value\": 1, \"source\": 17, \"target\": 18}, {\"value\": 1, \"source\": 17, \"target\": 19}, {\"value\": 1, \"source\": 17, \"target\": 20}, {\"value\": 1, \"source\": 18, \"target\": 19}, {\"value\": 1, \"source\": 18, \"target\": 21}, {\"value\": 1, \"source\": 19, \"target\": 21}, {\"value\": 1, \"source\": 20, \"target\": 24}, {\"value\": 1, \"source\": 20, \"target\": 21}, {\"value\": 1, \"source\": 21, \"target\": 22}, {\"value\": 1, \"source\": 21, \"target\": 23}, {\"value\": 1, \"source\": 21, \"target\": 24}, {\"value\": 1, \"source\": 23, \"target\": 24}], \"nodes\": [{\"name\": \"1\", \"group\": 0}, {\"name\": \"2\", \"group\": 0}, {\"name\": \"3\", \"group\": 0}, {\"name\": \"4\", \"group\": 0}, {\"name\": \"5\", \"group\": 0}, {\"name\": \"6\", \"group\": 0}, {\"name\": \"7\", \"group\": 0}, {\"name\": \"8\", \"group\": 0}, {\"name\": \"9\", \"group\": 0}, {\"name\": \"10\", \"group\": 0}, {\"name\": \"11\", \"group\": 0}, {\"name\": \"12\", \"group\": 0}, {\"name\": \"13\", \"group\": 0}, {\"name\": \"14\", \"group\": 0}, {\"name\": \"15\", \"group\": 0}, {\"name\": \"16\", \"group\": 0}, {\"name\": \"17\", \"group\": 0}, {\"name\": \"18\", \"group\": 0}, {\"name\": \"19\", \"group\": 0}, {\"name\": \"20\", \"group\": 0}, {\"name\": \"21\", \"group\": 0}, {\"name\": \"22\", \"group\": 0}, {\"name\": \"23\", \"group\": 0}, {\"name\": \"24\", \"group\": 0}, {\"name\": \"25\", \"group\": 0}]},\n",
       "        'width': 300,\n",
       "        'height': 300,\n",
       "        'linkdistance': 30\n",
       "    }\n",
       "\n",
       "    if (window.d3 === undefined) {\n",
       "        console.log('Loading D3 from CDN');\n",
       "        $.getScript('https://cdnjs.cloudflare.com/ajax/libs/d3/3.5.7/d3.js')\n",
       "            .done(function() {\n",
       "                plot_force(options);\n",
       "            });\n",
       "    } else {\n",
       "        plot_force(options);\n",
       "    }\n",
       "\n",
       "    function plot_force(o) {\n",
       "        var color = d3.scale.category20();\n",
       "\n",
       "        var svg = d3.select(o.divid).append(\"svg\")\n",
       "            .attr(\"width\", o.width)\n",
       "            .attr(\"height\", o.height);\n",
       "\n",
       "        var force = d3.layout.force()\n",
       "            .charge(-120)\n",
       "            .linkDistance(o.linkdistance)\n",
       "            .size([o.width, o.height])\n",
       "            .nodes(o.data.nodes)\n",
       "            .links(o.data.links)\n",
       "            .start();\n",
       "\n",
       "        var link = svg.selectAll(\".link\")\n",
       "                .data(o.data.links)\n",
       "            .enter().append(\"line\")\n",
       "                .attr(\"class\", \"link\")\n",
       "                .style(\"stroke-width\", function(d) { return Math.sqrt(d.value); });\n",
       "\n",
       "        var node = svg.selectAll(\".node\")\n",
       "                .data(o.data.nodes)\n",
       "            .enter().append(\"g\")\n",
       "                .attr(\"class\", \"node\")\n",
       "                .call(force.drag)\n",
       "\n",
       "        node.append(\"circle\")\n",
       "            .attr(\"r\", 5)\n",
       "            .style(\"fill\", function(d) { return color(d.group); });\n",
       "\n",
       "        /*node.append(\"title\")\n",
       "            .text(function(d) { return d.name; });*/\n",
       "\n",
       "        \n",
       "\n",
       "        force.on(\"tick\", function() {\n",
       "            link.attr(\"x1\", function(d) { return d.source.x; })\n",
       "                .attr(\"y1\", function(d) { return d.source.y; })\n",
       "                .attr(\"x2\", function(d) { return d.target.x; })\n",
       "                .attr(\"y2\", function(d) { return d.target.y; });\n",
       "\n",
       "            node.attr(\"transform\", function(d) { return \"translate(\" + d.x + \",\" + d.y + \")\"; });\n",
       "        });\n",
       "    }\n",
       "}();\n",
       "</script>\n",
       "<div id=\"xc7c5600e2cf649abb56db8fe3881527f\">\n",
       "</div>"
      ],
      "text/plain": [
       "<IPython.core.display.HTML object>"
      ]
     },
     "execution_count": 4,
     "metadata": {},
     "output_type": "execute_result"
    }
   ],
   "source": [
    "d3shims.nx_force(G, size=(300, 300))"
   ]
  },
  {
   "cell_type": "markdown",
   "metadata": {},
   "source": [
    "For a module partition $M$ of $n$ nodes $α = 1, 2,...,n$ into $m$ modules $i = 1, 2,...,m$, we define this lower bound on code length to be $L(M)$. To calculate $L$ for an arbitrary partition, we first invoke [Shannon's source coding theorem](https://en.wikipedia.org/wiki/Shannon%27s_source_coding_theorem), which implies that when you use $n$ codewords to describe the $n$ states of a random variable $X$ that occur with frequencies $p_i$, the average length of a codeword can be no less than the entropy of the random variable $X$ itself: $H(X) = - \\sum p_i log_2(p_i)$ (we measure code lengths in bits and take the logarithm in base 2)."
   ]
  },
  {
   "cell_type": "code",
   "execution_count": 5,
   "metadata": {
    "collapsed": true
   },
   "outputs": [],
   "source": [
    "freqs = [100, 10]\n",
    "n = len(freqs)\n",
    "pi = [f / sum(freqs) for f in freqs]"
   ]
  },
  {
   "cell_type": "code",
   "execution_count": 6,
   "metadata": {
    "collapsed": false
   },
   "outputs": [
    {
     "name": "stdout",
     "output_type": "stream",
     "text": [
      "Theoretical minimum to encode each state: 0.439 bits\n"
     ]
    }
   ],
   "source": [
    "H = -sum(p * math.log2(p) for p in pi)\n",
    "print('Theoretical minimum to encode each state: {:0.3f} bits'.format(H))"
   ]
  },
  {
   "cell_type": "markdown",
   "metadata": {},
   "source": [
    "---\n",
    "\n",
    "### Sidebar: Random Walker probability of visiting any given node in an undirected graph\n",
    "\n",
    "Equal to the number of neighbors the node has, divided by twice (one per link end) the total edge weight of the graph: \"relative weight\", $w_\\alpha$."
   ]
  },
  {
   "cell_type": "code",
   "execution_count": 7,
   "metadata": {
    "collapsed": false
   },
   "outputs": [],
   "source": [
    "nodes = G.nodes()\n",
    "edges = G.edges()\n",
    "\n",
    "neighbors = [len(G.neighbors(n)) for n in nodes]\n",
    "counts = {k: 0 for k in nodes}\n",
    "loc = random.choice(list(counts.keys()))\n",
    "\n",
    "iters = int(5e5)\n",
    "for step in range(iters):\n",
    "    loc = random.choice(G.neighbors(loc))\n",
    "    counts[loc] += 1"
   ]
  },
  {
   "cell_type": "code",
   "execution_count": 8,
   "metadata": {
    "collapsed": false
   },
   "outputs": [
    {
     "data": {
      "image/png": "[encoded data removed]",
      "text/plain": [
       "<matplotlib.figure.Figure at 0x108eda6d8>"
      ]
     },
     "metadata": {},
     "output_type": "display_data"
    }
   ],
   "source": [
    "f, ax = plt.subplots()\n",
    "ax.plot([n/len(edges)/2 for n in neighbors], [counts[n]/iters for n in nodes], 'ro')\n",
    "ax.set_xlim(left=0)\n",
    "ax.set_ylim(bottom=0)\n",
    "ax.set_xlabel('Relative weight')\n",
    "ax.set_ylabel('Frequency of random walk hitting node')\n",
    "plt.show()"
   ]
  },
  {
   "cell_type": "markdown",
   "metadata": {},
   "source": [
    "---\n",
    "\n",
    "## The equation\n",
    "  \n",
    "$$L(\\mathsf{M}) = q_\\curvearrowright H(\\mathcal{Q}) + \\sum_{i = 1}^{m}p^i_\\circlearrowright H(\\mathcal{P}^i)$$\n",
    "\n",
    "* $H(\\mathcal{Q})$ - frequency weighted average length of codewords in the index codebook\n",
    "* $H(\\mathcal{P}^i)$ - frequency weighted average length of codewords in the module cookbook $i$\n",
    "* $q_{i\\curvearrowright}$ - probability to exit module $i$\n",
    "  * $q_{\\curvearrowright} = \\sum_i q_{i\\curvearrowright}$  - probability to exit any module and use the module cookbook\n",
    "* $p_\\alpha$ - probability to visit node $\\alpha$\n",
    "  * $p^i_\\circlearrowright = \\sum_{\\alpha \\in i} p_\\alpha + q_{i \\curvearrowright}$ - probability to use the module cookbook $i$: how often the random walk is in the module plus the frequency that the module is exited\n",
    "\n",
    "For convienence, let $f(x) = x \\log x$\n",
    "\n",
    "$$H(\\mathcal{Q}) = - \\sum^m_{i=1}{f\\left(\\frac{q_{i \\curvearrowright}}{\\sum^m_{j=1}{q_{j \\curvearrowright}}}\\right)}$$\n",
    "\n",
    "$$H(\\mathcal{P}^i) = \n",
    " - f\\left(\\frac{q_{i \\curvearrowright}}{q_{i \\curvearrowright} + \\sum_{\\beta \\in i}{p_\\beta}}\\right) \n",
    " - \\sum_{\\alpha \\in i}{f\\left(\\frac{p_\\alpha}{q_{i \\curvearrowright} + \\sum_{\\beta \\in i}{p_\\beta}}\\right)}$$\n",
    "\n",
    "After combining and simplifying\n",
    "\n",
    "$$L(\\mathsf{M}) = \n",
    " f\\left(\\sum^{m}_{i=1}{q_{i \\curvearrowright}}\\right)\n",
    " - 2 \\sum^{m}_{i=1}{f\\left(q_{i \\curvearrowright}\\right)}\n",
    " - \\sum^{n}_{\\alpha=1}{f\\left(p_\\alpha\\right)}\n",
    " + \\sum^{m}_{i=1}{f\\left(q_{i \\curvearrowright} + \\sum_{\\alpha \\in i}{p_\\alpha}\\right)}$$\n"
   ]
  },
  {
   "cell_type": "markdown",
   "metadata": {
    "collapsed": true
   },
   "source": [
    "In an undirected network:\n",
    "\n",
    "* $w_\\alpha$ : the relative weight of node $\\alpha$\n",
    "* $w_i = \\sum_{\\alpha \\in i}w_\\alpha$ : the relative weight of module $i$\n",
    "* $w_{i \\curvearrowright}$ : the relative weight of links exiting module $i$\n",
    "* $w_\\curvearrowright = \\sum^m_{i=1}w_{i \\curvearrowright}$ : the relative weight of links between all modules\n",
    "\n",
    "$$\n",
    "L(\\mathsf{M}) = \n",
    " f\\left(w_{ \\curvearrowright}\\right)\n",
    " - 2 \\sum^{m}_{i=1}{f\\left(w_{i \\curvearrowright}\\right)}\n",
    " - \\sum^{n}_{\\alpha=1}{f\\left(w_\\alpha\\right)}\n",
    " + \\sum^{m}_{i=1}{f\\left(w_{i \\curvearrowright} + w_i\\right)}\n",
    "$$"
   ]
  },
  {
   "cell_type": "code",
   "execution_count": 9,
   "metadata": {
    "collapsed": false
   },
   "outputs": [],
   "source": [
    "def total_edge_weight(G):\n",
    "    return (1 if G.is_directed() else 2) * sum(edge[2].get('weight', 1) for edge in G.edges_iter(data=True))\n",
    "        \n",
    "def node_weight(G, n):\n",
    "    return sum(edge[2].get('weight', 1) for edge in G.edges_iter(n, data=True))\n",
    "\n",
    "def relative_weight(G, n):\n",
    "    if 'rw' not in G.node[n]:\n",
    "        G.node[n]['rw'] = node_weight(G, n) / total_edge_weight(G)\n",
    "    return G.node[n]['rw']"
   ]
  },
  {
   "cell_type": "code",
   "execution_count": 10,
   "metadata": {
    "collapsed": false
   },
   "outputs": [
    {
     "data": {
      "text/plain": [
       "0.012195121951219513"
      ]
     },
     "execution_count": 10,
     "metadata": {},
     "output_type": "execute_result"
    }
   ],
   "source": [
    "relative_weight(G, 4)"
   ]
  },
  {
   "cell_type": "code",
   "execution_count": 11,
   "metadata": {
    "collapsed": false
   },
   "outputs": [
    {
     "data": {
      "text/plain": [
       "{'rw': 0.012195121951219513}"
      ]
     },
     "execution_count": 11,
     "metadata": {},
     "output_type": "execute_result"
    }
   ],
   "source": [
    "G.node[4]"
   ]
  },
  {
   "cell_type": "code",
   "execution_count": 12,
   "metadata": {
    "collapsed": false
   },
   "outputs": [],
   "source": [
    "modules = {n: n for n in G.nodes_iter()}"
   ]
  },
  {
   "cell_type": "markdown",
   "metadata": {},
   "source": [
    "* graph total weight\n",
    "* node relative weight\n",
    "* module relative weight\n",
    "* node to module map\n",
    "* module to node map\n"
   ]
  },
  {
   "cell_type": "code",
   "execution_count": 13,
   "metadata": {
    "collapsed": false
   },
   "outputs": [],
   "source": [
    "from collections import defaultdict \n",
    "import copy\n",
    "\n",
    "def nlogn(n):\n",
    "    return n * np.log2(n)\n",
    "\n",
    "class MapEqnManager:\n",
    "    def __init__(self, graph):\n",
    "        self.G = graph\n",
    "        if self.G.is_directed():\n",
    "            raise ValueError('directed graphs not supported yet')\n",
    "        \n",
    "        self._init_weights()\n",
    "        self._init_modules()\n",
    "\n",
    "    def _init_weights(self):\n",
    "        self.Gtw = total_edge_weight(self.G)\n",
    "        self.nrw = {}\n",
    "        for n in self.G.nodes_iter():\n",
    "            self.nrw[n] = node_weight(G, n) / self.Gtw\n",
    "        self.term3 = -sum(nlogn(rw) for rw in self.nrw.values())\n",
    "\n",
    "    def _init_modules(self):\n",
    "        self.nm = {}\n",
    "        self.mn = defaultdict(set)\n",
    "        \n",
    "        # each node is it's own module at the start\n",
    "        for n in self.G.nodes_iter():    \n",
    "            self.nm[n] = n\n",
    "            self.mn[n].add(n)\n",
    "        \n",
    "    def module_weight(self, m):\n",
    "        return sum(self.nrw[n] for n in self.mn[m])\n",
    "    \n",
    "    def module_exit_weight(self, m):\n",
    "        return sum(self.G.node[n].get('weight', 1) / self.Gtw \n",
    "                for n, neighbor \n",
    "                in self.G.edges_iter(self.mn[m]) \n",
    "                if neighbor not in self.mn[m])\n",
    "    \n",
    "    def total_exit_weight(self):\n",
    "        return sum(self.module_exit_weight(m) for m, nodes in self.mn.items() if nodes)\n",
    "        \n",
    "    def _verify_module_map_consistency(self):\n",
    "        \"\"\"\n",
    "        Checks synchronization between node->module and module->nodes mappings\n",
    "        \"\"\"\n",
    "        nodes = set(self.nm)\n",
    "        mn_temp = copy.deepcopy(self.mn)\n",
    "        while nodes:\n",
    "            n = nodes.pop()\n",
    "            m = self.nm[n]\n",
    "            try:\n",
    "                mn_temp[m].remove(n)\n",
    "            except KeyError:\n",
    "                raise AssertionError('node {} not in expected module {}'.format(n, m))\n",
    "        \n",
    "        for m, m_leftovers in mn_temp.items():\n",
    "            assert not m_leftovers, 'extra node in module map! (node(s) {} in module {})'.format(m_leftovers, m)\n",
    "        \n",
    "    def move_node_to_module(self, n, m):\n",
    "        self.mn[self.nm[n]].remove(n)\n",
    "        \n",
    "        self.nm[n] = m\n",
    "        self.mn[m].add(n)\n",
    "    \n",
    "    def single_module(self, the_one=1):\n",
    "        for n in self.nm:\n",
    "            self.nm[n] = the_one\n",
    "        self.mn = defaultdict(set, {the_one: set(self.nm)})\n",
    "    \n",
    "    def code_length(self):\n",
    "        mod_weights = {m: self.module_weight(m) for m, nodes in self.mn.items() if nodes}\n",
    "        if len(mod_weights) == 1:\n",
    "            # single module, the other terms are useless/invalid\n",
    "            return self.term3\n",
    "        \n",
    "        mod_exit_weights = {m: self.module_exit_weight(m) for m in mod_weights}\n",
    "        total_exit_weight = sum(mod_exit_weights.values())\n",
    "        return (nlogn(total_exit_weight) \n",
    "                - 2 * sum(nlogn(ew) for ew in mod_exit_weights.values()) \n",
    "                + self.term3 \n",
    "                + sum(nlogn(mod_weights[m] + mod_exit_weights[m]) for m in mod_weights))\n",
    "    \n",
    "    def d3(self, *args, **kwargs):\n",
    "        # copy modules to \"group\" attribute on nodes\n",
    "        for n, m in self.nm.items():\n",
    "            self.G.node[n]['group'] = m\n",
    "        return d3shims.nx_force(self.G, *args, **kwargs)\n",
    "    \n",
    "    def best_neighbor_merge(self, n):\n",
    "        ..."
   ]
  },
  {
   "cell_type": "code",
   "execution_count": 14,
   "metadata": {
    "collapsed": false
   },
   "outputs": [],
   "source": [
    "mem = MapEqnManager(G)\n",
    "mem._verify_module_map_consistency()"
   ]
  },
  {
   "cell_type": "code",
   "execution_count": 15,
   "metadata": {
    "collapsed": false
   },
   "outputs": [
    {
     "data": {
      "text/plain": [
       "6.5433062000996918"
      ]
     },
     "execution_count": 15,
     "metadata": {},
     "output_type": "execute_result"
    }
   ],
   "source": [
    "mem.code_length()"
   ]
  },
  {
   "cell_type": "code",
   "execution_count": 16,
   "metadata": {
    "collapsed": true
   },
   "outputs": [],
   "source": [
    "mem.single_module()\n",
    "mem._verify_module_map_consistency()"
   ]
  },
  {
   "cell_type": "code",
   "execution_count": 17,
   "metadata": {
    "collapsed": false
   },
   "outputs": [
    {
     "data": {
      "text/plain": [
       "4.54330620009969"
      ]
     },
     "execution_count": 17,
     "metadata": {},
     "output_type": "execute_result"
    }
   ],
   "source": [
    "mem.code_length()"
   ]
  },
  {
   "cell_type": "code",
   "execution_count": 18,
   "metadata": {
    "collapsed": false
   },
   "outputs": [],
   "source": [
    "for module, nodes in enumerate(optimal_modules):\n",
    "    for node in nodes:\n",
    "        mem.move_node_to_module(node, module)"
   ]
  },
  {
   "cell_type": "code",
   "execution_count": 19,
   "metadata": {
    "collapsed": false
   },
   "outputs": [
    {
     "data": {
      "text/plain": [
       "3.2670285810463575"
      ]
     },
     "execution_count": 19,
     "metadata": {},
     "output_type": "execute_result"
    }
   ],
   "source": [
    "mem.code_length()"
   ]
  },
  {
   "cell_type": "code",
   "execution_count": 20,
   "metadata": {
    "collapsed": false
   },
   "outputs": [
    {
     "data": {
      "text/html": [
       "<style>\n",
       "    .node {\n",
       "      stroke: #fff;\n",
       "      stroke-width: 1.5px;\n",
       "    }\n",
       "\n",
       "    .link {\n",
       "      stroke: #999;\n",
       "      stroke-opacity: .6;\n",
       "    }\n",
       "\n",
       "    .node text {\n",
       "      pointer-events: none;\n",
       "      font: 10px sans-serif;\n",
       "      color: #000;\n",
       "      stroke-width: 0;\n",
       "    }\n",
       "</style>\n",
       "<script>\n",
       "+function() {\n",
       "    var options = {\n",
       "        'divid': '#x4fed97977ed742969ba46d573fd037cb',\n",
       "        'data': {\"links\": [{\"value\": 1, \"source\": 0, \"target\": 1}, {\"value\": 1, \"source\": 0, \"target\": 2}, {\"value\": 1, \"source\": 1, \"target\": 2}, {\"value\": 1, \"source\": 1, \"target\": 3}, {\"value\": 1, \"source\": 1, \"target\": 4}, {\"value\": 1, \"source\": 1, \"target\": 5}, {\"value\": 1, \"source\": 2, \"target\": 5}, {\"value\": 1, \"source\": 2, \"target\": 6}, {\"value\": 1, \"source\": 4, \"target\": 5}, {\"value\": 1, \"source\": 6, \"target\": 7}, {\"value\": 1, \"source\": 6, \"target\": 8}, {\"value\": 1, \"source\": 6, \"target\": 9}, {\"value\": 1, \"source\": 7, \"target\": 8}, {\"value\": 1, \"source\": 7, \"target\": 11}, {\"value\": 1, \"source\": 8, \"target\": 9}, {\"value\": 1, \"source\": 8, \"target\": 10}, {\"value\": 1, \"source\": 8, \"target\": 11}, {\"value\": 1, \"source\": 9, \"target\": 24}, {\"value\": 1, \"source\": 9, \"target\": 12}, {\"value\": 1, \"source\": 10, \"target\": 11}, {\"value\": 1, \"source\": 10, \"target\": 12}, {\"value\": 1, \"source\": 11, \"target\": 12}, {\"value\": 1, \"source\": 12, \"target\": 13}, {\"value\": 1, \"source\": 13, \"target\": 15}, {\"value\": 1, \"source\": 13, \"target\": 14}, {\"value\": 1, \"source\": 14, \"target\": 15}, {\"value\": 1, \"source\": 14, \"target\": 16}, {\"value\": 1, \"source\": 15, \"target\": 16}, {\"value\": 1, \"source\": 15, \"target\": 17}, {\"value\": 1, \"source\": 17, \"target\": 18}, {\"value\": 1, \"source\": 17, \"target\": 19}, {\"value\": 1, \"source\": 17, \"target\": 20}, {\"value\": 1, \"source\": 18, \"target\": 19}, {\"value\": 1, \"source\": 18, \"target\": 21}, {\"value\": 1, \"source\": 19, \"target\": 21}, {\"value\": 1, \"source\": 20, \"target\": 24}, {\"value\": 1, \"source\": 20, \"target\": 21}, {\"value\": 1, \"source\": 21, \"target\": 22}, {\"value\": 1, \"source\": 21, \"target\": 23}, {\"value\": 1, \"source\": 21, \"target\": 24}, {\"value\": 1, \"source\": 23, \"target\": 24}], \"nodes\": [{\"name\": \"1\", \"group\": 0}, {\"name\": \"2\", \"group\": 0}, {\"name\": \"3\", \"group\": 0}, {\"name\": \"4\", \"group\": 0}, {\"name\": \"5\", \"group\": 0}, {\"name\": \"6\", \"group\": 0}, {\"name\": \"7\", \"group\": 1}, {\"name\": \"8\", \"group\": 1}, {\"name\": \"9\", \"group\": 1}, {\"name\": \"10\", \"group\": 1}, {\"name\": \"11\", \"group\": 1}, {\"name\": \"12\", \"group\": 1}, {\"name\": \"13\", \"group\": 1}, {\"name\": \"14\", \"group\": 2}, {\"name\": \"15\", \"group\": 2}, {\"name\": \"16\", \"group\": 2}, {\"name\": \"17\", \"group\": 2}, {\"name\": \"18\", \"group\": 3}, {\"name\": \"19\", \"group\": 3}, {\"name\": \"20\", \"group\": 3}, {\"name\": \"21\", \"group\": 3}, {\"name\": \"22\", \"group\": 3}, {\"name\": \"23\", \"group\": 3}, {\"name\": \"24\", \"group\": 3}, {\"name\": \"25\", \"group\": 3}]},\n",
       "        'width': 300,\n",
       "        'height': 300,\n",
       "        'linkdistance': 30\n",
       "    }\n",
       "\n",
       "    if (window.d3 === undefined) {\n",
       "        console.log('Loading D3 from CDN');\n",
       "        $.getScript('https://cdnjs.cloudflare.com/ajax/libs/d3/3.5.7/d3.js')\n",
       "            .done(function() {\n",
       "                plot_force(options);\n",
       "            });\n",
       "    } else {\n",
       "        plot_force(options);\n",
       "    }\n",
       "\n",
       "    function plot_force(o) {\n",
       "        var color = d3.scale.category20();\n",
       "\n",
       "        var svg = d3.select(o.divid).append(\"svg\")\n",
       "            .attr(\"width\", o.width)\n",
       "            .attr(\"height\", o.height);\n",
       "\n",
       "        var force = d3.layout.force()\n",
       "            .charge(-120)\n",
       "            .linkDistance(o.linkdistance)\n",
       "            .size([o.width, o.height])\n",
       "            .nodes(o.data.nodes)\n",
       "            .links(o.data.links)\n",
       "            .start();\n",
       "\n",
       "        var link = svg.selectAll(\".link\")\n",
       "                .data(o.data.links)\n",
       "            .enter().append(\"line\")\n",
       "                .attr(\"class\", \"link\")\n",
       "                .style(\"stroke-width\", function(d) { return Math.sqrt(d.value); });\n",
       "\n",
       "        var node = svg.selectAll(\".node\")\n",
       "                .data(o.data.nodes)\n",
       "            .enter().append(\"g\")\n",
       "                .attr(\"class\", \"node\")\n",
       "                .call(force.drag)\n",
       "\n",
       "        node.append(\"circle\")\n",
       "            .attr(\"r\", 5)\n",
       "            .style(\"fill\", function(d) { return color(d.group); });\n",
       "\n",
       "        /*node.append(\"title\")\n",
       "            .text(function(d) { return d.name; });*/\n",
       "\n",
       "        \n",
       "\n",
       "        force.on(\"tick\", function() {\n",
       "            link.attr(\"x1\", function(d) { return d.source.x; })\n",
       "                .attr(\"y1\", function(d) { return d.source.y; })\n",
       "                .attr(\"x2\", function(d) { return d.target.x; })\n",
       "                .attr(\"y2\", function(d) { return d.target.y; });\n",
       "\n",
       "            node.attr(\"transform\", function(d) { return \"translate(\" + d.x + \",\" + d.y + \")\"; });\n",
       "        });\n",
       "    }\n",
       "}();\n",
       "</script>\n",
       "<div id=\"x4fed97977ed742969ba46d573fd037cb\">\n",
       "</div>"
      ],
      "text/plain": [
       "<IPython.core.display.HTML object>"
      ]
     },
     "execution_count": 20,
     "metadata": {},
     "output_type": "execute_result"
    }
   ],
   "source": [
    "mem.d3((300, 300))"
   ]
  },
  {
   "cell_type": "markdown",
   "metadata": {
    "collapsed": true
   },
   "source": [
    "## Minimizing the Map Equation\n",
    "\n",
    "### \"Core algorithm\"\n",
    "1. Randomly order the nodes\n",
    "1. For each node, move to the neighboring module that provides the greatest decrease. If nothing provides a decrease, keep as-is.\n",
    "1. Repeat the above steps until no changes result in a decrease of the map equation.\n",
    "1. Transform the modules found above into nodes and repeat the process."
   ]
  },
  {
   "cell_type": "code",
   "execution_count": 21,
   "metadata": {
    "collapsed": false
   },
   "outputs": [
    {
     "data": {
      "text/plain": [
       "6.5433062000996918"
      ]
     },
     "execution_count": 21,
     "metadata": {},
     "output_type": "execute_result"
    }
   ],
   "source": [
    "mem = MapEqnManager(G)\n",
    "mem.code_length()"
   ]
  },
  {
   "cell_type": "code",
   "execution_count": 22,
   "metadata": {
    "collapsed": false
   },
   "outputs": [
    {
     "name": "stdout",
     "output_type": "stream",
     "text": [
      "[8, 18, 10, 2, 24, 17, 5, 20, 12, 1, 9, 21, 16, 6, 7, 4, 22, 25, 3, 11, 23, 15, 14, 13, 19]\n"
     ]
    }
   ],
   "source": [
    "def get_nodes_and_shuffle(G):\n",
    "    nodes = list(G.nodes_iter())\n",
    "    random.shuffle(nodes)\n",
    "    return nodes\n",
    "\n",
    "nodes = get_nodes_and_shuffle(mem.G)\n",
    "print(nodes)"
   ]
  },
  {
   "cell_type": "code",
   "execution_count": 23,
   "metadata": {
    "collapsed": false
   },
   "outputs": [
    {
     "name": "stdout",
     "output_type": "stream",
     "text": [
      "[2, 3]\n",
      "3\n"
     ]
    }
   ],
   "source": [
    "def find_greatest_neighbor_decrease(mG, n):\n",
    "    node_module = mG.nm[n] # module of focal node\n",
    "    neighbors = mG.G.neighbors(n)\n",
    "    scores = {None: mG.code_length()}\n",
    "    \n",
    "    for neighbor in neighbors:\n",
    "        original_module = mG.nm[neighbor]\n",
    "        mG.move_node_to_module(neighbor, node_module)\n",
    "        scores[neighbor] = mG.code_length()\n",
    "        mG.move_node_to_module(neighbor, original_module)\n",
    "        \n",
    "    return min(scores.keys(), key=lambda k: scores[k])\n",
    "\n",
    "print(mem.G.neighbors(1))\n",
    "print(find_greatest_neighbor_decrease(mem, 1))"
   ]
  },
  {
   "cell_type": "code",
   "execution_count": 24,
   "metadata": {
    "collapsed": false
   },
   "outputs": [
    {
     "data": {
      "text/html": [
       "<style>\n",
       "    .node {\n",
       "      stroke: #fff;\n",
       "      stroke-width: 1.5px;\n",
       "    }\n",
       "\n",
       "    .link {\n",
       "      stroke: #999;\n",
       "      stroke-opacity: .6;\n",
       "    }\n",
       "\n",
       "    .node text {\n",
       "      pointer-events: none;\n",
       "      font: 10px sans-serif;\n",
       "      color: #000;\n",
       "      stroke-width: 0;\n",
       "    }\n",
       "</style>\n",
       "<script>\n",
       "+function() {\n",
       "    var options = {\n",
       "        'divid': '#x3f9ffb8fc2be4370bbd6f0e5ec7a49cb',\n",
       "        'data': {\"links\": [{\"value\": 1, \"source\": 0, \"target\": 1}, {\"value\": 1, \"source\": 0, \"target\": 2}, {\"value\": 1, \"source\": 1, \"target\": 2}, {\"value\": 1, \"source\": 1, \"target\": 3}, {\"value\": 1, \"source\": 1, \"target\": 4}, {\"value\": 1, \"source\": 1, \"target\": 5}, {\"value\": 1, \"source\": 2, \"target\": 5}, {\"value\": 1, \"source\": 2, \"target\": 6}, {\"value\": 1, \"source\": 4, \"target\": 5}, {\"value\": 1, \"source\": 6, \"target\": 7}, {\"value\": 1, \"source\": 6, \"target\": 8}, {\"value\": 1, \"source\": 6, \"target\": 9}, {\"value\": 1, \"source\": 7, \"target\": 8}, {\"value\": 1, \"source\": 7, \"target\": 11}, {\"value\": 1, \"source\": 8, \"target\": 9}, {\"value\": 1, \"source\": 8, \"target\": 10}, {\"value\": 1, \"source\": 8, \"target\": 11}, {\"value\": 1, \"source\": 9, \"target\": 24}, {\"value\": 1, \"source\": 9, \"target\": 12}, {\"value\": 1, \"source\": 10, \"target\": 11}, {\"value\": 1, \"source\": 10, \"target\": 12}, {\"value\": 1, \"source\": 11, \"target\": 12}, {\"value\": 1, \"source\": 12, \"target\": 13}, {\"value\": 1, \"source\": 13, \"target\": 15}, {\"value\": 1, \"source\": 13, \"target\": 14}, {\"value\": 1, \"source\": 14, \"target\": 15}, {\"value\": 1, \"source\": 14, \"target\": 16}, {\"value\": 1, \"source\": 15, \"target\": 16}, {\"value\": 1, \"source\": 15, \"target\": 17}, {\"value\": 1, \"source\": 17, \"target\": 18}, {\"value\": 1, \"source\": 17, \"target\": 19}, {\"value\": 1, \"source\": 17, \"target\": 20}, {\"value\": 1, \"source\": 18, \"target\": 19}, {\"value\": 1, \"source\": 18, \"target\": 21}, {\"value\": 1, \"source\": 19, \"target\": 21}, {\"value\": 1, \"source\": 20, \"target\": 24}, {\"value\": 1, \"source\": 20, \"target\": 21}, {\"value\": 1, \"source\": 21, \"target\": 22}, {\"value\": 1, \"source\": 21, \"target\": 23}, {\"value\": 1, \"source\": 21, \"target\": 24}, {\"value\": 1, \"source\": 23, \"target\": 24}], \"nodes\": [{\"name\": \"1\", \"group\": 1}, {\"name\": \"2\", \"group\": 2}, {\"name\": \"3\", \"group\": 3}, {\"name\": \"4\", \"group\": 4}, {\"name\": \"5\", \"group\": 5}, {\"name\": \"6\", \"group\": 6}, {\"name\": \"7\", \"group\": 7}, {\"name\": \"8\", \"group\": 8}, {\"name\": \"9\", \"group\": 9}, {\"name\": \"10\", \"group\": 10}, {\"name\": \"11\", \"group\": 11}, {\"name\": \"12\", \"group\": 12}, {\"name\": \"13\", \"group\": 13}, {\"name\": \"14\", \"group\": 14}, {\"name\": \"15\", \"group\": 15}, {\"name\": \"16\", \"group\": 16}, {\"name\": \"17\", \"group\": 17}, {\"name\": \"18\", \"group\": 18}, {\"name\": \"19\", \"group\": 19}, {\"name\": \"20\", \"group\": 20}, {\"name\": \"21\", \"group\": 21}, {\"name\": \"22\", \"group\": 22}, {\"name\": \"23\", \"group\": 23}, {\"name\": \"24\", \"group\": 24}, {\"name\": \"25\", \"group\": 25}]},\n",
       "        'width': 300,\n",
       "        'height': 300,\n",
       "        'linkdistance': 30\n",
       "    }\n",
       "\n",
       "    if (window.d3 === undefined) {\n",
       "        console.log('Loading D3 from CDN');\n",
       "        $.getScript('https://cdnjs.cloudflare.com/ajax/libs/d3/3.5.7/d3.js')\n",
       "            .done(function() {\n",
       "                plot_force(options);\n",
       "            });\n",
       "    } else {\n",
       "        plot_force(options);\n",
       "    }\n",
       "\n",
       "    function plot_force(o) {\n",
       "        var color = d3.scale.category20();\n",
       "\n",
       "        var svg = d3.select(o.divid).append(\"svg\")\n",
       "            .attr(\"width\", o.width)\n",
       "            .attr(\"height\", o.height);\n",
       "\n",
       "        var force = d3.layout.force()\n",
       "            .charge(-120)\n",
       "            .linkDistance(o.linkdistance)\n",
       "            .size([o.width, o.height])\n",
       "            .nodes(o.data.nodes)\n",
       "            .links(o.data.links)\n",
       "            .start();\n",
       "\n",
       "        var link = svg.selectAll(\".link\")\n",
       "                .data(o.data.links)\n",
       "            .enter().append(\"line\")\n",
       "                .attr(\"class\", \"link\")\n",
       "                .style(\"stroke-width\", function(d) { return Math.sqrt(d.value); });\n",
       "\n",
       "        var node = svg.selectAll(\".node\")\n",
       "                .data(o.data.nodes)\n",
       "            .enter().append(\"g\")\n",
       "                .attr(\"class\", \"node\")\n",
       "                .call(force.drag)\n",
       "\n",
       "        node.append(\"circle\")\n",
       "            .attr(\"r\", 5)\n",
       "            .style(\"fill\", function(d) { return color(d.group); });\n",
       "\n",
       "        /*node.append(\"title\")\n",
       "            .text(function(d) { return d.name; });*/\n",
       "\n",
       "        \n",
       "\n",
       "        force.on(\"tick\", function() {\n",
       "            link.attr(\"x1\", function(d) { return d.source.x; })\n",
       "                .attr(\"y1\", function(d) { return d.source.y; })\n",
       "                .attr(\"x2\", function(d) { return d.target.x; })\n",
       "                .attr(\"y2\", function(d) { return d.target.y; });\n",
       "\n",
       "            node.attr(\"transform\", function(d) { return \"translate(\" + d.x + \",\" + d.y + \")\"; });\n",
       "        });\n",
       "    }\n",
       "}();\n",
       "</script>\n",
       "<div id=\"x3f9ffb8fc2be4370bbd6f0e5ec7a49cb\">\n",
       "</div>"
      ],
      "text/plain": [
       "<IPython.core.display.HTML object>"
      ]
     },
     "execution_count": 24,
     "metadata": {},
     "output_type": "execute_result"
    }
   ],
   "source": [
    "mem.d3((300, 300))"
   ]
  },
  {
   "cell_type": "code",
   "execution_count": 25,
   "metadata": {
    "collapsed": false
   },
   "outputs": [],
   "source": [
    "def core_iteration(mG):\n",
    "    nodes = get_nodes_and_shuffle(mG.G)\n",
    "    \n",
    "    start = mG.nm.copy()\n",
    "    #changed = False\n",
    "    for n in nodes:\n",
    "        best = find_greatest_neighbor_decrease(mG, n)\n",
    "        if best is None:\n",
    "            continue\n",
    "        mG.move_node_to_module(best, mG.nm[n])\n",
    "        # oscillations might be thwarting \"any change\" meaning \"a net change\"\n",
    "        # need to check, for now just check en-masse at start/end\n",
    "        #changed = True \n",
    "\n",
    "    return set(start.items()) != set(mG.nm.items())"
   ]
  },
  {
   "cell_type": "code",
   "execution_count": 26,
   "metadata": {
    "collapsed": false
   },
   "outputs": [
    {
     "data": {
      "text/plain": [
       "True"
      ]
     },
     "execution_count": 26,
     "metadata": {},
     "output_type": "execute_result"
    }
   ],
   "source": [
    "core_iteration(mem)"
   ]
  },
  {
   "cell_type": "code",
   "execution_count": 27,
   "metadata": {
    "collapsed": false
   },
   "outputs": [
    {
     "data": {
      "text/html": [
       "<style>\n",
       "    .node {\n",
       "      stroke: #fff;\n",
       "      stroke-width: 1.5px;\n",
       "    }\n",
       "\n",
       "    .link {\n",
       "      stroke: #999;\n",
       "      stroke-opacity: .6;\n",
       "    }\n",
       "\n",
       "    .node text {\n",
       "      pointer-events: none;\n",
       "      font: 10px sans-serif;\n",
       "      color: #000;\n",
       "      stroke-width: 0;\n",
       "    }\n",
       "</style>\n",
       "<script>\n",
       "+function() {\n",
       "    var options = {\n",
       "        'divid': '#x1934cfcdfd5b4cb89d54345313314a22',\n",
       "        'data': {\"links\": [{\"value\": 1, \"source\": 0, \"target\": 1}, {\"value\": 1, \"source\": 0, \"target\": 2}, {\"value\": 1, \"source\": 1, \"target\": 2}, {\"value\": 1, \"source\": 1, \"target\": 3}, {\"value\": 1, \"source\": 1, \"target\": 4}, {\"value\": 1, \"source\": 1, \"target\": 5}, {\"value\": 1, \"source\": 2, \"target\": 5}, {\"value\": 1, \"source\": 2, \"target\": 6}, {\"value\": 1, \"source\": 4, \"target\": 5}, {\"value\": 1, \"source\": 6, \"target\": 7}, {\"value\": 1, \"source\": 6, \"target\": 8}, {\"value\": 1, \"source\": 6, \"target\": 9}, {\"value\": 1, \"source\": 7, \"target\": 8}, {\"value\": 1, \"source\": 7, \"target\": 11}, {\"value\": 1, \"source\": 8, \"target\": 9}, {\"value\": 1, \"source\": 8, \"target\": 10}, {\"value\": 1, \"source\": 8, \"target\": 11}, {\"value\": 1, \"source\": 9, \"target\": 24}, {\"value\": 1, \"source\": 9, \"target\": 12}, {\"value\": 1, \"source\": 10, \"target\": 11}, {\"value\": 1, \"source\": 10, \"target\": 12}, {\"value\": 1, \"source\": 11, \"target\": 12}, {\"value\": 1, \"source\": 12, \"target\": 13}, {\"value\": 1, \"source\": 13, \"target\": 15}, {\"value\": 1, \"source\": 13, \"target\": 14}, {\"value\": 1, \"source\": 14, \"target\": 15}, {\"value\": 1, \"source\": 14, \"target\": 16}, {\"value\": 1, \"source\": 15, \"target\": 16}, {\"value\": 1, \"source\": 15, \"target\": 17}, {\"value\": 1, \"source\": 17, \"target\": 18}, {\"value\": 1, \"source\": 17, \"target\": 19}, {\"value\": 1, \"source\": 17, \"target\": 20}, {\"value\": 1, \"source\": 18, \"target\": 19}, {\"value\": 1, \"source\": 18, \"target\": 21}, {\"value\": 1, \"source\": 19, \"target\": 21}, {\"value\": 1, \"source\": 20, \"target\": 24}, {\"value\": 1, \"source\": 20, \"target\": 21}, {\"value\": 1, \"source\": 21, \"target\": 22}, {\"value\": 1, \"source\": 21, \"target\": 23}, {\"value\": 1, \"source\": 21, \"target\": 24}, {\"value\": 1, \"source\": 23, \"target\": 24}], \"nodes\": [{\"name\": \"1\", \"group\": 4}, {\"name\": \"2\", \"group\": 4}, {\"name\": \"3\", \"group\": 4}, {\"name\": \"4\", \"group\": 4}, {\"name\": \"5\", \"group\": 4}, {\"name\": \"6\", \"group\": 4}, {\"name\": \"7\", \"group\": 7}, {\"name\": \"8\", \"group\": 9}, {\"name\": \"9\", \"group\": 9}, {\"name\": \"10\", \"group\": 9}, {\"name\": \"11\", \"group\": 9}, {\"name\": \"12\", \"group\": 9}, {\"name\": \"13\", \"group\": 9}, {\"name\": \"14\", \"group\": 16}, {\"name\": \"15\", \"group\": 16}, {\"name\": \"16\", \"group\": 16}, {\"name\": \"17\", \"group\": 16}, {\"name\": \"18\", \"group\": 18}, {\"name\": \"19\", \"group\": 18}, {\"name\": \"20\", \"group\": 18}, {\"name\": \"21\", \"group\": 24}, {\"name\": \"22\", \"group\": 18}, {\"name\": \"23\", \"group\": 22}, {\"name\": \"24\", \"group\": 24}, {\"name\": \"25\", \"group\": 24}]},\n",
       "        'width': 300,\n",
       "        'height': 300,\n",
       "        'linkdistance': 30\n",
       "    }\n",
       "\n",
       "    if (window.d3 === undefined) {\n",
       "        console.log('Loading D3 from CDN');\n",
       "        $.getScript('https://cdnjs.cloudflare.com/ajax/libs/d3/3.5.7/d3.js')\n",
       "            .done(function() {\n",
       "                plot_force(options);\n",
       "            });\n",
       "    } else {\n",
       "        plot_force(options);\n",
       "    }\n",
       "\n",
       "    function plot_force(o) {\n",
       "        var color = d3.scale.category20();\n",
       "\n",
       "        var svg = d3.select(o.divid).append(\"svg\")\n",
       "            .attr(\"width\", o.width)\n",
       "            .attr(\"height\", o.height);\n",
       "\n",
       "        var force = d3.layout.force()\n",
       "            .charge(-120)\n",
       "            .linkDistance(o.linkdistance)\n",
       "            .size([o.width, o.height])\n",
       "            .nodes(o.data.nodes)\n",
       "            .links(o.data.links)\n",
       "            .start();\n",
       "\n",
       "        var link = svg.selectAll(\".link\")\n",
       "                .data(o.data.links)\n",
       "            .enter().append(\"line\")\n",
       "                .attr(\"class\", \"link\")\n",
       "                .style(\"stroke-width\", function(d) { return Math.sqrt(d.value); });\n",
       "\n",
       "        var node = svg.selectAll(\".node\")\n",
       "                .data(o.data.nodes)\n",
       "            .enter().append(\"g\")\n",
       "                .attr(\"class\", \"node\")\n",
       "                .call(force.drag)\n",
       "\n",
       "        node.append(\"circle\")\n",
       "            .attr(\"r\", 5)\n",
       "            .style(\"fill\", function(d) { return color(d.group); });\n",
       "\n",
       "        /*node.append(\"title\")\n",
       "            .text(function(d) { return d.name; });*/\n",
       "\n",
       "        \n",
       "\n",
       "        force.on(\"tick\", function() {\n",
       "            link.attr(\"x1\", function(d) { return d.source.x; })\n",
       "                .attr(\"y1\", function(d) { return d.source.y; })\n",
       "                .attr(\"x2\", function(d) { return d.target.x; })\n",
       "                .attr(\"y2\", function(d) { return d.target.y; });\n",
       "\n",
       "            node.attr(\"transform\", function(d) { return \"translate(\" + d.x + \",\" + d.y + \")\"; });\n",
       "        });\n",
       "    }\n",
       "}();\n",
       "</script>\n",
       "<div id=\"x1934cfcdfd5b4cb89d54345313314a22\">\n",
       "</div>"
      ],
      "text/plain": [
       "<IPython.core.display.HTML object>"
      ]
     },
     "execution_count": 27,
     "metadata": {},
     "output_type": "execute_result"
    }
   ],
   "source": [
    "mem.d3((300, 300))"
   ]
  },
  {
   "cell_type": "code",
   "execution_count": 28,
   "metadata": {
    "collapsed": false
   },
   "outputs": [
    {
     "name": "stdout",
     "output_type": "stream",
     "text": [
      "3.52818480528\n"
     ]
    },
    {
     "data": {
      "text/html": [
       "<style>\n",
       "    .node {\n",
       "      stroke: #fff;\n",
       "      stroke-width: 1.5px;\n",
       "    }\n",
       "\n",
       "    .link {\n",
       "      stroke: #999;\n",
       "      stroke-opacity: .6;\n",
       "    }\n",
       "\n",
       "    .node text {\n",
       "      pointer-events: none;\n",
       "      font: 10px sans-serif;\n",
       "      color: #000;\n",
       "      stroke-width: 0;\n",
       "    }\n",
       "</style>\n",
       "<script>\n",
       "+function() {\n",
       "    var options = {\n",
       "        'divid': '#xb638bdd3c595452db2f9e8f2f84f9812',\n",
       "        'data': {\"links\": [{\"value\": 1, \"source\": 0, \"target\": 1}, {\"value\": 1, \"source\": 0, \"target\": 2}, {\"value\": 1, \"source\": 1, \"target\": 2}, {\"value\": 1, \"source\": 1, \"target\": 3}, {\"value\": 1, \"source\": 1, \"target\": 4}, {\"value\": 1, \"source\": 1, \"target\": 5}, {\"value\": 1, \"source\": 2, \"target\": 5}, {\"value\": 1, \"source\": 2, \"target\": 6}, {\"value\": 1, \"source\": 4, \"target\": 5}, {\"value\": 1, \"source\": 6, \"target\": 7}, {\"value\": 1, \"source\": 6, \"target\": 8}, {\"value\": 1, \"source\": 6, \"target\": 9}, {\"value\": 1, \"source\": 7, \"target\": 8}, {\"value\": 1, \"source\": 7, \"target\": 11}, {\"value\": 1, \"source\": 8, \"target\": 9}, {\"value\": 1, \"source\": 8, \"target\": 10}, {\"value\": 1, \"source\": 8, \"target\": 11}, {\"value\": 1, \"source\": 9, \"target\": 24}, {\"value\": 1, \"source\": 9, \"target\": 12}, {\"value\": 1, \"source\": 10, \"target\": 11}, {\"value\": 1, \"source\": 10, \"target\": 12}, {\"value\": 1, \"source\": 11, \"target\": 12}, {\"value\": 1, \"source\": 12, \"target\": 13}, {\"value\": 1, \"source\": 13, \"target\": 15}, {\"value\": 1, \"source\": 13, \"target\": 14}, {\"value\": 1, \"source\": 14, \"target\": 15}, {\"value\": 1, \"source\": 14, \"target\": 16}, {\"value\": 1, \"source\": 15, \"target\": 16}, {\"value\": 1, \"source\": 15, \"target\": 17}, {\"value\": 1, \"source\": 17, \"target\": 18}, {\"value\": 1, \"source\": 17, \"target\": 19}, {\"value\": 1, \"source\": 17, \"target\": 20}, {\"value\": 1, \"source\": 18, \"target\": 19}, {\"value\": 1, \"source\": 18, \"target\": 21}, {\"value\": 1, \"source\": 19, \"target\": 21}, {\"value\": 1, \"source\": 20, \"target\": 24}, {\"value\": 1, \"source\": 20, \"target\": 21}, {\"value\": 1, \"source\": 21, \"target\": 22}, {\"value\": 1, \"source\": 21, \"target\": 23}, {\"value\": 1, \"source\": 21, \"target\": 24}, {\"value\": 1, \"source\": 23, \"target\": 24}], \"nodes\": [{\"name\": \"1\", \"group\": 5}, {\"name\": \"2\", \"group\": 5}, {\"name\": \"3\", \"group\": 5}, {\"name\": \"4\", \"group\": 5}, {\"name\": \"5\", \"group\": 5}, {\"name\": \"6\", \"group\": 5}, {\"name\": \"7\", \"group\": 8}, {\"name\": \"8\", \"group\": 8}, {\"name\": \"9\", \"group\": 8}, {\"name\": \"10\", \"group\": 8}, {\"name\": \"11\", \"group\": 13}, {\"name\": \"12\", \"group\": 13}, {\"name\": \"13\", \"group\": 13}, {\"name\": \"14\", \"group\": 14}, {\"name\": \"15\", \"group\": 14}, {\"name\": \"16\", \"group\": 14}, {\"name\": \"17\", \"group\": 14}, {\"name\": \"18\", \"group\": 19}, {\"name\": \"19\", \"group\": 19}, {\"name\": \"20\", \"group\": 19}, {\"name\": \"21\", \"group\": 25}, {\"name\": \"22\", \"group\": 25}, {\"name\": \"23\", \"group\": 25}, {\"name\": \"24\", \"group\": 25}, {\"name\": \"25\", \"group\": 25}]},\n",
       "        'width': 300,\n",
       "        'height': 300,\n",
       "        'linkdistance': 30\n",
       "    }\n",
       "\n",
       "    if (window.d3 === undefined) {\n",
       "        console.log('Loading D3 from CDN');\n",
       "        $.getScript('https://cdnjs.cloudflare.com/ajax/libs/d3/3.5.7/d3.js')\n",
       "            .done(function() {\n",
       "                plot_force(options);\n",
       "            });\n",
       "    } else {\n",
       "        plot_force(options);\n",
       "    }\n",
       "\n",
       "    function plot_force(o) {\n",
       "        var color = d3.scale.category20();\n",
       "\n",
       "        var svg = d3.select(o.divid).append(\"svg\")\n",
       "            .attr(\"width\", o.width)\n",
       "            .attr(\"height\", o.height);\n",
       "\n",
       "        var force = d3.layout.force()\n",
       "            .charge(-120)\n",
       "            .linkDistance(o.linkdistance)\n",
       "            .size([o.width, o.height])\n",
       "            .nodes(o.data.nodes)\n",
       "            .links(o.data.links)\n",
       "            .start();\n",
       "\n",
       "        var link = svg.selectAll(\".link\")\n",
       "                .data(o.data.links)\n",
       "            .enter().append(\"line\")\n",
       "                .attr(\"class\", \"link\")\n",
       "                .style(\"stroke-width\", function(d) { return Math.sqrt(d.value); });\n",
       "\n",
       "        var node = svg.selectAll(\".node\")\n",
       "                .data(o.data.nodes)\n",
       "            .enter().append(\"g\")\n",
       "                .attr(\"class\", \"node\")\n",
       "                .call(force.drag)\n",
       "\n",
       "        node.append(\"circle\")\n",
       "            .attr(\"r\", 5)\n",
       "            .style(\"fill\", function(d) { return color(d.group); });\n",
       "\n",
       "        /*node.append(\"title\")\n",
       "            .text(function(d) { return d.name; });*/\n",
       "\n",
       "        \n",
       "\n",
       "        force.on(\"tick\", function() {\n",
       "            link.attr(\"x1\", function(d) { return d.source.x; })\n",
       "                .attr(\"y1\", function(d) { return d.source.y; })\n",
       "                .attr(\"x2\", function(d) { return d.target.x; })\n",
       "                .attr(\"y2\", function(d) { return d.target.y; });\n",
       "\n",
       "            node.attr(\"transform\", function(d) { return \"translate(\" + d.x + \",\" + d.y + \")\"; });\n",
       "        });\n",
       "    }\n",
       "}();\n",
       "</script>\n",
       "<div id=\"xb638bdd3c595452db2f9e8f2f84f9812\">\n",
       "</div>"
      ],
      "text/plain": [
       "<IPython.core.display.HTML object>"
      ]
     },
     "execution_count": 28,
     "metadata": {},
     "output_type": "execute_result"
    }
   ],
   "source": [
    "mem = MapEqnManager(G)\n",
    "start = time.time()\n",
    "while True:\n",
    "    changes = core_iteration(mem)\n",
    "\n",
    "    if not changes:\n",
    "        break\n",
    "    elif time.time() - start > 5:\n",
    "        raise Exception('timeout')\n",
    "\n",
    "print(mem.code_length())\n",
    "mem.d3((300, 300))"
   ]
  },
  {
   "cell_type": "code",
   "execution_count": 29,
   "metadata": {
    "collapsed": false
   },
   "outputs": [
    {
     "name": "stdout",
     "output_type": "stream",
     "text": [
      "[5, 19, 25, 13, 14, 8]\n"
     ]
    }
   ],
   "source": [
    "def get_modules_and_shuffle(mG):\n",
    "    modules = [module for module, nodes in mG.mn.items() if nodes]\n",
    "    random.shuffle(modules)\n",
    "    return modules\n",
    "\n",
    "modules = get_modules_and_shuffle(mem)\n",
    "print(modules)"
   ]
  },
  {
   "cell_type": "code",
   "execution_count": 30,
   "metadata": {
    "collapsed": false
   },
   "outputs": [
    {
     "data": {
      "text/plain": [
       "25"
      ]
     },
     "execution_count": 30,
     "metadata": {},
     "output_type": "execute_result"
    }
   ],
   "source": [
    "def move_nodes_to_module(mG, nodes, module):\n",
    "    for node in set(nodes):\n",
    "        mG.move_node_to_module(node, module)\n",
    "\n",
    "def find_greatest_module_neighbor_decrease(mG, module):\n",
    "    module_neighbors = set()\n",
    "    for node in mG.mn[module]:\n",
    "        for neighbor in mG.G.neighbors(node):\n",
    "            module_neighbors.add(mG.nm[neighbor])\n",
    "    module_neighbors.discard(module)\n",
    "            \n",
    "    scores = {None: mG.code_length()}\n",
    "    \n",
    "    for mneighbor in module_neighbors:\n",
    "        nodes = set(mG.mn[mneighbor]) # copy\n",
    "        move_nodes_to_module(mG, nodes, module)\n",
    "        #for node in nodes:\n",
    "        #    mG.move_node_to_module(node, module)\n",
    "        scores[mneighbor] = mG.code_length()\n",
    "        move_nodes_to_module(mG, nodes, mneighbor)\n",
    "        #for node in nodes:\n",
    "        #    mG.move_node_to_module(node, mneighbor)\n",
    "        \n",
    "    return min(scores.keys(), key=lambda k: scores[k])\n",
    "\n",
    "find_greatest_module_neighbor_decrease(mem, 19)"
   ]
  },
  {
   "cell_type": "code",
   "execution_count": 31,
   "metadata": {
    "collapsed": true
   },
   "outputs": [],
   "source": [
    "def hierarchical_iteration(mG):\n",
    "    modules = get_modules_and_shuffle(mG)\n",
    "    \n",
    "    start = set(mG.nm.items())\n",
    "    for m in modules:\n",
    "        mbest = find_greatest_module_neighbor_decrease(mG, m)\n",
    "        if mbest is None:\n",
    "            continue\n",
    "        move_nodes_to_module(mG, mG.mn[mbest], m)\n",
    "\n",
    "    return start != set(mG.nm.items())"
   ]
  },
  {
   "cell_type": "code",
   "execution_count": 32,
   "metadata": {
    "collapsed": false
   },
   "outputs": [
    {
     "data": {
      "text/plain": [
       "True"
      ]
     },
     "execution_count": 32,
     "metadata": {},
     "output_type": "execute_result"
    }
   ],
   "source": [
    "hierarchical_iteration(mem)"
   ]
  },
  {
   "cell_type": "code",
   "execution_count": 33,
   "metadata": {
    "collapsed": false
   },
   "outputs": [
    {
     "data": {
      "text/html": [
       "<style>\n",
       "    .node {\n",
       "      stroke: #fff;\n",
       "      stroke-width: 1.5px;\n",
       "    }\n",
       "\n",
       "    .link {\n",
       "      stroke: #999;\n",
       "      stroke-opacity: .6;\n",
       "    }\n",
       "\n",
       "    .node text {\n",
       "      pointer-events: none;\n",
       "      font: 10px sans-serif;\n",
       "      color: #000;\n",
       "      stroke-width: 0;\n",
       "    }\n",
       "</style>\n",
       "<script>\n",
       "+function() {\n",
       "    var options = {\n",
       "        'divid': '#xb2605ce871a64b4f8b50279d103c5fcc',\n",
       "        'data': {\"links\": [{\"value\": 1, \"source\": 0, \"target\": 1}, {\"value\": 1, \"source\": 0, \"target\": 2}, {\"value\": 1, \"source\": 1, \"target\": 2}, {\"value\": 1, \"source\": 1, \"target\": 3}, {\"value\": 1, \"source\": 1, \"target\": 4}, {\"value\": 1, \"source\": 1, \"target\": 5}, {\"value\": 1, \"source\": 2, \"target\": 5}, {\"value\": 1, \"source\": 2, \"target\": 6}, {\"value\": 1, \"source\": 4, \"target\": 5}, {\"value\": 1, \"source\": 6, \"target\": 7}, {\"value\": 1, \"source\": 6, \"target\": 8}, {\"value\": 1, \"source\": 6, \"target\": 9}, {\"value\": 1, \"source\": 7, \"target\": 8}, {\"value\": 1, \"source\": 7, \"target\": 11}, {\"value\": 1, \"source\": 8, \"target\": 9}, {\"value\": 1, \"source\": 8, \"target\": 10}, {\"value\": 1, \"source\": 8, \"target\": 11}, {\"value\": 1, \"source\": 9, \"target\": 24}, {\"value\": 1, \"source\": 9, \"target\": 12}, {\"value\": 1, \"source\": 10, \"target\": 11}, {\"value\": 1, \"source\": 10, \"target\": 12}, {\"value\": 1, \"source\": 11, \"target\": 12}, {\"value\": 1, \"source\": 12, \"target\": 13}, {\"value\": 1, \"source\": 13, \"target\": 15}, {\"value\": 1, \"source\": 13, \"target\": 14}, {\"value\": 1, \"source\": 14, \"target\": 15}, {\"value\": 1, \"source\": 14, \"target\": 16}, {\"value\": 1, \"source\": 15, \"target\": 16}, {\"value\": 1, \"source\": 15, \"target\": 17}, {\"value\": 1, \"source\": 17, \"target\": 18}, {\"value\": 1, \"source\": 17, \"target\": 19}, {\"value\": 1, \"source\": 17, \"target\": 20}, {\"value\": 1, \"source\": 18, \"target\": 19}, {\"value\": 1, \"source\": 18, \"target\": 21}, {\"value\": 1, \"source\": 19, \"target\": 21}, {\"value\": 1, \"source\": 20, \"target\": 24}, {\"value\": 1, \"source\": 20, \"target\": 21}, {\"value\": 1, \"source\": 21, \"target\": 22}, {\"value\": 1, \"source\": 21, \"target\": 23}, {\"value\": 1, \"source\": 21, \"target\": 24}, {\"value\": 1, \"source\": 23, \"target\": 24}], \"nodes\": [{\"name\": \"1\", \"group\": 5}, {\"name\": \"2\", \"group\": 5}, {\"name\": \"3\", \"group\": 5}, {\"name\": \"4\", \"group\": 5}, {\"name\": \"5\", \"group\": 5}, {\"name\": \"6\", \"group\": 5}, {\"name\": \"7\", \"group\": 13}, {\"name\": \"8\", \"group\": 13}, {\"name\": \"9\", \"group\": 13}, {\"name\": \"10\", \"group\": 13}, {\"name\": \"11\", \"group\": 13}, {\"name\": \"12\", \"group\": 13}, {\"name\": \"13\", \"group\": 13}, {\"name\": \"14\", \"group\": 14}, {\"name\": \"15\", \"group\": 14}, {\"name\": \"16\", \"group\": 14}, {\"name\": \"17\", \"group\": 14}, {\"name\": \"18\", \"group\": 25}, {\"name\": \"19\", \"group\": 25}, {\"name\": \"20\", \"group\": 25}, {\"name\": \"21\", \"group\": 25}, {\"name\": \"22\", \"group\": 25}, {\"name\": \"23\", \"group\": 25}, {\"name\": \"24\", \"group\": 25}, {\"name\": \"25\", \"group\": 25}]},\n",
       "        'width': 300,\n",
       "        'height': 300,\n",
       "        'linkdistance': 30\n",
       "    }\n",
       "\n",
       "    if (window.d3 === undefined) {\n",
       "        console.log('Loading D3 from CDN');\n",
       "        $.getScript('https://cdnjs.cloudflare.com/ajax/libs/d3/3.5.7/d3.js')\n",
       "            .done(function() {\n",
       "                plot_force(options);\n",
       "            });\n",
       "    } else {\n",
       "        plot_force(options);\n",
       "    }\n",
       "\n",
       "    function plot_force(o) {\n",
       "        var color = d3.scale.category20();\n",
       "\n",
       "        var svg = d3.select(o.divid).append(\"svg\")\n",
       "            .attr(\"width\", o.width)\n",
       "            .attr(\"height\", o.height);\n",
       "\n",
       "        var force = d3.layout.force()\n",
       "            .charge(-120)\n",
       "            .linkDistance(o.linkdistance)\n",
       "            .size([o.width, o.height])\n",
       "            .nodes(o.data.nodes)\n",
       "            .links(o.data.links)\n",
       "            .start();\n",
       "\n",
       "        var link = svg.selectAll(\".link\")\n",
       "                .data(o.data.links)\n",
       "            .enter().append(\"line\")\n",
       "                .attr(\"class\", \"link\")\n",
       "                .style(\"stroke-width\", function(d) { return Math.sqrt(d.value); });\n",
       "\n",
       "        var node = svg.selectAll(\".node\")\n",
       "                .data(o.data.nodes)\n",
       "            .enter().append(\"g\")\n",
       "                .attr(\"class\", \"node\")\n",
       "                .call(force.drag)\n",
       "\n",
       "        node.append(\"circle\")\n",
       "            .attr(\"r\", 5)\n",
       "            .style(\"fill\", function(d) { return color(d.group); });\n",
       "\n",
       "        /*node.append(\"title\")\n",
       "            .text(function(d) { return d.name; });*/\n",
       "\n",
       "        \n",
       "\n",
       "        force.on(\"tick\", function() {\n",
       "            link.attr(\"x1\", function(d) { return d.source.x; })\n",
       "                .attr(\"y1\", function(d) { return d.source.y; })\n",
       "                .attr(\"x2\", function(d) { return d.target.x; })\n",
       "                .attr(\"y2\", function(d) { return d.target.y; });\n",
       "\n",
       "            node.attr(\"transform\", function(d) { return \"translate(\" + d.x + \",\" + d.y + \")\"; });\n",
       "        });\n",
       "    }\n",
       "}();\n",
       "</script>\n",
       "<div id=\"xb2605ce871a64b4f8b50279d103c5fcc\">\n",
       "</div>"
      ],
      "text/plain": [
       "<IPython.core.display.HTML object>"
      ]
     },
     "execution_count": 33,
     "metadata": {},
     "output_type": "execute_result"
    }
   ],
   "source": [
    "mem.d3((300, 300))"
   ]
  },
  {
   "cell_type": "code",
   "execution_count": null,
   "metadata": {
    "collapsed": true
   },
   "outputs": [],
   "source": []
  }
 ],
 "metadata": {
  "kernelspec": {
   "display_name": "Python 3",
   "language": "python",
   "name": "python3"
  },
  "language_info": {
   "codemirror_mode": {
    "name": "ipython",
    "version": 3
   },
   "file_extension": ".py",
   "mimetype": "text/x-python",
   "name": "python",
   "nbconvert_exporter": "python",
   "pygments_lexer": "ipython3",
   "version": "3.5.1"
  }
 },
 "nbformat": 4,
 "nbformat_minor": 0
}
