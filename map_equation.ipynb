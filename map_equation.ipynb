{
 "cells": [
  {
   "cell_type": "markdown",
   "metadata": {},
   "source": [
    "# The map equation\n",
    "http://www.mapequation.org/assets/publications/EurPhysJ2010Rosvall.pdf\n"
   ]
  },
  {
   "cell_type": "code",
   "execution_count": 41,
   "metadata": {
    "collapsed": true
   },
   "outputs": [],
   "source": [
    "%matplotlib inline"
   ]
  },
  {
   "cell_type": "code",
   "execution_count": 42,
   "metadata": {
    "collapsed": false
   },
   "outputs": [],
   "source": [
    "import networkx as nx\n",
    "import numpy as np\n",
    "import math\n",
    "import random\n",
    "import matplotlib.pyplot as plt"
   ]
  },
  {
   "cell_type": "code",
   "execution_count": 43,
   "metadata": {
    "collapsed": true
   },
   "outputs": [],
   "source": [
    "G = nx.Graph()\n",
    "G.add_edges_from([\n",
    "    (1, 2), (1, 3), (2, 3), (4, 2), (5, 2),\n",
    "    (5, 6), (2, 6), (3, 6),\n",
    "        \n",
    "    (3, 7),\n",
    "\n",
    "    (7, 8), (7, 9), (7, 10), (9, 10), (9, 11),\n",
    "    (8, 9), (8, 12), (9, 12), (11, 12), (13, 12),\n",
    "    (13, 11), (13, 10),\n",
    "            \n",
    "    (13, 14),\n",
    "\n",
    "    (14, 15), (14, 16), (15, 16), (15, 17), (16, 17),\n",
    "        \n",
    "    (16, 18),\n",
    "        \n",
    "    (18, 19), (19, 20), (20, 18), (18, 21), (21, 22),\n",
    "    (22, 20), (19, 22), (23, 22), (24, 22), (25, 22),\n",
    "    (25, 24), (25, 21),\n",
    "        \n",
    "    (25, 10),\n",
    "])\n",
    "\n",
    "optimal_modules = [\n",
    "    [1, 2, 3, 4, 5, 6],\n",
    "    [7, 8, 9, 10, 11, 12, 13],\n",
    "    [14, 15, 16, 17],\n",
    "    [18, 19, 20, 21, 22, 23, 24, 25],\n",
    "]"
   ]
  },
  {
   "cell_type": "code",
   "execution_count": 44,
   "metadata": {
    "collapsed": false
   },
   "outputs": [],
   "source": [
    "import pydot\n",
    "from networkx.drawing.nx_pydot import to_pydot, make_str\n",
    "def pydot_layout(G,prog='neato',root=None, **kwds):\n",
    "    \"\"\"Create node positions using Pydot and Graphviz.\n",
    "    Returns a dictionary of positions keyed by node.\n",
    "    Examples\n",
    "    --------\n",
    "    >>> G=nx.complete_graph(4)\n",
    "    >>> pos=nx.pydot_layout(G)\n",
    "    >>> pos=nx.pydot_layout(G,prog='dot')\n",
    "    \"\"\"\n",
    "    #pydot = load_pydot()\n",
    "\n",
    "    P=to_pydot(G)\n",
    "    if root is not None :\n",
    "        P.set(\"root\",make_str(root))\n",
    "\n",
    "    D=P.create_dot(prog=prog)\n",
    "\n",
    "    if D==\"\":  # no data returned\n",
    "        print(\"Graphviz layout with %s failed\"%(prog))\n",
    "        print()\n",
    "        print(\"To debug what happened try:\")\n",
    "        print(\"P=pydot_from_networkx(G)\")\n",
    "        print(\"P.write_dot(\\\"file.dot\\\")\")\n",
    "        print(\"And then run %s on file.dot\"%(prog))\n",
    "        #return\n",
    "\n",
    "    Q=pydot.graph_from_dot_data(D)\n",
    "\n",
    "    node_pos={}\n",
    "    for n in G.nodes():\n",
    "        pydot_node = pydot.Node(make_str(n)).get_name()#.encode('utf-8') # EDIT\n",
    "        node=Q.get_node(pydot_node)\n",
    "\n",
    "        if isinstance(node,list):\n",
    "            node=node[0]\n",
    "        pos=node.get_pos()[1:-1] # strip leading and trailing double quotes\n",
    "        if pos != None:\n",
    "            xx,yy=pos.split(\",\")\n",
    "            node_pos[n]=(float(xx),float(yy))\n",
    "    return node_pos\n",
    "nx.drawing.nx_pydot.pydot_layout = pydot_layout"
   ]
  },
  {
   "cell_type": "code",
   "execution_count": 48,
   "metadata": {
    "collapsed": false
   },
   "outputs": [
    {
     "data": {
      "image/png": "[encoded data removed]",
      "text/plain": [
       "<matplotlib.figure.Figure at 0xc14c2e8>"
      ]
     },
     "metadata": {},
     "output_type": "display_data"
    }
   ],
   "source": [
    "nx.draw_graphviz(G, prog='neato')"
   ]
  },
  {
   "cell_type": "markdown",
   "metadata": {},
   "source": [
    "For a module partition $M$ of $n$ nodes $α = 1, 2,...,n$ into $m$ modules $i = 1, 2,...,m$, we define this lower bound on code length to be $L(M)$. To calculate $L$ for an arbitrary partition, we first invoke [Shannon's source coding theorem](https://en.wikipedia.org/wiki/Shannon%27s_source_coding_theorem), which implies that when you use $n$ codewords to describe the $n$ states of a random variable $X$ that occur with frequencies $p_i$, the average length of a codeword can be no less than the entropy of the random variable $X$ itself: $H(X) = - \\sum p_i log_2(p_i)$ (we measure code lengths in bits and take the logarithm in base 2)."
   ]
  },
  {
   "cell_type": "code",
   "execution_count": 180,
   "metadata": {
    "collapsed": true
   },
   "outputs": [],
   "source": [
    "freqs = [100, 10]\n",
    "n = len(freqs)\n",
    "pi = [f / sum(freqs) for f in freqs]"
   ]
  },
  {
   "cell_type": "code",
   "execution_count": 181,
   "metadata": {
    "collapsed": false
   },
   "outputs": [
    {
     "name": "stdout",
     "output_type": "stream",
     "text": [
      "Theoretical minimum to encode each state: 0.439 bits\n"
     ]
    }
   ],
   "source": [
    "H = -sum(p * math.log2(p) for p in pi)\n",
    "print('Theoretical minimum to encode each state: {:0.3f} bits'.format(H))"
   ]
  },
  {
   "cell_type": "markdown",
   "metadata": {},
   "source": [
    "---\n",
    "\n",
    "### Sidebar: Random Walker probability of visiting any given node in an undirected graph\n",
    "\n",
    "Equal to the number of neighbors the node has, divided by twice (one per link end) the total edge weight of the graph: \"relative weight\", $w_\\alpha$."
   ]
  },
  {
   "cell_type": "code",
   "execution_count": 8,
   "metadata": {
    "collapsed": false
   },
   "outputs": [],
   "source": [
    "nodes = G.nodes()\n",
    "edges = G.edges()\n",
    "\n",
    "neighbors = [len(G.neighbors(n)) for n in nodes]\n",
    "counts = {k: 0 for k in nodes}\n",
    "loc = random.choice(list(counts.keys()))\n",
    "\n",
    "iters = int(5e5)\n",
    "for step in range(iters):\n",
    "    loc = random.choice(G.neighbors(loc))\n",
    "    counts[loc] += 1"
   ]
  },
  {
   "cell_type": "code",
   "execution_count": 9,
   "metadata": {
    "collapsed": false
   },
   "outputs": [
    {
     "data": {
      "image/png": "[encoded data removed]",
      "text/plain": [
       "<matplotlib.figure.Figure at 0x7d28a20>"
      ]
     },
     "metadata": {},
     "output_type": "display_data"
    }
   ],
   "source": [
    "f, ax = plt.subplots()\n",
    "ax.plot([n/len(edges)/2 for n in neighbors], [counts[n]/iters for n in nodes], 'ro')\n",
    "ax.set_xlim(left=0)\n",
    "ax.set_ylim(bottom=0)\n",
    "ax.set_xlabel('Relative weight')\n",
    "ax.set_ylabel('Frequency of random walk hitting node')\n",
    "plt.show()"
   ]
  },
  {
   "cell_type": "markdown",
   "metadata": {},
   "source": [
    "---\n",
    "\n",
    "## The equation\n",
    "  \n",
    "$$L(\\mathsf{M}) = q_\\curvearrowright H(\\mathcal{Q}) + \\sum_{i = 1}^{m}p^i_\\circlearrowright H(\\mathcal{P}^i)$$\n",
    "\n",
    "* $H(\\mathcal{Q})$ - frequency weighted average length of codewords in the index codebook\n",
    "* $H(\\mathcal{P}^i)$ - frequency weighted average length of codewords in the module cookbook $i$\n",
    "* $q_{i\\curvearrowright}$ - probability to exit module $i$\n",
    "  * $q_{\\curvearrowright} = \\sum_i q_{i\\curvearrowright}$  - probability to exit any module and use the module cookbook\n",
    "* $p_\\alpha$ - probability to visit node $\\alpha$\n",
    "  * $p^i_\\circlearrowright = \\sum_{\\alpha \\in i} p_\\alpha + q_{i \\curvearrowright}$ - probability to use the module cookbook $i$: how often the random walk is in the module plus the frequency that the module is exited\n",
    "\n",
    "For convienence, let $f(x) = x \\log x$\n",
    "\n",
    "$$H(\\mathcal{Q}) = - \\sum^m_{i=1}{f\\left(\\frac{q_{i \\curvearrowright}}{\\sum^m_{j=1}{q_{j \\curvearrowright}}}\\right)}$$\n",
    "\n",
    "$$H(\\mathcal{P}^i) = \n",
    " - f\\left(\\frac{q_{i \\curvearrowright}}{q_{i \\curvearrowright} + \\sum_{\\beta \\in i}{p_\\beta}}\\right) \n",
    " - \\sum_{\\alpha \\in i}{f\\left(\\frac{p_\\alpha}{q_{i \\curvearrowright} + \\sum_{\\beta \\in i}{p_\\beta}}\\right)}$$\n",
    "\n",
    "After combining and simplifying\n",
    "\n",
    "$$L(\\mathsf{M}) = \n",
    " f\\left(\\sum^{m}_{i=1}{q_{i \\curvearrowright}}\\right)\n",
    " - 2 \\sum^{m}_{i=1}{f\\left(q_{i \\curvearrowright}\\right)}\n",
    " - \\sum^{n}_{\\alpha=1}{f\\left(p_\\alpha\\right)}\n",
    " + \\sum^{m}_{i=1}{f\\left(q_{i \\curvearrowright} + \\sum_{\\alpha \\in i}{p_\\alpha}\\right)}$$\n"
   ]
  },
  {
   "cell_type": "markdown",
   "metadata": {
    "collapsed": true
   },
   "source": [
    "In an undirected network:\n",
    "\n",
    "* $w_\\alpha$ : the relative weight of node $\\alpha$\n",
    "* $w_i = \\sum_{\\alpha \\in i}w_\\alpha$ : the relative weight of module $i$\n",
    "* $w_{i \\curvearrowright}$ : the relative weight of links exiting module $i$\n",
    "* $w_\\curvearrowright = \\sum^m_{i=1}w_{i \\curvearrowright}$ : the relative weight of links between all modules\n",
    "\n",
    "$$\n",
    "L(\\mathsf{M}) = \n",
    " f\\left(w_{ \\curvearrowright}\\right)\n",
    " - 2 \\sum^{m}_{i=1}{f\\left(w_{i \\curvearrowright}\\right)}\n",
    " - \\sum^{n}_{\\alpha=1}{f\\left(w_\\alpha\\right)}\n",
    " + \\sum^{m}_{i=1}{f\\left(w_{i \\curvearrowright} + w_i\\right)}\n",
    "$$"
   ]
  },
  {
   "cell_type": "code",
   "execution_count": 63,
   "metadata": {
    "collapsed": false
   },
   "outputs": [],
   "source": [
    "def total_edge_weight(G):\n",
    "    return (1 if G.is_directed() else 2) * sum(edge[2].get('weight', 1) for edge in G.edges_iter(data=True))\n",
    "        \n",
    "def node_weight(G, n):\n",
    "    return sum(edge[2].get('weight', 1) for edge in G.edges_iter(n, data=True))\n",
    "\n",
    "def relative_weight(G, n):\n",
    "    if 'rw' not in G.node[n]:\n",
    "        G.node[n]['rw'] = node_weight(G, n) / total_edge_weight(G)\n",
    "    return G.node[n]['rw']"
   ]
  },
  {
   "cell_type": "code",
   "execution_count": 40,
   "metadata": {
    "collapsed": false
   },
   "outputs": [
    {
     "data": {
      "text/plain": [
       "0.012195121951219513"
      ]
     },
     "execution_count": 40,
     "metadata": {},
     "output_type": "execute_result"
    }
   ],
   "source": [
    "relative_weight(G, 4)"
   ]
  },
  {
   "cell_type": "code",
   "execution_count": 42,
   "metadata": {
    "collapsed": false
   },
   "outputs": [
    {
     "data": {
      "text/plain": [
       "{'rw': 0.012195121951219513}"
      ]
     },
     "execution_count": 42,
     "metadata": {},
     "output_type": "execute_result"
    }
   ],
   "source": [
    "G.node[4]"
   ]
  },
  {
   "cell_type": "code",
   "execution_count": 44,
   "metadata": {
    "collapsed": false
   },
   "outputs": [],
   "source": [
    "modules = {n: n for n in G.nodes_iter()}"
   ]
  },
  {
   "cell_type": "markdown",
   "metadata": {},
   "source": [
    "* graph total weight\n",
    "* node relative weight\n",
    "* module relative weight\n",
    "* node to module map\n",
    "* module to node map\n"
   ]
  },
  {
   "cell_type": "code",
   "execution_count": 148,
   "metadata": {
    "collapsed": false
   },
   "outputs": [],
   "source": [
    "from collections import defaultdict \n",
    "import copy\n",
    "\n",
    "def nlogn(n):\n",
    "    return n * np.log2(n)\n",
    "\n",
    "class MapEqnManager:\n",
    "    def __init__(self, graph):\n",
    "        self.G = graph\n",
    "        if self.G.is_directed():\n",
    "            raise ValueError('directed graphs not supported yet')\n",
    "        \n",
    "        self._init_weights()\n",
    "        self._init_modules()\n",
    "\n",
    "    def _init_weights(self):\n",
    "        self.Gtw = total_edge_weight(self.G)\n",
    "        self.nrw = {}\n",
    "        for n in self.G.nodes_iter():\n",
    "            self.nrw[n] = node_weight(G, n) / self.Gtw\n",
    "        self.term3 = -sum(nlogn(rw) for rw in self.nrw.values())\n",
    "\n",
    "    def _init_modules(self):\n",
    "        self.nm = {}\n",
    "        self.mn = defaultdict(set)\n",
    "        \n",
    "        # each node is it's own module at the start\n",
    "        for n in self.G.nodes_iter():    \n",
    "            self.nm[n] = n\n",
    "            self.mn[n].add(n)\n",
    "        \n",
    "    def module_weight(self, m):\n",
    "        return sum(self.nrw[n] for n in self.mn[m])\n",
    "    \n",
    "    def module_exit_weight(self, m):\n",
    "        return sum(self.G.node[n].get('weight', 1) / self.Gtw \n",
    "                for n, neighbor \n",
    "                in self.G.edges_iter(self.mn[m]) \n",
    "                if neighbor not in self.mn[m])\n",
    "    \n",
    "    def total_exit_weight(self):\n",
    "        return sum(self.module_exit_weight(m) for m, nodes in self.mn.items() if nodes)\n",
    "        \n",
    "    def _verify_module_map_consistency(self):\n",
    "        nodes = set(self.nm)\n",
    "        mn_temp = copy.deepcopy(self.mn)\n",
    "        while nodes:\n",
    "            n = nodes.pop()\n",
    "            m = self.nm[n]\n",
    "            try:\n",
    "                mn_temp[m].remove(n)\n",
    "            except KeyError:\n",
    "                raise AssertionError('node {} not in expected module {}'.format(n, m))\n",
    "        \n",
    "        for m, m_leftovers in mn_temp.items():\n",
    "            assert not m_leftovers, 'extra node in module map! (node(s) {} in module {})'.format(m_leftovers, m)\n",
    "        \n",
    "    def move_node_to_module(self, n, m):\n",
    "        self.mn[self.nm[n]].remove(n)\n",
    "        self.mn[m].add(n)\n",
    "    \n",
    "    def single_module(self, the_one=1):\n",
    "        for n in self.nm:\n",
    "            self.nm[n] = the_one\n",
    "        self.mn = defaultdict(set, {the_one: set(self.nm)})\n",
    "    \n",
    "    def code_length(self):\n",
    "        mod_weights = {m: self.module_weight(m) for m, nodes in self.mn.items() if nodes}\n",
    "        if len(mod_weights) == 1:\n",
    "            # single module, the other terms are useless/invalid\n",
    "            return self.term3\n",
    "        \n",
    "        mod_exit_weights = {m: self.module_exit_weight(m) for m in mod_weights}\n",
    "        total_exit_weight = sum(mod_exit_weights.values())\n",
    "        return (nlogn(total_exit_weight) \n",
    "                - 2 * sum(nlogn(ew) for ew in mod_exit_weights.values()) \n",
    "                + self.term3 \n",
    "                + sum(nlogn(mod_weights[m] + mod_exit_weights[m]) for m in mod_weights))"
   ]
  },
  {
   "cell_type": "code",
   "execution_count": 149,
   "metadata": {
    "collapsed": false
   },
   "outputs": [],
   "source": [
    "mem = MapEqnManager(G)\n",
    "mem._verify_module_map_consistency()"
   ]
  },
  {
   "cell_type": "code",
   "execution_count": 150,
   "metadata": {
    "collapsed": false
   },
   "outputs": [
    {
     "data": {
      "text/plain": [
       "6.5433062000996918"
      ]
     },
     "execution_count": 150,
     "metadata": {},
     "output_type": "execute_result"
    }
   ],
   "source": [
    "mem.code_length()"
   ]
  },
  {
   "cell_type": "code",
   "execution_count": 151,
   "metadata": {
    "collapsed": true
   },
   "outputs": [],
   "source": [
    "mem.single_module()\n",
    "mem._verify_module_map_consistency()"
   ]
  },
  {
   "cell_type": "code",
   "execution_count": 158,
   "metadata": {
    "collapsed": false
   },
   "outputs": [
    {
     "data": {
      "text/plain": [
       "4.54330620009969"
      ]
     },
     "execution_count": 158,
     "metadata": {},
     "output_type": "execute_result"
    }
   ],
   "source": [
    "mem.code_length()"
   ]
  },
  {
   "cell_type": "code",
   "execution_count": 160,
   "metadata": {
    "collapsed": false
   },
   "outputs": [],
   "source": [
    "for module, nodes in enumerate(optimal_modules):\n",
    "    for node in nodes:\n",
    "        mem.move_node_to_module(node, module)"
   ]
  },
  {
   "cell_type": "code",
   "execution_count": 161,
   "metadata": {
    "collapsed": false
   },
   "outputs": [
    {
     "data": {
      "text/plain": [
       "3.2670285810463575"
      ]
     },
     "execution_count": 161,
     "metadata": {},
     "output_type": "execute_result"
    }
   ],
   "source": [
    "mem.code_length()"
   ]
  },
  {
   "cell_type": "code",
   "execution_count": null,
   "metadata": {
    "collapsed": true
   },
   "outputs": [],
   "source": []
  }
 ],
 "metadata": {
  "kernelspec": {
   "display_name": "Python 3",
   "language": "python",
   "name": "python3"
  },
  "language_info": {
   "codemirror_mode": {
    "name": "ipython",
    "version": 3
   },
   "file_extension": ".py",
   "mimetype": "text/x-python",
   "name": "python",
   "nbconvert_exporter": "python",
   "pygments_lexer": "ipython3",
   "version": "3.4.2"
  }
 },
 "nbformat": 4,
 "nbformat_minor": 0
}
