{
 "cells": [
  {
   "cell_type": "markdown",
   "metadata": {},
   "source": [
    "# The map equation\n",
    "http://www.mapequation.org/assets/publications/EurPhysJ2010Rosvall.pdf\n"
   ]
  },
  {
   "cell_type": "code",
   "execution_count": 1,
   "metadata": {
    "collapsed": true
   },
   "outputs": [],
   "source": [
    "%matplotlib inline"
   ]
  },
  {
   "cell_type": "code",
   "execution_count": 2,
   "metadata": {
    "collapsed": false
   },
   "outputs": [],
   "source": [
    "import math\n",
    "import random\n",
    "import time\n",
    "\n",
    "import networkx as nx\n",
    "import numpy as np\n",
    "import matplotlib.pyplot as plt\n",
    "import d3shims"
   ]
  },
  {
   "cell_type": "code",
   "execution_count": 3,
   "metadata": {
    "collapsed": true
   },
   "outputs": [],
   "source": [
    "G = nx.Graph()\n",
    "G.add_edges_from([\n",
    "    (1, 2), (1, 3), (2, 3), (4, 2), (5, 2), (5, 6), (2, 6), \n",
    "    (3, 6), (3, 7), (7, 8), (7, 9), (7, 10), (9, 10), (9, 11), \n",
    "    (8, 9), (8, 12), (9, 12), (11, 12), (13, 12), (13, 11), \n",
    "    (13, 10), (13, 14), (14, 15), (14, 16), (15, 16), (15, 17), \n",
    "    (16, 17), (16, 18), (18, 19), (19, 20), (20, 18), (18, 21), \n",
    "    (21, 22), (22, 20), (19, 22), (23, 22), (24, 22), (25, 22), \n",
    "    (25, 24), (25, 21), (25, 10),\n",
    "])\n",
    "\n",
    "optimal_modules = [\n",
    "    [1, 2, 3, 4, 5, 6],\n",
    "    [7, 8, 9, 10, 11, 12, 13],\n",
    "    [14, 15, 16, 17],\n",
    "    [18, 19, 20, 21, 22, 23, 24, 25],\n",
    "]"
   ]
  },
  {
   "cell_type": "code",
   "execution_count": 4,
   "metadata": {
    "collapsed": false
   },
   "outputs": [
    {
     "data": {
      "text/html": [
       "<style>\n",
       "    .node {\n",
       "      stroke: #fff;\n",
       "      stroke-width: 1.5px;\n",
       "    }\n",
       "\n",
       "    .link {\n",
       "      stroke: #999;\n",
       "      stroke-opacity: .6;\n",
       "    }\n",
       "\n",
       "    .node text {\n",
       "      pointer-events: none;\n",
       "      font: 10px sans-serif;\n",
       "      color: #000;\n",
       "      stroke-width: 0;\n",
       "    }\n",
       "</style>\n",
       "<script>\n",
       "+function() {\n",
       "    var options = {\n",
       "        'divid': '#xca944f0a650a4ad29cc929bcbba18c16',\n",
       "        'data': {\"links\": [{\"value\": 1, \"target\": 1, \"source\": 0}, {\"value\": 1, \"target\": 2, \"source\": 0}, {\"value\": 1, \"target\": 2, \"source\": 1}, {\"value\": 1, \"target\": 3, \"source\": 1}, {\"value\": 1, \"target\": 4, \"source\": 1}, {\"value\": 1, \"target\": 5, \"source\": 1}, {\"value\": 1, \"target\": 5, \"source\": 2}, {\"value\": 1, \"target\": 6, \"source\": 2}, {\"value\": 1, \"target\": 5, \"source\": 4}, {\"value\": 1, \"target\": 7, \"source\": 6}, {\"value\": 1, \"target\": 8, \"source\": 6}, {\"value\": 1, \"target\": 9, \"source\": 6}, {\"value\": 1, \"target\": 8, \"source\": 7}, {\"value\": 1, \"target\": 11, \"source\": 7}, {\"value\": 1, \"target\": 9, \"source\": 8}, {\"value\": 1, \"target\": 10, \"source\": 8}, {\"value\": 1, \"target\": 11, \"source\": 8}, {\"value\": 1, \"target\": 24, \"source\": 9}, {\"value\": 1, \"target\": 12, \"source\": 9}, {\"value\": 1, \"target\": 11, \"source\": 10}, {\"value\": 1, \"target\": 12, \"source\": 10}, {\"value\": 1, \"target\": 12, \"source\": 11}, {\"value\": 1, \"target\": 13, \"source\": 12}, {\"value\": 1, \"target\": 15, \"source\": 13}, {\"value\": 1, \"target\": 14, \"source\": 13}, {\"value\": 1, \"target\": 15, \"source\": 14}, {\"value\": 1, \"target\": 16, \"source\": 14}, {\"value\": 1, \"target\": 16, \"source\": 15}, {\"value\": 1, \"target\": 17, \"source\": 15}, {\"value\": 1, \"target\": 18, \"source\": 17}, {\"value\": 1, \"target\": 19, \"source\": 17}, {\"value\": 1, \"target\": 20, \"source\": 17}, {\"value\": 1, \"target\": 19, \"source\": 18}, {\"value\": 1, \"target\": 21, \"source\": 18}, {\"value\": 1, \"target\": 21, \"source\": 19}, {\"value\": 1, \"target\": 24, \"source\": 20}, {\"value\": 1, \"target\": 21, \"source\": 20}, {\"value\": 1, \"target\": 22, \"source\": 21}, {\"value\": 1, \"target\": 23, \"source\": 21}, {\"value\": 1, \"target\": 24, \"source\": 21}, {\"value\": 1, \"target\": 24, \"source\": 23}], \"nodes\": [{\"group\": 0, \"name\": \"1\"}, {\"group\": 0, \"name\": \"2\"}, {\"group\": 0, \"name\": \"3\"}, {\"group\": 0, \"name\": \"4\"}, {\"group\": 0, \"name\": \"5\"}, {\"group\": 0, \"name\": \"6\"}, {\"group\": 0, \"name\": \"7\"}, {\"group\": 0, \"name\": \"8\"}, {\"group\": 0, \"name\": \"9\"}, {\"group\": 0, \"name\": \"10\"}, {\"group\": 0, \"name\": \"11\"}, {\"group\": 0, \"name\": \"12\"}, {\"group\": 0, \"name\": \"13\"}, {\"group\": 0, \"name\": \"14\"}, {\"group\": 0, \"name\": \"15\"}, {\"group\": 0, \"name\": \"16\"}, {\"group\": 0, \"name\": \"17\"}, {\"group\": 0, \"name\": \"18\"}, {\"group\": 0, \"name\": \"19\"}, {\"group\": 0, \"name\": \"20\"}, {\"group\": 0, \"name\": \"21\"}, {\"group\": 0, \"name\": \"22\"}, {\"group\": 0, \"name\": \"23\"}, {\"group\": 0, \"name\": \"24\"}, {\"group\": 0, \"name\": \"25\"}]},\n",
       "        'width': 300,\n",
       "        'height': 300,\n",
       "        'linkdistance': 30\n",
       "    }\n",
       "\n",
       "    if (window.d3 === undefined) {\n",
       "        console.log('Loading D3 from CDN');\n",
       "        $.getScript('https://cdnjs.cloudflare.com/ajax/libs/d3/3.5.7/d3.js')\n",
       "            .done(function() {\n",
       "                plot_force(options);\n",
       "            });\n",
       "    } else {\n",
       "        plot_force(options);\n",
       "    }\n",
       "\n",
       "    function plot_force(o) {\n",
       "        var color = d3.scale.category20();\n",
       "\n",
       "        var svg = d3.select(o.divid).append(\"svg\")\n",
       "            .attr(\"width\", o.width)\n",
       "            .attr(\"height\", o.height);\n",
       "\n",
       "        var force = d3.layout.force()\n",
       "            .charge(-120)\n",
       "            .linkDistance(o.linkdistance)\n",
       "            .size([o.width, o.height])\n",
       "            .nodes(o.data.nodes)\n",
       "            .links(o.data.links)\n",
       "            .start();\n",
       "\n",
       "        var link = svg.selectAll(\".link\")\n",
       "                .data(o.data.links)\n",
       "            .enter().append(\"line\")\n",
       "                .attr(\"class\", \"link\")\n",
       "                .style(\"stroke-width\", function(d) { return Math.sqrt(d.value); });\n",
       "\n",
       "        var node = svg.selectAll(\".node\")\n",
       "                .data(o.data.nodes)\n",
       "            .enter().append(\"g\")\n",
       "                .attr(\"class\", \"node\")\n",
       "                .call(force.drag)\n",
       "\n",
       "        node.append(\"circle\")\n",
       "            .attr(\"r\", 5)\n",
       "            .style(\"fill\", function(d) { return color(d.group); });\n",
       "\n",
       "        /*node.append(\"title\")\n",
       "            .text(function(d) { return d.name; });*/\n",
       "\n",
       "        \n",
       "\n",
       "        force.on(\"tick\", function() {\n",
       "            link.attr(\"x1\", function(d) { return d.source.x; })\n",
       "                .attr(\"y1\", function(d) { return d.source.y; })\n",
       "                .attr(\"x2\", function(d) { return d.target.x; })\n",
       "                .attr(\"y2\", function(d) { return d.target.y; });\n",
       "\n",
       "            node.attr(\"transform\", function(d) { return \"translate(\" + d.x + \",\" + d.y + \")\"; });\n",
       "        });\n",
       "    }\n",
       "}();\n",
       "</script>\n",
       "<div id=\"xca944f0a650a4ad29cc929bcbba18c16\">\n",
       "</div>"
      ],
      "text/plain": [
       "<IPython.core.display.HTML object>"
      ]
     },
     "execution_count": 4,
     "metadata": {},
     "output_type": "execute_result"
    }
   ],
   "source": [
    "size = (300, 300)\n",
    "d3shims.nx_force(G, size=size)"
   ]
  },
  {
   "cell_type": "markdown",
   "metadata": {},
   "source": [
    "For a module partition $M$ of $n$ nodes $α = 1, 2,...,n$ into $m$ modules $i = 1, 2,...,m$, we define this lower bound on code length to be $L(M)$. To calculate $L$ for an arbitrary partition, we first invoke [Shannon's source coding theorem](https://en.wikipedia.org/wiki/Shannon%27s_source_coding_theorem), which implies that when you use $n$ codewords to describe the $n$ states of a random variable $X$ that occur with frequencies $p_i$, the average length of a codeword can be no less than the entropy of the random variable $X$ itself: $H(X) = - \\sum p_i log_2(p_i)$ (we measure code lengths in bits and take the logarithm in base 2)."
   ]
  },
  {
   "cell_type": "code",
   "execution_count": 5,
   "metadata": {
    "collapsed": true
   },
   "outputs": [],
   "source": [
    "freqs = [100, 10]\n",
    "n = len(freqs)\n",
    "pi = [f / sum(freqs) for f in freqs]"
   ]
  },
  {
   "cell_type": "code",
   "execution_count": 6,
   "metadata": {
    "collapsed": false
   },
   "outputs": [
    {
     "name": "stdout",
     "output_type": "stream",
     "text": [
      "Theoretical minimum to encode each state: 0.439 bits\n"
     ]
    }
   ],
   "source": [
    "H = -sum(p * math.log2(p) for p in pi)\n",
    "print('Theoretical minimum to encode each state: {:0.3f} bits'.format(H))"
   ]
  },
  {
   "cell_type": "markdown",
   "metadata": {},
   "source": [
    "---\n",
    "\n",
    "### Sidebar: Random Walker probability of visiting any given node in an undirected graph\n",
    "\n",
    "Equal to the number of neighbors the node has, divided by twice (one per link end) the total edge weight of the graph: \"relative weight\", $w_\\alpha$."
   ]
  },
  {
   "cell_type": "code",
   "execution_count": 7,
   "metadata": {
    "collapsed": false
   },
   "outputs": [],
   "source": [
    "nodes = G.nodes()\n",
    "edges = G.edges()\n",
    "\n",
    "neighbors = [len(G.neighbors(n)) for n in nodes]\n",
    "counts = {k: 0 for k in nodes}\n",
    "loc = random.choice(list(counts.keys()))\n",
    "\n",
    "iters = int(5e5)\n",
    "for step in range(iters):\n",
    "    loc = random.choice(G.neighbors(loc))\n",
    "    counts[loc] += 1"
   ]
  },
  {
   "cell_type": "code",
   "execution_count": 8,
   "metadata": {
    "collapsed": false
   },
   "outputs": [
    {
     "data": {
      "image/png": "[encoded data removed]",
      "text/plain": [
       "<matplotlib.figure.Figure at 0x1074af908>"
      ]
     },
     "metadata": {},
     "output_type": "display_data"
    }
   ],
   "source": [
    "f, ax = plt.subplots()\n",
    "ax.plot([n/len(edges)/2 for n in neighbors], [counts[n]/iters for n in nodes], 'ro')\n",
    "ax.set_xlim(left=0)\n",
    "ax.set_ylim(bottom=0)\n",
    "ax.set_xlabel('Relative weight')\n",
    "ax.set_ylabel('Frequency of random walk hitting node')\n",
    "plt.show()"
   ]
  },
  {
   "cell_type": "markdown",
   "metadata": {},
   "source": [
    "---\n",
    "\n",
    "## The equation\n",
    "  \n",
    "$$L(\\mathsf{M}) = q_\\curvearrowright H(\\mathcal{Q}) + \\sum_{i = 1}^{m}p^i_\\circlearrowright H(\\mathcal{P}^i)$$\n",
    "\n",
    "* $H(\\mathcal{Q})$ - frequency weighted average length of codewords in the index codebook\n",
    "* $H(\\mathcal{P}^i)$ - frequency weighted average length of codewords in the module cookbook $i$\n",
    "* $q_{i\\curvearrowright}$ - probability to exit module $i$\n",
    "  * $q_{\\curvearrowright} = \\sum_i q_{i\\curvearrowright}$  - probability to exit any module and use the module cookbook\n",
    "* $p_\\alpha$ - probability to visit node $\\alpha$\n",
    "  * $p^i_\\circlearrowright = \\sum_{\\alpha \\in i} p_\\alpha + q_{i \\curvearrowright}$ - probability to use the module cookbook $i$: how often the random walk is in the module plus the frequency that the module is exited\n",
    "\n",
    "For convienence, let $f(x) = x \\log x$\n",
    "\n",
    "$$H(\\mathcal{Q}) = - \\sum^m_{i=1}{f\\left(\\frac{q_{i \\curvearrowright}}{\\sum^m_{j=1}{q_{j \\curvearrowright}}}\\right)}$$\n",
    "\n",
    "$$H(\\mathcal{P}^i) = \n",
    " - f\\left(\\frac{q_{i \\curvearrowright}}{q_{i \\curvearrowright} + \\sum_{\\beta \\in i}{p_\\beta}}\\right) \n",
    " - \\sum_{\\alpha \\in i}{f\\left(\\frac{p_\\alpha}{q_{i \\curvearrowright} + \\sum_{\\beta \\in i}{p_\\beta}}\\right)}$$\n",
    "\n",
    "After combining and simplifying\n",
    "\n",
    "$$L(\\mathsf{M}) = \n",
    " f\\left(\\sum^{m}_{i=1}{q_{i \\curvearrowright}}\\right)\n",
    " - 2 \\sum^{m}_{i=1}{f\\left(q_{i \\curvearrowright}\\right)}\n",
    " - \\sum^{n}_{\\alpha=1}{f\\left(p_\\alpha\\right)}\n",
    " + \\sum^{m}_{i=1}{f\\left(q_{i \\curvearrowright} + \\sum_{\\alpha \\in i}{p_\\alpha}\\right)}$$\n"
   ]
  },
  {
   "cell_type": "markdown",
   "metadata": {
    "collapsed": true
   },
   "source": [
    "In an undirected network:\n",
    "\n",
    "* $w_\\alpha$ : the relative weight of node $\\alpha$\n",
    "* $w_i = \\sum_{\\alpha \\in i}w_\\alpha$ : the relative weight of module $i$\n",
    "* $w_{i \\curvearrowright}$ : the relative weight of links exiting module $i$\n",
    "* $w_\\curvearrowright = \\sum^m_{i=1}w_{i \\curvearrowright}$ : the relative weight of links between all modules\n",
    "\n",
    "$$\n",
    "L(\\mathsf{M}) = \n",
    " f\\left(w_{ \\curvearrowright}\\right)\n",
    " - 2 \\sum^{m}_{i=1}{f\\left(w_{i \\curvearrowright}\\right)}\n",
    " - \\sum^{n}_{\\alpha=1}{f\\left(w_\\alpha\\right)}\n",
    " + \\sum^{m}_{i=1}{f\\left(w_{i \\curvearrowright} + w_i\\right)}\n",
    "$$"
   ]
  },
  {
   "cell_type": "code",
   "execution_count": 9,
   "metadata": {
    "collapsed": false
   },
   "outputs": [],
   "source": [
    "def total_edge_weight(G):\n",
    "    return (1 if G.is_directed() else 2) * sum(edge[2].get('weight', 1) for edge in G.edges_iter(data=True))\n",
    "\n",
    "# def node_weight(G, n):\n",
    "#     return sum(edge[2].get('weight', 1) for edge in G.edges_iter(n, data=True))\n",
    "    \n",
    "def node_weight(G, n):\n",
    "    accum = 0\n",
    "    for edge in G.edges_iter(n, data=True):\n",
    "        weight = edge[2].get('weight', 1)\n",
    "        accum += weight\n",
    "    return accum\n",
    "\n",
    "def relative_weight(G, n):\n",
    "    if 'rw' not in G.node[n]:\n",
    "        G.node[n]['rw'] = node_weight(G, n) / total_edge_weight(G)\n",
    "    return G.node[n]['rw']"
   ]
  },
  {
   "cell_type": "code",
   "execution_count": 10,
   "metadata": {
    "collapsed": false
   },
   "outputs": [
    {
     "data": {
      "text/plain": [
       "0.012195121951219513"
      ]
     },
     "execution_count": 10,
     "metadata": {},
     "output_type": "execute_result"
    }
   ],
   "source": [
    "relative_weight(G, 4)"
   ]
  },
  {
   "cell_type": "code",
   "execution_count": 11,
   "metadata": {
    "collapsed": false
   },
   "outputs": [
    {
     "data": {
      "text/plain": [
       "{'rw': 0.012195121951219513}"
      ]
     },
     "execution_count": 11,
     "metadata": {},
     "output_type": "execute_result"
    }
   ],
   "source": [
    "G.node[4]"
   ]
  },
  {
   "cell_type": "markdown",
   "metadata": {},
   "source": [
    "* graph total weight\n",
    "* node relative weight\n",
    "* module relative weight\n",
    "* node to module map\n",
    "* module to node map\n"
   ]
  },
  {
   "cell_type": "code",
   "execution_count": 12,
   "metadata": {
    "collapsed": false
   },
   "outputs": [],
   "source": [
    "from collections import defaultdict \n",
    "import copy\n",
    "\n",
    "def nlogn(n):\n",
    "    return n * np.log2(n)\n",
    "\n",
    "class MapEqnManager:\n",
    "    def __init__(self, graph):\n",
    "        self.G = graph\n",
    "        if self.G.is_directed():\n",
    "            raise ValueError('directed graphs not supported yet')\n",
    "        \n",
    "        self._init_weights()\n",
    "        self._init_modules()\n",
    "\n",
    "    def _init_weights(self):\n",
    "        self.Gtw = total_edge_weight(self.G)\n",
    "        self.nrw = {}\n",
    "        for n in self.G.nodes_iter():\n",
    "            self.nrw[n] = node_weight(self.G, n) / self.Gtw\n",
    "        self.term3 = -sum(nlogn(rw) for rw in self.nrw.values())\n",
    "\n",
    "    def _init_modules(self):\n",
    "        self.nm = {}\n",
    "        self.mn = defaultdict(set)\n",
    "        \n",
    "        # each node is it's own module at the start\n",
    "        for n in self.G.nodes_iter():    \n",
    "            self.nm[n] = n\n",
    "            self.mn[n].add(n)\n",
    "        \n",
    "    def module_weight(self, m):\n",
    "        return sum(self.nrw[n] for n in self.mn[m])\n",
    "    \n",
    "    def module_exit_weight(self, m):\n",
    "        return sum(self.G.node[n].get('weight', 1) / self.Gtw \n",
    "                for n, neighbor \n",
    "                in self.G.edges_iter(self.mn[m]) \n",
    "                if neighbor not in self.mn[m])\n",
    "    \n",
    "    def total_exit_weight(self):\n",
    "        return sum(self.module_exit_weight(m) for m, nodes in self.mn.items() if nodes)\n",
    "        \n",
    "    def move_node_to_module(self, n, m):\n",
    "        self.mn[self.nm[n]].remove(n)\n",
    "        \n",
    "        self.nm[n] = m\n",
    "        self.mn[m].add(n)\n",
    "    \n",
    "    def move_nodes_to_module(self, nodes, m):\n",
    "        for n in set(nodes):\n",
    "            self.move_node_to_module(n, m)\n",
    "    \n",
    "    def code_length(self):\n",
    "        mod_weights = {m: self.module_weight(m) for m, nodes in self.mn.items() if nodes}\n",
    "        if len(mod_weights) == 1:\n",
    "            # single module, the other terms are useless/invalid\n",
    "            return self.term3\n",
    "        \n",
    "        mod_exit_weights = {m: self.module_exit_weight(m) for m in mod_weights}\n",
    "        total_exit_weight = sum(mod_exit_weights.values())\n",
    "        return (nlogn(total_exit_weight) \n",
    "                - 2 * sum(nlogn(ew) for ew in mod_exit_weights.values()) \n",
    "                + self.term3 \n",
    "                + sum(nlogn(mod_weights[m] + mod_exit_weights[m]) for m in mod_weights))\n",
    "    \n",
    "    def module_neighbors(self, m):\n",
    "        module_neighbors = set()\n",
    "        \n",
    "        for node in self.mn[m]:\n",
    "            for neighbor in self.G.neighbors(node):\n",
    "                module_neighbors.add(self.nm[neighbor])\n",
    "        module_neighbors.discard(m)\n",
    "        \n",
    "        return module_neighbors\n",
    "\n",
    "    ######## TESTING / VISUALIZATION #######\n",
    "\n",
    "    def _d3(self, *args, **kwargs):\n",
    "        # copy modules to \"group\" attribute on nodes\n",
    "        for n, m in self.nm.items():\n",
    "            self.G.node[n]['group'] = m\n",
    "        return d3shims.nx_force(self.G, *args, **kwargs)\n",
    "    \n",
    "    def _single_module(self, the_one=1):\n",
    "        for n in self.nm:\n",
    "            self.nm[n] = the_one\n",
    "        self.mn = defaultdict(set, {the_one: set(self.nm)})\n",
    "    \n",
    "    def _verify_module_map_consistency(self):\n",
    "        \"\"\"\n",
    "        Checks synchronization between node->module and module->nodes mappings\n",
    "        \"\"\"\n",
    "        nodes = set(self.nm)\n",
    "        mn_temp = copy.deepcopy(self.mn)\n",
    "        while nodes:\n",
    "            n = nodes.pop()\n",
    "            m = self.nm[n]\n",
    "            try:\n",
    "                mn_temp[m].remove(n)\n",
    "            except KeyError:\n",
    "                raise AssertionError('node {} not in expected module {}'.format(n, m))\n",
    "        \n",
    "        for m, m_leftovers in mn_temp.items():\n",
    "            assert not m_leftovers, 'extra node in module map! (node(s) {} in module {})'.format(m_leftovers, m)\n",
    "        "
   ]
  },
  {
   "cell_type": "code",
   "execution_count": 13,
   "metadata": {
    "collapsed": false
   },
   "outputs": [
    {
     "data": {
      "text/plain": [
       "6.5433062000996918"
      ]
     },
     "execution_count": 13,
     "metadata": {},
     "output_type": "execute_result"
    }
   ],
   "source": [
    "mem = MapEqnManager(G)\n",
    "mem._verify_module_map_consistency()\n",
    "mem.code_length()"
   ]
  },
  {
   "cell_type": "code",
   "execution_count": 14,
   "metadata": {
    "collapsed": false
   },
   "outputs": [
    {
     "data": {
      "text/plain": [
       "4.54330620009969"
      ]
     },
     "execution_count": 14,
     "metadata": {},
     "output_type": "execute_result"
    }
   ],
   "source": [
    "mem._single_module()\n",
    "mem._verify_module_map_consistency()\n",
    "mem.code_length()"
   ]
  },
  {
   "cell_type": "code",
   "execution_count": 15,
   "metadata": {
    "collapsed": false
   },
   "outputs": [
    {
     "data": {
      "text/plain": [
       "3.2670285810463575"
      ]
     },
     "execution_count": 15,
     "metadata": {},
     "output_type": "execute_result"
    }
   ],
   "source": [
    "for module, nodes in enumerate(optimal_modules):\n",
    "    for node in nodes:\n",
    "        mem.move_node_to_module(node, module)\n",
    "mem.code_length()"
   ]
  },
  {
   "cell_type": "code",
   "execution_count": 16,
   "metadata": {
    "collapsed": false
   },
   "outputs": [
    {
     "data": {
      "text/html": [
       "<style>\n",
       "    .node {\n",
       "      stroke: #fff;\n",
       "      stroke-width: 1.5px;\n",
       "    }\n",
       "\n",
       "    .link {\n",
       "      stroke: #999;\n",
       "      stroke-opacity: .6;\n",
       "    }\n",
       "\n",
       "    .node text {\n",
       "      pointer-events: none;\n",
       "      font: 10px sans-serif;\n",
       "      color: #000;\n",
       "      stroke-width: 0;\n",
       "    }\n",
       "</style>\n",
       "<script>\n",
       "+function() {\n",
       "    var options = {\n",
       "        'divid': '#x6a600fcf61c64bbe9da9e60782425fc9',\n",
       "        'data': {\"links\": [{\"value\": 1, \"target\": 1, \"source\": 0}, {\"value\": 1, \"target\": 2, \"source\": 0}, {\"value\": 1, \"target\": 2, \"source\": 1}, {\"value\": 1, \"target\": 3, \"source\": 1}, {\"value\": 1, \"target\": 4, \"source\": 1}, {\"value\": 1, \"target\": 5, \"source\": 1}, {\"value\": 1, \"target\": 5, \"source\": 2}, {\"value\": 1, \"target\": 6, \"source\": 2}, {\"value\": 1, \"target\": 5, \"source\": 4}, {\"value\": 1, \"target\": 7, \"source\": 6}, {\"value\": 1, \"target\": 8, \"source\": 6}, {\"value\": 1, \"target\": 9, \"source\": 6}, {\"value\": 1, \"target\": 8, \"source\": 7}, {\"value\": 1, \"target\": 11, \"source\": 7}, {\"value\": 1, \"target\": 9, \"source\": 8}, {\"value\": 1, \"target\": 10, \"source\": 8}, {\"value\": 1, \"target\": 11, \"source\": 8}, {\"value\": 1, \"target\": 24, \"source\": 9}, {\"value\": 1, \"target\": 12, \"source\": 9}, {\"value\": 1, \"target\": 11, \"source\": 10}, {\"value\": 1, \"target\": 12, \"source\": 10}, {\"value\": 1, \"target\": 12, \"source\": 11}, {\"value\": 1, \"target\": 13, \"source\": 12}, {\"value\": 1, \"target\": 15, \"source\": 13}, {\"value\": 1, \"target\": 14, \"source\": 13}, {\"value\": 1, \"target\": 15, \"source\": 14}, {\"value\": 1, \"target\": 16, \"source\": 14}, {\"value\": 1, \"target\": 16, \"source\": 15}, {\"value\": 1, \"target\": 17, \"source\": 15}, {\"value\": 1, \"target\": 18, \"source\": 17}, {\"value\": 1, \"target\": 19, \"source\": 17}, {\"value\": 1, \"target\": 20, \"source\": 17}, {\"value\": 1, \"target\": 19, \"source\": 18}, {\"value\": 1, \"target\": 21, \"source\": 18}, {\"value\": 1, \"target\": 21, \"source\": 19}, {\"value\": 1, \"target\": 24, \"source\": 20}, {\"value\": 1, \"target\": 21, \"source\": 20}, {\"value\": 1, \"target\": 22, \"source\": 21}, {\"value\": 1, \"target\": 23, \"source\": 21}, {\"value\": 1, \"target\": 24, \"source\": 21}, {\"value\": 1, \"target\": 24, \"source\": 23}], \"nodes\": [{\"group\": 0, \"name\": \"1\"}, {\"group\": 0, \"name\": \"2\"}, {\"group\": 0, \"name\": \"3\"}, {\"group\": 0, \"name\": \"4\"}, {\"group\": 0, \"name\": \"5\"}, {\"group\": 0, \"name\": \"6\"}, {\"group\": 1, \"name\": \"7\"}, {\"group\": 1, \"name\": \"8\"}, {\"group\": 1, \"name\": \"9\"}, {\"group\": 1, \"name\": \"10\"}, {\"group\": 1, \"name\": \"11\"}, {\"group\": 1, \"name\": \"12\"}, {\"group\": 1, \"name\": \"13\"}, {\"group\": 2, \"name\": \"14\"}, {\"group\": 2, \"name\": \"15\"}, {\"group\": 2, \"name\": \"16\"}, {\"group\": 2, \"name\": \"17\"}, {\"group\": 3, \"name\": \"18\"}, {\"group\": 3, \"name\": \"19\"}, {\"group\": 3, \"name\": \"20\"}, {\"group\": 3, \"name\": \"21\"}, {\"group\": 3, \"name\": \"22\"}, {\"group\": 3, \"name\": \"23\"}, {\"group\": 3, \"name\": \"24\"}, {\"group\": 3, \"name\": \"25\"}]},\n",
       "        'width': 300,\n",
       "        'height': 300,\n",
       "        'linkdistance': 30\n",
       "    }\n",
       "\n",
       "    if (window.d3 === undefined) {\n",
       "        console.log('Loading D3 from CDN');\n",
       "        $.getScript('https://cdnjs.cloudflare.com/ajax/libs/d3/3.5.7/d3.js')\n",
       "            .done(function() {\n",
       "                plot_force(options);\n",
       "            });\n",
       "    } else {\n",
       "        plot_force(options);\n",
       "    }\n",
       "\n",
       "    function plot_force(o) {\n",
       "        var color = d3.scale.category20();\n",
       "\n",
       "        var svg = d3.select(o.divid).append(\"svg\")\n",
       "            .attr(\"width\", o.width)\n",
       "            .attr(\"height\", o.height);\n",
       "\n",
       "        var force = d3.layout.force()\n",
       "            .charge(-120)\n",
       "            .linkDistance(o.linkdistance)\n",
       "            .size([o.width, o.height])\n",
       "            .nodes(o.data.nodes)\n",
       "            .links(o.data.links)\n",
       "            .start();\n",
       "\n",
       "        var link = svg.selectAll(\".link\")\n",
       "                .data(o.data.links)\n",
       "            .enter().append(\"line\")\n",
       "                .attr(\"class\", \"link\")\n",
       "                .style(\"stroke-width\", function(d) { return Math.sqrt(d.value); });\n",
       "\n",
       "        var node = svg.selectAll(\".node\")\n",
       "                .data(o.data.nodes)\n",
       "            .enter().append(\"g\")\n",
       "                .attr(\"class\", \"node\")\n",
       "                .call(force.drag)\n",
       "\n",
       "        node.append(\"circle\")\n",
       "            .attr(\"r\", 5)\n",
       "            .style(\"fill\", function(d) { return color(d.group); });\n",
       "\n",
       "        /*node.append(\"title\")\n",
       "            .text(function(d) { return d.name; });*/\n",
       "\n",
       "        \n",
       "\n",
       "        force.on(\"tick\", function() {\n",
       "            link.attr(\"x1\", function(d) { return d.source.x; })\n",
       "                .attr(\"y1\", function(d) { return d.source.y; })\n",
       "                .attr(\"x2\", function(d) { return d.target.x; })\n",
       "                .attr(\"y2\", function(d) { return d.target.y; });\n",
       "\n",
       "            node.attr(\"transform\", function(d) { return \"translate(\" + d.x + \",\" + d.y + \")\"; });\n",
       "        });\n",
       "    }\n",
       "}();\n",
       "</script>\n",
       "<div id=\"x6a600fcf61c64bbe9da9e60782425fc9\">\n",
       "</div>"
      ],
      "text/plain": [
       "<IPython.core.display.HTML object>"
      ]
     },
     "execution_count": 16,
     "metadata": {},
     "output_type": "execute_result"
    }
   ],
   "source": [
    "mem._d3((300, 300))"
   ]
  },
  {
   "cell_type": "markdown",
   "metadata": {
    "collapsed": true
   },
   "source": [
    "## Minimizing the Map Equation\n",
    "\n",
    "### \"Core algorithm\"\n",
    "1. Randomly order the nodes\n",
    "1. For each node, move to the neighboring module that provides the greatest decrease. If nothing provides a decrease, keep as-is.\n",
    "1. Repeat the above steps until no changes result in a decrease of the map equation.\n",
    "1. Transform the modules found above into nodes and repeat the process."
   ]
  },
  {
   "cell_type": "code",
   "execution_count": 17,
   "metadata": {
    "collapsed": false
   },
   "outputs": [
    {
     "data": {
      "text/plain": [
       "6.5433062000996918"
      ]
     },
     "execution_count": 17,
     "metadata": {},
     "output_type": "execute_result"
    }
   ],
   "source": [
    "mem = MapEqnManager(G)\n",
    "mem.code_length()"
   ]
  },
  {
   "cell_type": "code",
   "execution_count": 18,
   "metadata": {
    "collapsed": false
   },
   "outputs": [
    {
     "name": "stdout",
     "output_type": "stream",
     "text": [
      "[16, 25, 6, 23, 5, 3, 19, 22, 18, 15, 2, 1, 21, 10, 7, 17, 12, 13, 4, 11, 20, 24, 8, 9, 14]\n"
     ]
    }
   ],
   "source": [
    "def get_nodes_and_shuffle(G):\n",
    "    nodes = list(G.nodes_iter())\n",
    "    random.shuffle(nodes)\n",
    "    return nodes\n",
    "\n",
    "nodes = get_nodes_and_shuffle(mem.G)\n",
    "print(nodes)"
   ]
  },
  {
   "cell_type": "code",
   "execution_count": 19,
   "metadata": {
    "collapsed": false
   },
   "outputs": [
    {
     "name": "stdout",
     "output_type": "stream",
     "text": [
      "[2, 3]\n",
      "3\n"
     ]
    }
   ],
   "source": [
    "def find_greatest_neighbor_decrease(mG, n):\n",
    "    node_module = mG.nm[n] # module of focal node\n",
    "    neighbors = mG.G.neighbors(n)\n",
    "    scores = {None: mG.code_length()}\n",
    "    \n",
    "    for neighbor in neighbors:\n",
    "        original_module = mG.nm[neighbor]\n",
    "        mG.move_node_to_module(neighbor, node_module)\n",
    "        scores[neighbor] = mG.code_length()\n",
    "        mG.move_node_to_module(neighbor, original_module)\n",
    "        \n",
    "    return min(scores.keys(), key=lambda k: scores[k])\n",
    "\n",
    "print(mem.G.neighbors(1))\n",
    "print(find_greatest_neighbor_decrease(mem, 1))"
   ]
  },
  {
   "cell_type": "code",
   "execution_count": 20,
   "metadata": {
    "collapsed": false
   },
   "outputs": [
    {
     "data": {
      "text/html": [
       "<style>\n",
       "    .node {\n",
       "      stroke: #fff;\n",
       "      stroke-width: 1.5px;\n",
       "    }\n",
       "\n",
       "    .link {\n",
       "      stroke: #999;\n",
       "      stroke-opacity: .6;\n",
       "    }\n",
       "\n",
       "    .node text {\n",
       "      pointer-events: none;\n",
       "      font: 10px sans-serif;\n",
       "      color: #000;\n",
       "      stroke-width: 0;\n",
       "    }\n",
       "</style>\n",
       "<script>\n",
       "+function() {\n",
       "    var options = {\n",
       "        'divid': '#xce46556ab5704377b6fe38987a254913',\n",
       "        'data': {\"links\": [{\"value\": 1, \"target\": 1, \"source\": 0}, {\"value\": 1, \"target\": 2, \"source\": 0}, {\"value\": 1, \"target\": 2, \"source\": 1}, {\"value\": 1, \"target\": 3, \"source\": 1}, {\"value\": 1, \"target\": 4, \"source\": 1}, {\"value\": 1, \"target\": 5, \"source\": 1}, {\"value\": 1, \"target\": 5, \"source\": 2}, {\"value\": 1, \"target\": 6, \"source\": 2}, {\"value\": 1, \"target\": 5, \"source\": 4}, {\"value\": 1, \"target\": 7, \"source\": 6}, {\"value\": 1, \"target\": 8, \"source\": 6}, {\"value\": 1, \"target\": 9, \"source\": 6}, {\"value\": 1, \"target\": 8, \"source\": 7}, {\"value\": 1, \"target\": 11, \"source\": 7}, {\"value\": 1, \"target\": 9, \"source\": 8}, {\"value\": 1, \"target\": 10, \"source\": 8}, {\"value\": 1, \"target\": 11, \"source\": 8}, {\"value\": 1, \"target\": 24, \"source\": 9}, {\"value\": 1, \"target\": 12, \"source\": 9}, {\"value\": 1, \"target\": 11, \"source\": 10}, {\"value\": 1, \"target\": 12, \"source\": 10}, {\"value\": 1, \"target\": 12, \"source\": 11}, {\"value\": 1, \"target\": 13, \"source\": 12}, {\"value\": 1, \"target\": 15, \"source\": 13}, {\"value\": 1, \"target\": 14, \"source\": 13}, {\"value\": 1, \"target\": 15, \"source\": 14}, {\"value\": 1, \"target\": 16, \"source\": 14}, {\"value\": 1, \"target\": 16, \"source\": 15}, {\"value\": 1, \"target\": 17, \"source\": 15}, {\"value\": 1, \"target\": 18, \"source\": 17}, {\"value\": 1, \"target\": 19, \"source\": 17}, {\"value\": 1, \"target\": 20, \"source\": 17}, {\"value\": 1, \"target\": 19, \"source\": 18}, {\"value\": 1, \"target\": 21, \"source\": 18}, {\"value\": 1, \"target\": 21, \"source\": 19}, {\"value\": 1, \"target\": 24, \"source\": 20}, {\"value\": 1, \"target\": 21, \"source\": 20}, {\"value\": 1, \"target\": 22, \"source\": 21}, {\"value\": 1, \"target\": 23, \"source\": 21}, {\"value\": 1, \"target\": 24, \"source\": 21}, {\"value\": 1, \"target\": 24, \"source\": 23}], \"nodes\": [{\"group\": 1, \"name\": \"1\"}, {\"group\": 2, \"name\": \"2\"}, {\"group\": 3, \"name\": \"3\"}, {\"group\": 4, \"name\": \"4\"}, {\"group\": 5, \"name\": \"5\"}, {\"group\": 6, \"name\": \"6\"}, {\"group\": 7, \"name\": \"7\"}, {\"group\": 8, \"name\": \"8\"}, {\"group\": 9, \"name\": \"9\"}, {\"group\": 10, \"name\": \"10\"}, {\"group\": 11, \"name\": \"11\"}, {\"group\": 12, \"name\": \"12\"}, {\"group\": 13, \"name\": \"13\"}, {\"group\": 14, \"name\": \"14\"}, {\"group\": 15, \"name\": \"15\"}, {\"group\": 16, \"name\": \"16\"}, {\"group\": 17, \"name\": \"17\"}, {\"group\": 18, \"name\": \"18\"}, {\"group\": 19, \"name\": \"19\"}, {\"group\": 20, \"name\": \"20\"}, {\"group\": 21, \"name\": \"21\"}, {\"group\": 22, \"name\": \"22\"}, {\"group\": 23, \"name\": \"23\"}, {\"group\": 24, \"name\": \"24\"}, {\"group\": 25, \"name\": \"25\"}]},\n",
       "        'width': 300,\n",
       "        'height': 300,\n",
       "        'linkdistance': 30\n",
       "    }\n",
       "\n",
       "    if (window.d3 === undefined) {\n",
       "        console.log('Loading D3 from CDN');\n",
       "        $.getScript('https://cdnjs.cloudflare.com/ajax/libs/d3/3.5.7/d3.js')\n",
       "            .done(function() {\n",
       "                plot_force(options);\n",
       "            });\n",
       "    } else {\n",
       "        plot_force(options);\n",
       "    }\n",
       "\n",
       "    function plot_force(o) {\n",
       "        var color = d3.scale.category20();\n",
       "\n",
       "        var svg = d3.select(o.divid).append(\"svg\")\n",
       "            .attr(\"width\", o.width)\n",
       "            .attr(\"height\", o.height);\n",
       "\n",
       "        var force = d3.layout.force()\n",
       "            .charge(-120)\n",
       "            .linkDistance(o.linkdistance)\n",
       "            .size([o.width, o.height])\n",
       "            .nodes(o.data.nodes)\n",
       "            .links(o.data.links)\n",
       "            .start();\n",
       "\n",
       "        var link = svg.selectAll(\".link\")\n",
       "                .data(o.data.links)\n",
       "            .enter().append(\"line\")\n",
       "                .attr(\"class\", \"link\")\n",
       "                .style(\"stroke-width\", function(d) { return Math.sqrt(d.value); });\n",
       "\n",
       "        var node = svg.selectAll(\".node\")\n",
       "                .data(o.data.nodes)\n",
       "            .enter().append(\"g\")\n",
       "                .attr(\"class\", \"node\")\n",
       "                .call(force.drag)\n",
       "\n",
       "        node.append(\"circle\")\n",
       "            .attr(\"r\", 5)\n",
       "            .style(\"fill\", function(d) { return color(d.group); });\n",
       "\n",
       "        /*node.append(\"title\")\n",
       "            .text(function(d) { return d.name; });*/\n",
       "\n",
       "        \n",
       "\n",
       "        force.on(\"tick\", function() {\n",
       "            link.attr(\"x1\", function(d) { return d.source.x; })\n",
       "                .attr(\"y1\", function(d) { return d.source.y; })\n",
       "                .attr(\"x2\", function(d) { return d.target.x; })\n",
       "                .attr(\"y2\", function(d) { return d.target.y; });\n",
       "\n",
       "            node.attr(\"transform\", function(d) { return \"translate(\" + d.x + \",\" + d.y + \")\"; });\n",
       "        });\n",
       "    }\n",
       "}();\n",
       "</script>\n",
       "<div id=\"xce46556ab5704377b6fe38987a254913\">\n",
       "</div>"
      ],
      "text/plain": [
       "<IPython.core.display.HTML object>"
      ]
     },
     "execution_count": 20,
     "metadata": {},
     "output_type": "execute_result"
    }
   ],
   "source": [
    "mem._d3(size=size)"
   ]
  },
  {
   "cell_type": "code",
   "execution_count": 21,
   "metadata": {
    "collapsed": false
   },
   "outputs": [],
   "source": [
    "def node_collapse_iteration(mG):\n",
    "    nodes = get_nodes_and_shuffle(mG.G)\n",
    "    \n",
    "    start = mG.nm.copy()\n",
    "    #changed = False\n",
    "    for n in nodes:\n",
    "        best = find_greatest_neighbor_decrease(mG, n)\n",
    "        if best is None:\n",
    "            continue\n",
    "        mG.move_node_to_module(best, mG.nm[n])\n",
    "        # oscillations might be thwarting \"any change\" meaning \"a net change\"\n",
    "        # need to check, for now just check en-masse at start/end\n",
    "        #changed = True \n",
    "\n",
    "    return set(start.items()) != set(mG.nm.items())"
   ]
  },
  {
   "cell_type": "code",
   "execution_count": 22,
   "metadata": {
    "collapsed": false
   },
   "outputs": [
    {
     "data": {
      "text/html": [
       "<style>\n",
       "    .node {\n",
       "      stroke: #fff;\n",
       "      stroke-width: 1.5px;\n",
       "    }\n",
       "\n",
       "    .link {\n",
       "      stroke: #999;\n",
       "      stroke-opacity: .6;\n",
       "    }\n",
       "\n",
       "    .node text {\n",
       "      pointer-events: none;\n",
       "      font: 10px sans-serif;\n",
       "      color: #000;\n",
       "      stroke-width: 0;\n",
       "    }\n",
       "</style>\n",
       "<script>\n",
       "+function() {\n",
       "    var options = {\n",
       "        'divid': '#x47564a2465504bd5be35cda26de999e2',\n",
       "        'data': {\"links\": [{\"value\": 1, \"target\": 1, \"source\": 0}, {\"value\": 1, \"target\": 2, \"source\": 0}, {\"value\": 1, \"target\": 2, \"source\": 1}, {\"value\": 1, \"target\": 3, \"source\": 1}, {\"value\": 1, \"target\": 4, \"source\": 1}, {\"value\": 1, \"target\": 5, \"source\": 1}, {\"value\": 1, \"target\": 5, \"source\": 2}, {\"value\": 1, \"target\": 6, \"source\": 2}, {\"value\": 1, \"target\": 5, \"source\": 4}, {\"value\": 1, \"target\": 7, \"source\": 6}, {\"value\": 1, \"target\": 8, \"source\": 6}, {\"value\": 1, \"target\": 9, \"source\": 6}, {\"value\": 1, \"target\": 8, \"source\": 7}, {\"value\": 1, \"target\": 11, \"source\": 7}, {\"value\": 1, \"target\": 9, \"source\": 8}, {\"value\": 1, \"target\": 10, \"source\": 8}, {\"value\": 1, \"target\": 11, \"source\": 8}, {\"value\": 1, \"target\": 24, \"source\": 9}, {\"value\": 1, \"target\": 12, \"source\": 9}, {\"value\": 1, \"target\": 11, \"source\": 10}, {\"value\": 1, \"target\": 12, \"source\": 10}, {\"value\": 1, \"target\": 12, \"source\": 11}, {\"value\": 1, \"target\": 13, \"source\": 12}, {\"value\": 1, \"target\": 15, \"source\": 13}, {\"value\": 1, \"target\": 14, \"source\": 13}, {\"value\": 1, \"target\": 15, \"source\": 14}, {\"value\": 1, \"target\": 16, \"source\": 14}, {\"value\": 1, \"target\": 16, \"source\": 15}, {\"value\": 1, \"target\": 17, \"source\": 15}, {\"value\": 1, \"target\": 18, \"source\": 17}, {\"value\": 1, \"target\": 19, \"source\": 17}, {\"value\": 1, \"target\": 20, \"source\": 17}, {\"value\": 1, \"target\": 19, \"source\": 18}, {\"value\": 1, \"target\": 21, \"source\": 18}, {\"value\": 1, \"target\": 21, \"source\": 19}, {\"value\": 1, \"target\": 24, \"source\": 20}, {\"value\": 1, \"target\": 21, \"source\": 20}, {\"value\": 1, \"target\": 22, \"source\": 21}, {\"value\": 1, \"target\": 23, \"source\": 21}, {\"value\": 1, \"target\": 24, \"source\": 21}, {\"value\": 1, \"target\": 24, \"source\": 23}], \"nodes\": [{\"group\": 3, \"name\": \"1\"}, {\"group\": 5, \"name\": \"2\"}, {\"group\": 3, \"name\": \"3\"}, {\"group\": 2, \"name\": \"4\"}, {\"group\": 5, \"name\": \"5\"}, {\"group\": 5, \"name\": \"6\"}, {\"group\": 7, \"name\": \"7\"}, {\"group\": 11, \"name\": \"8\"}, {\"group\": 7, \"name\": \"9\"}, {\"group\": 7, \"name\": \"10\"}, {\"group\": 11, \"name\": \"11\"}, {\"group\": 11, \"name\": \"12\"}, {\"group\": 13, \"name\": \"13\"}, {\"group\": 13, \"name\": \"14\"}, {\"group\": 17, \"name\": \"15\"}, {\"group\": 17, \"name\": \"16\"}, {\"group\": 17, \"name\": \"17\"}, {\"group\": 20, \"name\": \"18\"}, {\"group\": 20, \"name\": \"19\"}, {\"group\": 20, \"name\": \"20\"}, {\"group\": 25, \"name\": \"21\"}, {\"group\": 25, \"name\": \"22\"}, {\"group\": 23, \"name\": \"23\"}, {\"group\": 25, \"name\": \"24\"}, {\"group\": 25, \"name\": \"25\"}]},\n",
       "        'width': 300,\n",
       "        'height': 300,\n",
       "        'linkdistance': 30\n",
       "    }\n",
       "\n",
       "    if (window.d3 === undefined) {\n",
       "        console.log('Loading D3 from CDN');\n",
       "        $.getScript('https://cdnjs.cloudflare.com/ajax/libs/d3/3.5.7/d3.js')\n",
       "            .done(function() {\n",
       "                plot_force(options);\n",
       "            });\n",
       "    } else {\n",
       "        plot_force(options);\n",
       "    }\n",
       "\n",
       "    function plot_force(o) {\n",
       "        var color = d3.scale.category20();\n",
       "\n",
       "        var svg = d3.select(o.divid).append(\"svg\")\n",
       "            .attr(\"width\", o.width)\n",
       "            .attr(\"height\", o.height);\n",
       "\n",
       "        var force = d3.layout.force()\n",
       "            .charge(-120)\n",
       "            .linkDistance(o.linkdistance)\n",
       "            .size([o.width, o.height])\n",
       "            .nodes(o.data.nodes)\n",
       "            .links(o.data.links)\n",
       "            .start();\n",
       "\n",
       "        var link = svg.selectAll(\".link\")\n",
       "                .data(o.data.links)\n",
       "            .enter().append(\"line\")\n",
       "                .attr(\"class\", \"link\")\n",
       "                .style(\"stroke-width\", function(d) { return Math.sqrt(d.value); });\n",
       "\n",
       "        var node = svg.selectAll(\".node\")\n",
       "                .data(o.data.nodes)\n",
       "            .enter().append(\"g\")\n",
       "                .attr(\"class\", \"node\")\n",
       "                .call(force.drag)\n",
       "\n",
       "        node.append(\"circle\")\n",
       "            .attr(\"r\", 5)\n",
       "            .style(\"fill\", function(d) { return color(d.group); });\n",
       "\n",
       "        /*node.append(\"title\")\n",
       "            .text(function(d) { return d.name; });*/\n",
       "\n",
       "        \n",
       "\n",
       "        force.on(\"tick\", function() {\n",
       "            link.attr(\"x1\", function(d) { return d.source.x; })\n",
       "                .attr(\"y1\", function(d) { return d.source.y; })\n",
       "                .attr(\"x2\", function(d) { return d.target.x; })\n",
       "                .attr(\"y2\", function(d) { return d.target.y; });\n",
       "\n",
       "            node.attr(\"transform\", function(d) { return \"translate(\" + d.x + \",\" + d.y + \")\"; });\n",
       "        });\n",
       "    }\n",
       "}();\n",
       "</script>\n",
       "<div id=\"x47564a2465504bd5be35cda26de999e2\">\n",
       "</div>"
      ],
      "text/plain": [
       "<IPython.core.display.HTML object>"
      ]
     },
     "execution_count": 22,
     "metadata": {},
     "output_type": "execute_result"
    }
   ],
   "source": [
    "node_collapse_iteration(mem)\n",
    "mem._d3((300, 300))"
   ]
  },
  {
   "cell_type": "code",
   "execution_count": 23,
   "metadata": {
    "collapsed": false
   },
   "outputs": [
    {
     "name": "stdout",
     "output_type": "stream",
     "text": [
      "3.52818480528\n"
     ]
    },
    {
     "data": {
      "text/html": [
       "<style>\n",
       "    .node {\n",
       "      stroke: #fff;\n",
       "      stroke-width: 1.5px;\n",
       "    }\n",
       "\n",
       "    .link {\n",
       "      stroke: #999;\n",
       "      stroke-opacity: .6;\n",
       "    }\n",
       "\n",
       "    .node text {\n",
       "      pointer-events: none;\n",
       "      font: 10px sans-serif;\n",
       "      color: #000;\n",
       "      stroke-width: 0;\n",
       "    }\n",
       "</style>\n",
       "<script>\n",
       "+function() {\n",
       "    var options = {\n",
       "        'divid': '#x2976ed6ffc694160b3727d44880713d6',\n",
       "        'data': {\"links\": [{\"value\": 1, \"target\": 1, \"source\": 0}, {\"value\": 1, \"target\": 2, \"source\": 0}, {\"value\": 1, \"target\": 2, \"source\": 1}, {\"value\": 1, \"target\": 3, \"source\": 1}, {\"value\": 1, \"target\": 4, \"source\": 1}, {\"value\": 1, \"target\": 5, \"source\": 1}, {\"value\": 1, \"target\": 5, \"source\": 2}, {\"value\": 1, \"target\": 6, \"source\": 2}, {\"value\": 1, \"target\": 5, \"source\": 4}, {\"value\": 1, \"target\": 7, \"source\": 6}, {\"value\": 1, \"target\": 8, \"source\": 6}, {\"value\": 1, \"target\": 9, \"source\": 6}, {\"value\": 1, \"target\": 8, \"source\": 7}, {\"value\": 1, \"target\": 11, \"source\": 7}, {\"value\": 1, \"target\": 9, \"source\": 8}, {\"value\": 1, \"target\": 10, \"source\": 8}, {\"value\": 1, \"target\": 11, \"source\": 8}, {\"value\": 1, \"target\": 24, \"source\": 9}, {\"value\": 1, \"target\": 12, \"source\": 9}, {\"value\": 1, \"target\": 11, \"source\": 10}, {\"value\": 1, \"target\": 12, \"source\": 10}, {\"value\": 1, \"target\": 12, \"source\": 11}, {\"value\": 1, \"target\": 13, \"source\": 12}, {\"value\": 1, \"target\": 15, \"source\": 13}, {\"value\": 1, \"target\": 14, \"source\": 13}, {\"value\": 1, \"target\": 15, \"source\": 14}, {\"value\": 1, \"target\": 16, \"source\": 14}, {\"value\": 1, \"target\": 16, \"source\": 15}, {\"value\": 1, \"target\": 17, \"source\": 15}, {\"value\": 1, \"target\": 18, \"source\": 17}, {\"value\": 1, \"target\": 19, \"source\": 17}, {\"value\": 1, \"target\": 20, \"source\": 17}, {\"value\": 1, \"target\": 19, \"source\": 18}, {\"value\": 1, \"target\": 21, \"source\": 18}, {\"value\": 1, \"target\": 21, \"source\": 19}, {\"value\": 1, \"target\": 24, \"source\": 20}, {\"value\": 1, \"target\": 21, \"source\": 20}, {\"value\": 1, \"target\": 22, \"source\": 21}, {\"value\": 1, \"target\": 23, \"source\": 21}, {\"value\": 1, \"target\": 24, \"source\": 21}, {\"value\": 1, \"target\": 24, \"source\": 23}], \"nodes\": [{\"group\": 6, \"name\": \"1\"}, {\"group\": 6, \"name\": \"2\"}, {\"group\": 6, \"name\": \"3\"}, {\"group\": 6, \"name\": \"4\"}, {\"group\": 6, \"name\": \"5\"}, {\"group\": 6, \"name\": \"6\"}, {\"group\": 9, \"name\": \"7\"}, {\"group\": 9, \"name\": \"8\"}, {\"group\": 9, \"name\": \"9\"}, {\"group\": 9, \"name\": \"10\"}, {\"group\": 13, \"name\": \"11\"}, {\"group\": 13, \"name\": \"12\"}, {\"group\": 13, \"name\": \"13\"}, {\"group\": 15, \"name\": \"14\"}, {\"group\": 15, \"name\": \"15\"}, {\"group\": 15, \"name\": \"16\"}, {\"group\": 15, \"name\": \"17\"}, {\"group\": 20, \"name\": \"18\"}, {\"group\": 20, \"name\": \"19\"}, {\"group\": 20, \"name\": \"20\"}, {\"group\": 24, \"name\": \"21\"}, {\"group\": 24, \"name\": \"22\"}, {\"group\": 24, \"name\": \"23\"}, {\"group\": 24, \"name\": \"24\"}, {\"group\": 24, \"name\": \"25\"}]},\n",
       "        'width': 300,\n",
       "        'height': 300,\n",
       "        'linkdistance': 30\n",
       "    }\n",
       "\n",
       "    if (window.d3 === undefined) {\n",
       "        console.log('Loading D3 from CDN');\n",
       "        $.getScript('https://cdnjs.cloudflare.com/ajax/libs/d3/3.5.7/d3.js')\n",
       "            .done(function() {\n",
       "                plot_force(options);\n",
       "            });\n",
       "    } else {\n",
       "        plot_force(options);\n",
       "    }\n",
       "\n",
       "    function plot_force(o) {\n",
       "        var color = d3.scale.category20();\n",
       "\n",
       "        var svg = d3.select(o.divid).append(\"svg\")\n",
       "            .attr(\"width\", o.width)\n",
       "            .attr(\"height\", o.height);\n",
       "\n",
       "        var force = d3.layout.force()\n",
       "            .charge(-120)\n",
       "            .linkDistance(o.linkdistance)\n",
       "            .size([o.width, o.height])\n",
       "            .nodes(o.data.nodes)\n",
       "            .links(o.data.links)\n",
       "            .start();\n",
       "\n",
       "        var link = svg.selectAll(\".link\")\n",
       "                .data(o.data.links)\n",
       "            .enter().append(\"line\")\n",
       "                .attr(\"class\", \"link\")\n",
       "                .style(\"stroke-width\", function(d) { return Math.sqrt(d.value); });\n",
       "\n",
       "        var node = svg.selectAll(\".node\")\n",
       "                .data(o.data.nodes)\n",
       "            .enter().append(\"g\")\n",
       "                .attr(\"class\", \"node\")\n",
       "                .call(force.drag)\n",
       "\n",
       "        node.append(\"circle\")\n",
       "            .attr(\"r\", 5)\n",
       "            .style(\"fill\", function(d) { return color(d.group); });\n",
       "\n",
       "        /*node.append(\"title\")\n",
       "            .text(function(d) { return d.name; });*/\n",
       "\n",
       "        \n",
       "\n",
       "        force.on(\"tick\", function() {\n",
       "            link.attr(\"x1\", function(d) { return d.source.x; })\n",
       "                .attr(\"y1\", function(d) { return d.source.y; })\n",
       "                .attr(\"x2\", function(d) { return d.target.x; })\n",
       "                .attr(\"y2\", function(d) { return d.target.y; });\n",
       "\n",
       "            node.attr(\"transform\", function(d) { return \"translate(\" + d.x + \",\" + d.y + \")\"; });\n",
       "        });\n",
       "    }\n",
       "}();\n",
       "</script>\n",
       "<div id=\"x2976ed6ffc694160b3727d44880713d6\">\n",
       "</div>"
      ],
      "text/plain": [
       "<IPython.core.display.HTML object>"
      ]
     },
     "execution_count": 23,
     "metadata": {},
     "output_type": "execute_result"
    }
   ],
   "source": [
    "mem = MapEqnManager(G)\n",
    "start = time.time()\n",
    "while True:\n",
    "    changes = node_collapse_iteration(mem)\n",
    "\n",
    "    if not changes:\n",
    "        break\n",
    "    elif time.time() - start > 5:\n",
    "        raise Exception('timeout')\n",
    "\n",
    "print(mem.code_length())\n",
    "mem._d3(size=size)"
   ]
  },
  {
   "cell_type": "code",
   "execution_count": 24,
   "metadata": {
    "collapsed": false
   },
   "outputs": [
    {
     "name": "stdout",
     "output_type": "stream",
     "text": [
      "[15, 9, 24, 6, 13, 20]\n"
     ]
    }
   ],
   "source": [
    "def get_modules_and_shuffle(mG):\n",
    "    modules = [module for module, nodes in mG.mn.items() if nodes]\n",
    "    random.shuffle(modules)\n",
    "    return modules\n",
    "\n",
    "modules = get_modules_and_shuffle(mem)\n",
    "print(modules)"
   ]
  },
  {
   "cell_type": "code",
   "execution_count": 25,
   "metadata": {
    "collapsed": false
   },
   "outputs": [],
   "source": [
    "def find_greatest_module_neighbor_decrease(mG, module):\n",
    "    module_neighbors = mG.module_neighbors(module)\n",
    "            \n",
    "    scores = {None: mG.code_length()}\n",
    "    \n",
    "    for mneighbor in module_neighbors:\n",
    "        nodes = set(mG.mn[mneighbor]) # copy\n",
    "        mG.move_nodes_to_module(nodes, module)\n",
    "        scores[mneighbor] = mG.code_length()\n",
    "        mG.move_nodes_to_module(nodes, mneighbor)\n",
    "        \n",
    "    return min(scores.keys(), key=lambda k: scores[k])\n",
    "\n",
    "find_greatest_module_neighbor_decrease(mem, 19)"
   ]
  },
  {
   "cell_type": "code",
   "execution_count": 26,
   "metadata": {
    "collapsed": true
   },
   "outputs": [],
   "source": [
    "def module_collapse_iteration(mG):\n",
    "    modules = get_modules_and_shuffle(mG)\n",
    "    \n",
    "    start = set(mG.nm.items())\n",
    "    for m in modules:\n",
    "        mbest = find_greatest_module_neighbor_decrease(mG, m)\n",
    "        if mbest is None:\n",
    "            continue\n",
    "        mG.move_nodes_to_module(mG.mn[mbest], m)\n",
    "\n",
    "    return start != set(mG.nm.items())"
   ]
  },
  {
   "cell_type": "code",
   "execution_count": 27,
   "metadata": {
    "collapsed": false
   },
   "outputs": [
    {
     "name": "stdout",
     "output_type": "stream",
     "text": [
      "3.26702858105\n"
     ]
    },
    {
     "data": {
      "text/html": [
       "<style>\n",
       "    .node {\n",
       "      stroke: #fff;\n",
       "      stroke-width: 1.5px;\n",
       "    }\n",
       "\n",
       "    .link {\n",
       "      stroke: #999;\n",
       "      stroke-opacity: .6;\n",
       "    }\n",
       "\n",
       "    .node text {\n",
       "      pointer-events: none;\n",
       "      font: 10px sans-serif;\n",
       "      color: #000;\n",
       "      stroke-width: 0;\n",
       "    }\n",
       "</style>\n",
       "<script>\n",
       "+function() {\n",
       "    var options = {\n",
       "        'divid': '#x93abc856a48943379e81c9f27684456d',\n",
       "        'data': {\"links\": [{\"value\": 1, \"target\": 1, \"source\": 0}, {\"value\": 1, \"target\": 2, \"source\": 0}, {\"value\": 1, \"target\": 2, \"source\": 1}, {\"value\": 1, \"target\": 3, \"source\": 1}, {\"value\": 1, \"target\": 4, \"source\": 1}, {\"value\": 1, \"target\": 5, \"source\": 1}, {\"value\": 1, \"target\": 5, \"source\": 2}, {\"value\": 1, \"target\": 6, \"source\": 2}, {\"value\": 1, \"target\": 5, \"source\": 4}, {\"value\": 1, \"target\": 7, \"source\": 6}, {\"value\": 1, \"target\": 8, \"source\": 6}, {\"value\": 1, \"target\": 9, \"source\": 6}, {\"value\": 1, \"target\": 8, \"source\": 7}, {\"value\": 1, \"target\": 11, \"source\": 7}, {\"value\": 1, \"target\": 9, \"source\": 8}, {\"value\": 1, \"target\": 10, \"source\": 8}, {\"value\": 1, \"target\": 11, \"source\": 8}, {\"value\": 1, \"target\": 24, \"source\": 9}, {\"value\": 1, \"target\": 12, \"source\": 9}, {\"value\": 1, \"target\": 11, \"source\": 10}, {\"value\": 1, \"target\": 12, \"source\": 10}, {\"value\": 1, \"target\": 12, \"source\": 11}, {\"value\": 1, \"target\": 13, \"source\": 12}, {\"value\": 1, \"target\": 15, \"source\": 13}, {\"value\": 1, \"target\": 14, \"source\": 13}, {\"value\": 1, \"target\": 15, \"source\": 14}, {\"value\": 1, \"target\": 16, \"source\": 14}, {\"value\": 1, \"target\": 16, \"source\": 15}, {\"value\": 1, \"target\": 17, \"source\": 15}, {\"value\": 1, \"target\": 18, \"source\": 17}, {\"value\": 1, \"target\": 19, \"source\": 17}, {\"value\": 1, \"target\": 20, \"source\": 17}, {\"value\": 1, \"target\": 19, \"source\": 18}, {\"value\": 1, \"target\": 21, \"source\": 18}, {\"value\": 1, \"target\": 21, \"source\": 19}, {\"value\": 1, \"target\": 24, \"source\": 20}, {\"value\": 1, \"target\": 21, \"source\": 20}, {\"value\": 1, \"target\": 22, \"source\": 21}, {\"value\": 1, \"target\": 23, \"source\": 21}, {\"value\": 1, \"target\": 24, \"source\": 21}, {\"value\": 1, \"target\": 24, \"source\": 23}], \"nodes\": [{\"group\": 6, \"name\": \"1\"}, {\"group\": 6, \"name\": \"2\"}, {\"group\": 6, \"name\": \"3\"}, {\"group\": 6, \"name\": \"4\"}, {\"group\": 6, \"name\": \"5\"}, {\"group\": 6, \"name\": \"6\"}, {\"group\": 13, \"name\": \"7\"}, {\"group\": 13, \"name\": \"8\"}, {\"group\": 13, \"name\": \"9\"}, {\"group\": 13, \"name\": \"10\"}, {\"group\": 13, \"name\": \"11\"}, {\"group\": 13, \"name\": \"12\"}, {\"group\": 13, \"name\": \"13\"}, {\"group\": 15, \"name\": \"14\"}, {\"group\": 15, \"name\": \"15\"}, {\"group\": 15, \"name\": \"16\"}, {\"group\": 15, \"name\": \"17\"}, {\"group\": 20, \"name\": \"18\"}, {\"group\": 20, \"name\": \"19\"}, {\"group\": 20, \"name\": \"20\"}, {\"group\": 20, \"name\": \"21\"}, {\"group\": 20, \"name\": \"22\"}, {\"group\": 20, \"name\": \"23\"}, {\"group\": 20, \"name\": \"24\"}, {\"group\": 20, \"name\": \"25\"}]},\n",
       "        'width': 300,\n",
       "        'height': 300,\n",
       "        'linkdistance': 30\n",
       "    }\n",
       "\n",
       "    if (window.d3 === undefined) {\n",
       "        console.log('Loading D3 from CDN');\n",
       "        $.getScript('https://cdnjs.cloudflare.com/ajax/libs/d3/3.5.7/d3.js')\n",
       "            .done(function() {\n",
       "                plot_force(options);\n",
       "            });\n",
       "    } else {\n",
       "        plot_force(options);\n",
       "    }\n",
       "\n",
       "    function plot_force(o) {\n",
       "        var color = d3.scale.category20();\n",
       "\n",
       "        var svg = d3.select(o.divid).append(\"svg\")\n",
       "            .attr(\"width\", o.width)\n",
       "            .attr(\"height\", o.height);\n",
       "\n",
       "        var force = d3.layout.force()\n",
       "            .charge(-120)\n",
       "            .linkDistance(o.linkdistance)\n",
       "            .size([o.width, o.height])\n",
       "            .nodes(o.data.nodes)\n",
       "            .links(o.data.links)\n",
       "            .start();\n",
       "\n",
       "        var link = svg.selectAll(\".link\")\n",
       "                .data(o.data.links)\n",
       "            .enter().append(\"line\")\n",
       "                .attr(\"class\", \"link\")\n",
       "                .style(\"stroke-width\", function(d) { return Math.sqrt(d.value); });\n",
       "\n",
       "        var node = svg.selectAll(\".node\")\n",
       "                .data(o.data.nodes)\n",
       "            .enter().append(\"g\")\n",
       "                .attr(\"class\", \"node\")\n",
       "                .call(force.drag)\n",
       "\n",
       "        node.append(\"circle\")\n",
       "            .attr(\"r\", 5)\n",
       "            .style(\"fill\", function(d) { return color(d.group); });\n",
       "\n",
       "        /*node.append(\"title\")\n",
       "            .text(function(d) { return d.name; });*/\n",
       "\n",
       "        \n",
       "\n",
       "        force.on(\"tick\", function() {\n",
       "            link.attr(\"x1\", function(d) { return d.source.x; })\n",
       "                .attr(\"y1\", function(d) { return d.source.y; })\n",
       "                .attr(\"x2\", function(d) { return d.target.x; })\n",
       "                .attr(\"y2\", function(d) { return d.target.y; });\n",
       "\n",
       "            node.attr(\"transform\", function(d) { return \"translate(\" + d.x + \",\" + d.y + \")\"; });\n",
       "        });\n",
       "    }\n",
       "}();\n",
       "</script>\n",
       "<div id=\"x93abc856a48943379e81c9f27684456d\">\n",
       "</div>"
      ],
      "text/plain": [
       "<IPython.core.display.HTML object>"
      ]
     },
     "execution_count": 27,
     "metadata": {},
     "output_type": "execute_result"
    }
   ],
   "source": [
    "start = time.time()\n",
    "while True:\n",
    "    changes = module_collapse_iteration(mem)\n",
    "\n",
    "    if not changes:\n",
    "        break\n",
    "    elif time.time() - start > 5:\n",
    "        raise Exception('timeout')\n",
    "\n",
    "print(mem.code_length())\n",
    "mem._d3(size=size)"
   ]
  },
  {
   "cell_type": "code",
   "execution_count": 28,
   "metadata": {
    "collapsed": false
   },
   "outputs": [
    {
     "name": "stdout",
     "output_type": "stream",
     "text": [
      "3.26702858105\n"
     ]
    },
    {
     "data": {
      "text/html": [
       "<style>\n",
       "    .node {\n",
       "      stroke: #fff;\n",
       "      stroke-width: 1.5px;\n",
       "    }\n",
       "\n",
       "    .link {\n",
       "      stroke: #999;\n",
       "      stroke-opacity: .6;\n",
       "    }\n",
       "\n",
       "    .node text {\n",
       "      pointer-events: none;\n",
       "      font: 10px sans-serif;\n",
       "      color: #000;\n",
       "      stroke-width: 0;\n",
       "    }\n",
       "</style>\n",
       "<script>\n",
       "+function() {\n",
       "    var options = {\n",
       "        'divid': '#x737da04315354a789c5ea030f4efaa79',\n",
       "        'data': {\"links\": [{\"value\": 1, \"target\": 1, \"source\": 0}, {\"value\": 1, \"target\": 2, \"source\": 0}, {\"value\": 1, \"target\": 2, \"source\": 1}, {\"value\": 1, \"target\": 3, \"source\": 1}, {\"value\": 1, \"target\": 4, \"source\": 1}, {\"value\": 1, \"target\": 5, \"source\": 1}, {\"value\": 1, \"target\": 5, \"source\": 2}, {\"value\": 1, \"target\": 6, \"source\": 2}, {\"value\": 1, \"target\": 5, \"source\": 4}, {\"value\": 1, \"target\": 7, \"source\": 6}, {\"value\": 1, \"target\": 8, \"source\": 6}, {\"value\": 1, \"target\": 9, \"source\": 6}, {\"value\": 1, \"target\": 8, \"source\": 7}, {\"value\": 1, \"target\": 11, \"source\": 7}, {\"value\": 1, \"target\": 9, \"source\": 8}, {\"value\": 1, \"target\": 10, \"source\": 8}, {\"value\": 1, \"target\": 11, \"source\": 8}, {\"value\": 1, \"target\": 24, \"source\": 9}, {\"value\": 1, \"target\": 12, \"source\": 9}, {\"value\": 1, \"target\": 11, \"source\": 10}, {\"value\": 1, \"target\": 12, \"source\": 10}, {\"value\": 1, \"target\": 12, \"source\": 11}, {\"value\": 1, \"target\": 13, \"source\": 12}, {\"value\": 1, \"target\": 15, \"source\": 13}, {\"value\": 1, \"target\": 14, \"source\": 13}, {\"value\": 1, \"target\": 15, \"source\": 14}, {\"value\": 1, \"target\": 16, \"source\": 14}, {\"value\": 1, \"target\": 16, \"source\": 15}, {\"value\": 1, \"target\": 17, \"source\": 15}, {\"value\": 1, \"target\": 18, \"source\": 17}, {\"value\": 1, \"target\": 19, \"source\": 17}, {\"value\": 1, \"target\": 20, \"source\": 17}, {\"value\": 1, \"target\": 19, \"source\": 18}, {\"value\": 1, \"target\": 21, \"source\": 18}, {\"value\": 1, \"target\": 21, \"source\": 19}, {\"value\": 1, \"target\": 24, \"source\": 20}, {\"value\": 1, \"target\": 21, \"source\": 20}, {\"value\": 1, \"target\": 22, \"source\": 21}, {\"value\": 1, \"target\": 23, \"source\": 21}, {\"value\": 1, \"target\": 24, \"source\": 21}, {\"value\": 1, \"target\": 24, \"source\": 23}], \"nodes\": [{\"group\": 3, \"name\": \"1\"}, {\"group\": 3, \"name\": \"2\"}, {\"group\": 3, \"name\": \"3\"}, {\"group\": 3, \"name\": \"4\"}, {\"group\": 3, \"name\": \"5\"}, {\"group\": 3, \"name\": \"6\"}, {\"group\": 7, \"name\": \"7\"}, {\"group\": 7, \"name\": \"8\"}, {\"group\": 7, \"name\": \"9\"}, {\"group\": 7, \"name\": \"10\"}, {\"group\": 7, \"name\": \"11\"}, {\"group\": 7, \"name\": \"12\"}, {\"group\": 7, \"name\": \"13\"}, {\"group\": 14, \"name\": \"14\"}, {\"group\": 14, \"name\": \"15\"}, {\"group\": 14, \"name\": \"16\"}, {\"group\": 14, \"name\": \"17\"}, {\"group\": 18, \"name\": \"18\"}, {\"group\": 18, \"name\": \"19\"}, {\"group\": 18, \"name\": \"20\"}, {\"group\": 18, \"name\": \"21\"}, {\"group\": 18, \"name\": \"22\"}, {\"group\": 18, \"name\": \"23\"}, {\"group\": 18, \"name\": \"24\"}, {\"group\": 18, \"name\": \"25\"}]},\n",
       "        'width': 300,\n",
       "        'height': 300,\n",
       "        'linkdistance': 30\n",
       "    }\n",
       "\n",
       "    if (window.d3 === undefined) {\n",
       "        console.log('Loading D3 from CDN');\n",
       "        $.getScript('https://cdnjs.cloudflare.com/ajax/libs/d3/3.5.7/d3.js')\n",
       "            .done(function() {\n",
       "                plot_force(options);\n",
       "            });\n",
       "    } else {\n",
       "        plot_force(options);\n",
       "    }\n",
       "\n",
       "    function plot_force(o) {\n",
       "        var color = d3.scale.category20();\n",
       "\n",
       "        var svg = d3.select(o.divid).append(\"svg\")\n",
       "            .attr(\"width\", o.width)\n",
       "            .attr(\"height\", o.height);\n",
       "\n",
       "        var force = d3.layout.force()\n",
       "            .charge(-120)\n",
       "            .linkDistance(o.linkdistance)\n",
       "            .size([o.width, o.height])\n",
       "            .nodes(o.data.nodes)\n",
       "            .links(o.data.links)\n",
       "            .start();\n",
       "\n",
       "        var link = svg.selectAll(\".link\")\n",
       "                .data(o.data.links)\n",
       "            .enter().append(\"line\")\n",
       "                .attr(\"class\", \"link\")\n",
       "                .style(\"stroke-width\", function(d) { return Math.sqrt(d.value); });\n",
       "\n",
       "        var node = svg.selectAll(\".node\")\n",
       "                .data(o.data.nodes)\n",
       "            .enter().append(\"g\")\n",
       "                .attr(\"class\", \"node\")\n",
       "                .call(force.drag)\n",
       "\n",
       "        node.append(\"circle\")\n",
       "            .attr(\"r\", 5)\n",
       "            .style(\"fill\", function(d) { return color(d.group); });\n",
       "\n",
       "        /*node.append(\"title\")\n",
       "            .text(function(d) { return d.name; });*/\n",
       "\n",
       "        \n",
       "\n",
       "        force.on(\"tick\", function() {\n",
       "            link.attr(\"x1\", function(d) { return d.source.x; })\n",
       "                .attr(\"y1\", function(d) { return d.source.y; })\n",
       "                .attr(\"x2\", function(d) { return d.target.x; })\n",
       "                .attr(\"y2\", function(d) { return d.target.y; });\n",
       "\n",
       "            node.attr(\"transform\", function(d) { return \"translate(\" + d.x + \",\" + d.y + \")\"; });\n",
       "        });\n",
       "    }\n",
       "}();\n",
       "</script>\n",
       "<div id=\"x737da04315354a789c5ea030f4efaa79\">\n",
       "</div>"
      ],
      "text/plain": [
       "<IPython.core.display.HTML object>"
      ]
     },
     "execution_count": 28,
     "metadata": {},
     "output_type": "execute_result"
    }
   ],
   "source": [
    "def core_algorithm(G, timeout=5):\n",
    "    mG = MapEqnManager(G)\n",
    "\n",
    "    start = time.time()\n",
    "    e = Exception('timeout')\n",
    "\n",
    "    while time.time() - start < timeout:\n",
    "        changes = node_collapse_iteration(mG)\n",
    "        if not changes:\n",
    "            break\n",
    "    else:\n",
    "        raise e\n",
    "            \n",
    "    while time.time() - start < timeout:\n",
    "        changes = module_collapse_iteration(mG)\n",
    "        if not changes:\n",
    "            break\n",
    "    else:\n",
    "        raise e\n",
    "\n",
    "    return mG\n",
    "            \n",
    "mG = core_algorithm(G)\n",
    "print(mG.code_length())\n",
    "mG._d3(size)"
   ]
  },
  {
   "cell_type": "code",
   "execution_count": 29,
   "metadata": {
    "collapsed": false
   },
   "outputs": [
    {
     "name": "stdout",
     "output_type": "stream",
     "text": [
      "[0, 19, 40, 53, 68, 100]\n"
     ]
    },
    {
     "data": {
      "text/html": [
       "<style>\n",
       "    .node {\n",
       "      stroke: #fff;\n",
       "      stroke-width: 1.5px;\n",
       "    }\n",
       "\n",
       "    .link {\n",
       "      stroke: #999;\n",
       "      stroke-opacity: .6;\n",
       "    }\n",
       "\n",
       "    .node text {\n",
       "      pointer-events: none;\n",
       "      font: 10px sans-serif;\n",
       "      color: #000;\n",
       "      stroke-width: 0;\n",
       "    }\n",
       "</style>\n",
       "<script>\n",
       "+function() {\n",
       "    var options = {\n",
       "        'divid': '#x4a5d1f6d3c2546909350245d36828ee3',\n",
       "        'data': {\"links\": [{\"value\": 1, \"target\": 2, \"source\": 0}, {\"value\": 1, \"target\": 52, \"source\": 0}, {\"value\": 1, \"target\": 5, \"source\": 0}, {\"value\": 1, \"target\": 9, \"source\": 0}, {\"value\": 1, \"target\": 30, \"source\": 0}, {\"value\": 1, \"target\": 18, \"source\": 0}, {\"value\": 1, \"target\": 14, \"source\": 0}, {\"value\": 1, \"target\": 16, \"source\": 1}, {\"value\": 1, \"target\": 3, \"source\": 1}, {\"value\": 1, \"target\": 68, \"source\": 1}, {\"value\": 1, \"target\": 9, \"source\": 1}, {\"value\": 1, \"target\": 26, \"source\": 1}, {\"value\": 1, \"target\": 12, \"source\": 1}, {\"value\": 1, \"target\": 58, \"source\": 1}, {\"value\": 1, \"target\": 14, \"source\": 1}, {\"value\": 1, \"target\": 15, \"source\": 1}, {\"value\": 1, \"target\": 51, \"source\": 2}, {\"value\": 1, \"target\": 3, \"source\": 2}, {\"value\": 1, \"target\": 4, \"source\": 2}, {\"value\": 1, \"target\": 7, \"source\": 2}, {\"value\": 1, \"target\": 10, \"source\": 2}, {\"value\": 1, \"target\": 13, \"source\": 2}, {\"value\": 1, \"target\": 16, \"source\": 3}, {\"value\": 1, \"target\": 4, \"source\": 3}, {\"value\": 1, \"target\": 5, \"source\": 3}, {\"value\": 1, \"target\": 17, \"source\": 3}, {\"value\": 1, \"target\": 10, \"source\": 3}, {\"value\": 1, \"target\": 30, \"source\": 3}, {\"value\": 1, \"target\": 15, \"source\": 3}, {\"value\": 1, \"target\": 96, \"source\": 4}, {\"value\": 1, \"target\": 65, \"source\": 4}, {\"value\": 1, \"target\": 7, \"source\": 4}, {\"value\": 1, \"target\": 8, \"source\": 4}, {\"value\": 1, \"target\": 9, \"source\": 4}, {\"value\": 1, \"target\": 12, \"source\": 4}, {\"value\": 1, \"target\": 15, \"source\": 4}, {\"value\": 1, \"target\": 17, \"source\": 4}, {\"value\": 1, \"target\": 51, \"source\": 4}, {\"value\": 1, \"target\": 20, \"source\": 4}, {\"value\": 1, \"target\": 95, \"source\": 4}, {\"value\": 1, \"target\": 17, \"source\": 5}, {\"value\": 1, \"target\": 18, \"source\": 5}, {\"value\": 1, \"target\": 69, \"source\": 5}, {\"value\": 1, \"target\": 10, \"source\": 5}, {\"value\": 1, \"target\": 12, \"source\": 5}, {\"value\": 1, \"target\": 14, \"source\": 5}, {\"value\": 1, \"target\": 16, \"source\": 6}, {\"value\": 1, \"target\": 18, \"source\": 6}, {\"value\": 1, \"target\": 39, \"source\": 6}, {\"value\": 1, \"target\": 61, \"source\": 6}, {\"value\": 1, \"target\": 74, \"source\": 6}, {\"value\": 1, \"target\": 11, \"source\": 6}, {\"value\": 1, \"target\": 12, \"source\": 6}, {\"value\": 1, \"target\": 13, \"source\": 6}, {\"value\": 1, \"target\": 62, \"source\": 6}, {\"value\": 1, \"target\": 31, \"source\": 6}, {\"value\": 1, \"target\": 38, \"source\": 7}, {\"value\": 1, \"target\": 26, \"source\": 7}, {\"value\": 1, \"target\": 13, \"source\": 7}, {\"value\": 1, \"target\": 77, \"source\": 7}, {\"value\": 1, \"target\": 88, \"source\": 8}, {\"value\": 1, \"target\": 10, \"source\": 8}, {\"value\": 1, \"target\": 22, \"source\": 8}, {\"value\": 1, \"target\": 67, \"source\": 9}, {\"value\": 1, \"target\": 16, \"source\": 9}, {\"value\": 1, \"target\": 17, \"source\": 9}, {\"value\": 1, \"target\": 96, \"source\": 9}, {\"value\": 1, \"target\": 11, \"source\": 9}, {\"value\": 1, \"target\": 76, \"source\": 9}, {\"value\": 1, \"target\": 13, \"source\": 9}, {\"value\": 1, \"target\": 14, \"source\": 9}, {\"value\": 1, \"target\": 17, \"source\": 10}, {\"value\": 1, \"target\": 55, \"source\": 10}, {\"value\": 1, \"target\": 11, \"source\": 10}, {\"value\": 1, \"target\": 12, \"source\": 10}, {\"value\": 1, \"target\": 14, \"source\": 10}, {\"value\": 1, \"target\": 16, \"source\": 11}, {\"value\": 1, \"target\": 69, \"source\": 11}, {\"value\": 1, \"target\": 58, \"source\": 11}, {\"value\": 1, \"target\": 16, \"source\": 12}, {\"value\": 1, \"target\": 18, \"source\": 12}, {\"value\": 1, \"target\": 17, \"source\": 12}, {\"value\": 1, \"target\": 39, \"source\": 12}, {\"value\": 1, \"target\": 18, \"source\": 13}, {\"value\": 1, \"target\": 29, \"source\": 13}, {\"value\": 1, \"target\": 73, \"source\": 14}, {\"value\": 1, \"target\": 57, \"source\": 14}, {\"value\": 1, \"target\": 15, \"source\": 14}, {\"value\": 1, \"target\": 16, \"source\": 15}, {\"value\": 1, \"target\": 97, \"source\": 15}, {\"value\": 1, \"target\": 28, \"source\": 15}, {\"value\": 1, \"target\": 95, \"source\": 15}, {\"value\": 1, \"target\": 61, \"source\": 16}, {\"value\": 1, \"target\": 89, \"source\": 16}, {\"value\": 1, \"target\": 35, \"source\": 16}, {\"value\": 1, \"target\": 18, \"source\": 17}, {\"value\": 1, \"target\": 44, \"source\": 18}, {\"value\": 1, \"target\": 90, \"source\": 18}, {\"value\": 1, \"target\": 34, \"source\": 19}, {\"value\": 1, \"target\": 25, \"source\": 19}, {\"value\": 1, \"target\": 26, \"source\": 19}, {\"value\": 1, \"target\": 27, \"source\": 19}, {\"value\": 1, \"target\": 28, \"source\": 19}, {\"value\": 1, \"target\": 31, \"source\": 19}, {\"value\": 1, \"target\": 36, \"source\": 20}, {\"value\": 1, \"target\": 37, \"source\": 20}, {\"value\": 1, \"target\": 22, \"source\": 20}, {\"value\": 1, \"target\": 73, \"source\": 20}, {\"value\": 1, \"target\": 28, \"source\": 20}, {\"value\": 1, \"target\": 29, \"source\": 20}, {\"value\": 1, \"target\": 31, \"source\": 20}, {\"value\": 1, \"target\": 33, \"source\": 21}, {\"value\": 1, \"target\": 61, \"source\": 21}, {\"value\": 1, \"target\": 29, \"source\": 21}, {\"value\": 1, \"target\": 31, \"source\": 21}, {\"value\": 1, \"target\": 96, \"source\": 22}, {\"value\": 1, \"target\": 34, \"source\": 22}, {\"value\": 1, \"target\": 35, \"source\": 22}, {\"value\": 1, \"target\": 39, \"source\": 22}, {\"value\": 1, \"target\": 71, \"source\": 22}, {\"value\": 1, \"target\": 25, \"source\": 23}, {\"value\": 1, \"target\": 75, \"source\": 23}, {\"value\": 1, \"target\": 27, \"source\": 23}, {\"value\": 1, \"target\": 54, \"source\": 23}, {\"value\": 1, \"target\": 39, \"source\": 23}, {\"value\": 1, \"target\": 28, \"source\": 24}, {\"value\": 1, \"target\": 30, \"source\": 24}, {\"value\": 1, \"target\": 32, \"source\": 25}, {\"value\": 1, \"target\": 34, \"source\": 25}, {\"value\": 1, \"target\": 37, \"source\": 25}, {\"value\": 1, \"target\": 38, \"source\": 25}, {\"value\": 1, \"target\": 26, \"source\": 25}, {\"value\": 1, \"target\": 90, \"source\": 25}, {\"value\": 1, \"target\": 31, \"source\": 25}, {\"value\": 1, \"target\": 32, \"source\": 26}, {\"value\": 1, \"target\": 35, \"source\": 26}, {\"value\": 1, \"target\": 36, \"source\": 26}, {\"value\": 1, \"target\": 71, \"source\": 26}, {\"value\": 1, \"target\": 39, \"source\": 26}, {\"value\": 1, \"target\": 41, \"source\": 26}, {\"value\": 1, \"target\": 27, \"source\": 26}, {\"value\": 1, \"target\": 33, \"source\": 27}, {\"value\": 1, \"target\": 34, \"source\": 27}, {\"value\": 1, \"target\": 36, \"source\": 27}, {\"value\": 1, \"target\": 35, \"source\": 27}, {\"value\": 1, \"target\": 84, \"source\": 27}, {\"value\": 1, \"target\": 28, \"source\": 27}, {\"value\": 1, \"target\": 29, \"source\": 27}, {\"value\": 1, \"target\": 40, \"source\": 28}, {\"value\": 1, \"target\": 37, \"source\": 28}, {\"value\": 1, \"target\": 36, \"source\": 28}, {\"value\": 1, \"target\": 53, \"source\": 28}, {\"value\": 1, \"target\": 32, \"source\": 29}, {\"value\": 1, \"target\": 80, \"source\": 29}, {\"value\": 1, \"target\": 38, \"source\": 29}, {\"value\": 1, \"target\": 39, \"source\": 29}, {\"value\": 1, \"target\": 84, \"source\": 29}, {\"value\": 1, \"target\": 37, \"source\": 29}, {\"value\": 1, \"target\": 31, \"source\": 29}, {\"value\": 1, \"target\": 68, \"source\": 30}, {\"value\": 1, \"target\": 37, \"source\": 30}, {\"value\": 1, \"target\": 38, \"source\": 30}, {\"value\": 1, \"target\": 31, \"source\": 30}, {\"value\": 1, \"target\": 35, \"source\": 31}, {\"value\": 1, \"target\": 77, \"source\": 31}, {\"value\": 1, \"target\": 64, \"source\": 32}, {\"value\": 1, \"target\": 33, \"source\": 32}, {\"value\": 1, \"target\": 37, \"source\": 32}, {\"value\": 1, \"target\": 38, \"source\": 32}, {\"value\": 1, \"target\": 39, \"source\": 32}, {\"value\": 1, \"target\": 55, \"source\": 32}, {\"value\": 1, \"target\": 49, \"source\": 33}, {\"value\": 1, \"target\": 51, \"source\": 33}, {\"value\": 1, \"target\": 97, \"source\": 33}, {\"value\": 1, \"target\": 38, \"source\": 33}, {\"value\": 1, \"target\": 39, \"source\": 33}, {\"value\": 1, \"target\": 78, \"source\": 33}, {\"value\": 1, \"target\": 35, \"source\": 34}, {\"value\": 1, \"target\": 66, \"source\": 34}, {\"value\": 1, \"target\": 38, \"source\": 34}, {\"value\": 1, \"target\": 38, \"source\": 35}, {\"value\": 1, \"target\": 82, \"source\": 36}, {\"value\": 1, \"target\": 39, \"source\": 36}, {\"value\": 1, \"target\": 81, \"source\": 38}, {\"value\": 1, \"target\": 45, \"source\": 38}, {\"value\": 1, \"target\": 81, \"source\": 39}, {\"value\": 1, \"target\": 49, \"source\": 40}, {\"value\": 1, \"target\": 86, \"source\": 40}, {\"value\": 1, \"target\": 60, \"source\": 40}, {\"value\": 1, \"target\": 42, \"source\": 40}, {\"value\": 1, \"target\": 43, \"source\": 40}, {\"value\": 1, \"target\": 42, \"source\": 41}, {\"value\": 1, \"target\": 43, \"source\": 41}, {\"value\": 1, \"target\": 52, \"source\": 41}, {\"value\": 1, \"target\": 48, \"source\": 42}, {\"value\": 1, \"target\": 50, \"source\": 42}, {\"value\": 1, \"target\": 46, \"source\": 42}, {\"value\": 1, \"target\": 47, \"source\": 42}, {\"value\": 1, \"target\": 82, \"source\": 43}, {\"value\": 1, \"target\": 44, \"source\": 43}, {\"value\": 1, \"target\": 89, \"source\": 43}, {\"value\": 1, \"target\": 51, \"source\": 44}, {\"value\": 1, \"target\": 84, \"source\": 44}, {\"value\": 1, \"target\": 46, \"source\": 45}, {\"value\": 1, \"target\": 95, \"source\": 46}, {\"value\": 1, \"target\": 86, \"source\": 46}, {\"value\": 1, \"target\": 47, \"source\": 46}, {\"value\": 1, \"target\": 84, \"source\": 47}, {\"value\": 1, \"target\": 65, \"source\": 48}, {\"value\": 1, \"target\": 51, \"source\": 48}, {\"value\": 1, \"target\": 51, \"source\": 49}, {\"value\": 1, \"target\": 91, \"source\": 50}, {\"value\": 1, \"target\": 52, \"source\": 51}, {\"value\": 1, \"target\": 65, \"source\": 53}, {\"value\": 1, \"target\": 61, \"source\": 53}, {\"value\": 1, \"target\": 55, \"source\": 53}, {\"value\": 1, \"target\": 57, \"source\": 54}, {\"value\": 1, \"target\": 58, \"source\": 54}, {\"value\": 1, \"target\": 65, \"source\": 54}, {\"value\": 1, \"target\": 63, \"source\": 54}, {\"value\": 1, \"target\": 96, \"source\": 55}, {\"value\": 1, \"target\": 66, \"source\": 55}, {\"value\": 1, \"target\": 70, \"source\": 55}, {\"value\": 1, \"target\": 56, \"source\": 55}, {\"value\": 1, \"target\": 63, \"source\": 55}, {\"value\": 1, \"target\": 58, \"source\": 56}, {\"value\": 1, \"target\": 60, \"source\": 56}, {\"value\": 1, \"target\": 62, \"source\": 56}, {\"value\": 1, \"target\": 64, \"source\": 57}, {\"value\": 1, \"target\": 67, \"source\": 57}, {\"value\": 1, \"target\": 64, \"source\": 58}, {\"value\": 1, \"target\": 66, \"source\": 58}, {\"value\": 1, \"target\": 67, \"source\": 58}, {\"value\": 1, \"target\": 60, \"source\": 58}, {\"value\": 1, \"target\": 61, \"source\": 58}, {\"value\": 1, \"target\": 99, \"source\": 59}, {\"value\": 1, \"target\": 65, \"source\": 59}, {\"value\": 1, \"target\": 67, \"source\": 59}, {\"value\": 1, \"target\": 88, \"source\": 59}, {\"value\": 1, \"target\": 60, \"source\": 59}, {\"value\": 1, \"target\": 61, \"source\": 59}, {\"value\": 1, \"target\": 93, \"source\": 59}, {\"value\": 1, \"target\": 66, \"source\": 60}, {\"value\": 1, \"target\": 67, \"source\": 60}, {\"value\": 1, \"target\": 63, \"source\": 60}, {\"value\": 1, \"target\": 67, \"source\": 61}, {\"value\": 1, \"target\": 63, \"source\": 61}, {\"value\": 1, \"target\": 75, \"source\": 62}, {\"value\": 1, \"target\": 64, \"source\": 63}, {\"value\": 1, \"target\": 97, \"source\": 64}, {\"value\": 1, \"target\": 88, \"source\": 67}, {\"value\": 1, \"target\": 96, \"source\": 68}, {\"value\": 1, \"target\": 98, \"source\": 68}, {\"value\": 1, \"target\": 69, \"source\": 68}, {\"value\": 1, \"target\": 72, \"source\": 68}, {\"value\": 1, \"target\": 89, \"source\": 68}, {\"value\": 1, \"target\": 91, \"source\": 68}, {\"value\": 1, \"target\": 93, \"source\": 68}, {\"value\": 1, \"target\": 79, \"source\": 68}, {\"value\": 1, \"target\": 97, \"source\": 69}, {\"value\": 1, \"target\": 99, \"source\": 69}, {\"value\": 1, \"target\": 71, \"source\": 69}, {\"value\": 1, \"target\": 74, \"source\": 69}, {\"value\": 1, \"target\": 77, \"source\": 69}, {\"value\": 1, \"target\": 82, \"source\": 69}, {\"value\": 1, \"target\": 87, \"source\": 69}, {\"value\": 1, \"target\": 89, \"source\": 69}, {\"value\": 1, \"target\": 90, \"source\": 69}, {\"value\": 1, \"target\": 92, \"source\": 69}, {\"value\": 1, \"target\": 93, \"source\": 69}, {\"value\": 1, \"target\": 95, \"source\": 69}, {\"value\": 1, \"target\": 80, \"source\": 70}, {\"value\": 1, \"target\": 88, \"source\": 70}, {\"value\": 1, \"target\": 83, \"source\": 70}, {\"value\": 1, \"target\": 85, \"source\": 70}, {\"value\": 1, \"target\": 99, \"source\": 70}, {\"value\": 1, \"target\": 71, \"source\": 70}, {\"value\": 1, \"target\": 72, \"source\": 70}, {\"value\": 1, \"target\": 95, \"source\": 70}, {\"value\": 1, \"target\": 91, \"source\": 70}, {\"value\": 1, \"target\": 79, \"source\": 70}, {\"value\": 1, \"target\": 96, \"source\": 71}, {\"value\": 1, \"target\": 99, \"source\": 71}, {\"value\": 1, \"target\": 75, \"source\": 71}, {\"value\": 1, \"target\": 77, \"source\": 71}, {\"value\": 1, \"target\": 78, \"source\": 71}, {\"value\": 1, \"target\": 84, \"source\": 71}, {\"value\": 1, \"target\": 85, \"source\": 71}, {\"value\": 1, \"target\": 87, \"source\": 71}, {\"value\": 1, \"target\": 90, \"source\": 71}, {\"value\": 1, \"target\": 93, \"source\": 71}, {\"value\": 1, \"target\": 94, \"source\": 71}, {\"value\": 1, \"target\": 96, \"source\": 72}, {\"value\": 1, \"target\": 99, \"source\": 72}, {\"value\": 1, \"target\": 86, \"source\": 72}, {\"value\": 1, \"target\": 95, \"source\": 72}, {\"value\": 1, \"target\": 91, \"source\": 72}, {\"value\": 1, \"target\": 76, \"source\": 72}, {\"value\": 1, \"target\": 93, \"source\": 72}, {\"value\": 1, \"target\": 79, \"source\": 72}, {\"value\": 1, \"target\": 96, \"source\": 73}, {\"value\": 1, \"target\": 97, \"source\": 73}, {\"value\": 1, \"target\": 79, \"source\": 73}, {\"value\": 1, \"target\": 81, \"source\": 73}, {\"value\": 1, \"target\": 83, \"source\": 73}, {\"value\": 1, \"target\": 85, \"source\": 73}, {\"value\": 1, \"target\": 87, \"source\": 73}, {\"value\": 1, \"target\": 88, \"source\": 73}, {\"value\": 1, \"target\": 91, \"source\": 73}, {\"value\": 1, \"target\": 92, \"source\": 73}, {\"value\": 1, \"target\": 95, \"source\": 73}, {\"value\": 1, \"target\": 97, \"source\": 74}, {\"value\": 1, \"target\": 98, \"source\": 74}, {\"value\": 1, \"target\": 99, \"source\": 74}, {\"value\": 1, \"target\": 75, \"source\": 74}, {\"value\": 1, \"target\": 78, \"source\": 74}, {\"value\": 1, \"target\": 81, \"source\": 74}, {\"value\": 1, \"target\": 86, \"source\": 74}, {\"value\": 1, \"target\": 88, \"source\": 74}, {\"value\": 1, \"target\": 90, \"source\": 74}, {\"value\": 1, \"target\": 91, \"source\": 74}, {\"value\": 1, \"target\": 76, \"source\": 75}, {\"value\": 1, \"target\": 77, \"source\": 75}, {\"value\": 1, \"target\": 84, \"source\": 75}, {\"value\": 1, \"target\": 85, \"source\": 75}, {\"value\": 1, \"target\": 86, \"source\": 75}, {\"value\": 1, \"target\": 90, \"source\": 75}, {\"value\": 1, \"target\": 92, \"source\": 75}, {\"value\": 1, \"target\": 95, \"source\": 75}, {\"value\": 1, \"target\": 96, \"source\": 76}, {\"value\": 1, \"target\": 97, \"source\": 76}, {\"value\": 1, \"target\": 82, \"source\": 76}, {\"value\": 1, \"target\": 84, \"source\": 76}, {\"value\": 1, \"target\": 92, \"source\": 76}, {\"value\": 1, \"target\": 98, \"source\": 76}, {\"value\": 1, \"target\": 94, \"source\": 76}, {\"value\": 1, \"target\": 95, \"source\": 76}, {\"value\": 1, \"target\": 96, \"source\": 77}, {\"value\": 1, \"target\": 98, \"source\": 77}, {\"value\": 1, \"target\": 99, \"source\": 77}, {\"value\": 1, \"target\": 79, \"source\": 77}, {\"value\": 1, \"target\": 81, \"source\": 77}, {\"value\": 1, \"target\": 82, \"source\": 77}, {\"value\": 1, \"target\": 83, \"source\": 77}, {\"value\": 1, \"target\": 85, \"source\": 77}, {\"value\": 1, \"target\": 87, \"source\": 77}, {\"value\": 1, \"target\": 91, \"source\": 77}, {\"value\": 1, \"target\": 94, \"source\": 77}, {\"value\": 1, \"target\": 98, \"source\": 78}, {\"value\": 1, \"target\": 97, \"source\": 78}, {\"value\": 1, \"target\": 82, \"source\": 78}, {\"value\": 1, \"target\": 83, \"source\": 78}, {\"value\": 1, \"target\": 85, \"source\": 78}, {\"value\": 1, \"target\": 90, \"source\": 78}, {\"value\": 1, \"target\": 96, \"source\": 79}, {\"value\": 1, \"target\": 80, \"source\": 79}, {\"value\": 1, \"target\": 81, \"source\": 79}, {\"value\": 1, \"target\": 84, \"source\": 79}, {\"value\": 1, \"target\": 88, \"source\": 79}, {\"value\": 1, \"target\": 89, \"source\": 79}, {\"value\": 1, \"target\": 90, \"source\": 79}, {\"value\": 1, \"target\": 94, \"source\": 79}, {\"value\": 1, \"target\": 95, \"source\": 79}, {\"value\": 1, \"target\": 98, \"source\": 80}, {\"value\": 1, \"target\": 99, \"source\": 80}, {\"value\": 1, \"target\": 86, \"source\": 80}, {\"value\": 1, \"target\": 90, \"source\": 80}, {\"value\": 1, \"target\": 91, \"source\": 80}, {\"value\": 1, \"target\": 93, \"source\": 80}, {\"value\": 1, \"target\": 96, \"source\": 81}, {\"value\": 1, \"target\": 97, \"source\": 81}, {\"value\": 1, \"target\": 88, \"source\": 81}, {\"value\": 1, \"target\": 90, \"source\": 81}, {\"value\": 1, \"target\": 93, \"source\": 81}, {\"value\": 1, \"target\": 95, \"source\": 81}, {\"value\": 1, \"target\": 97, \"source\": 82}, {\"value\": 1, \"target\": 83, \"source\": 82}, {\"value\": 1, \"target\": 99, \"source\": 82}, {\"value\": 1, \"target\": 92, \"source\": 82}, {\"value\": 1, \"target\": 91, \"source\": 82}, {\"value\": 1, \"target\": 98, \"source\": 83}, {\"value\": 1, \"target\": 86, \"source\": 83}, {\"value\": 1, \"target\": 88, \"source\": 83}, {\"value\": 1, \"target\": 93, \"source\": 83}, {\"value\": 1, \"target\": 85, \"source\": 84}, {\"value\": 1, \"target\": 88, \"source\": 84}, {\"value\": 1, \"target\": 97, \"source\": 85}, {\"value\": 1, \"target\": 86, \"source\": 85}, {\"value\": 1, \"target\": 87, \"source\": 85}, {\"value\": 1, \"target\": 92, \"source\": 85}, {\"value\": 1, \"target\": 93, \"source\": 85}, {\"value\": 1, \"target\": 96, \"source\": 86}, {\"value\": 1, \"target\": 98, \"source\": 86}, {\"value\": 1, \"target\": 99, \"source\": 86}, {\"value\": 1, \"target\": 88, \"source\": 86}, {\"value\": 1, \"target\": 97, \"source\": 87}, {\"value\": 1, \"target\": 98, \"source\": 87}, {\"value\": 1, \"target\": 99, \"source\": 87}, {\"value\": 1, \"target\": 88, \"source\": 87}, {\"value\": 1, \"target\": 90, \"source\": 87}, {\"value\": 1, \"target\": 93, \"source\": 87}, {\"value\": 1, \"target\": 96, \"source\": 88}, {\"value\": 1, \"target\": 97, \"source\": 88}, {\"value\": 1, \"target\": 98, \"source\": 88}, {\"value\": 1, \"target\": 90, \"source\": 88}, {\"value\": 1, \"target\": 91, \"source\": 88}, {\"value\": 1, \"target\": 95, \"source\": 88}, {\"value\": 1, \"target\": 96, \"source\": 89}, {\"value\": 1, \"target\": 98, \"source\": 89}, {\"value\": 1, \"target\": 90, \"source\": 89}, {\"value\": 1, \"target\": 93, \"source\": 89}, {\"value\": 1, \"target\": 98, \"source\": 90}, {\"value\": 1, \"target\": 92, \"source\": 90}, {\"value\": 1, \"target\": 94, \"source\": 90}, {\"value\": 1, \"target\": 95, \"source\": 90}, {\"value\": 1, \"target\": 92, \"source\": 91}, {\"value\": 1, \"target\": 96, \"source\": 92}, {\"value\": 1, \"target\": 97, \"source\": 92}, {\"value\": 1, \"target\": 99, \"source\": 92}, {\"value\": 1, \"target\": 93, \"source\": 92}, {\"value\": 1, \"target\": 96, \"source\": 93}, {\"value\": 1, \"target\": 99, \"source\": 93}, {\"value\": 1, \"target\": 94, \"source\": 93}, {\"value\": 1, \"target\": 95, \"source\": 93}, {\"value\": 1, \"target\": 99, \"source\": 94}, {\"value\": 1, \"target\": 95, \"source\": 94}, {\"value\": 1, \"target\": 96, \"source\": 95}, {\"value\": 1, \"target\": 98, \"source\": 95}, {\"value\": 1, \"target\": 97, \"source\": 96}, {\"value\": 1, \"target\": 99, \"source\": 96}, {\"value\": 1, \"target\": 99, \"source\": 97}], \"nodes\": [{\"group\": 0, \"name\": \"0\"}, {\"group\": 0, \"name\": \"1\"}, {\"group\": 0, \"name\": \"2\"}, {\"group\": 0, \"name\": \"3\"}, {\"group\": 0, \"name\": \"4\"}, {\"group\": 0, \"name\": \"5\"}, {\"group\": 0, \"name\": \"6\"}, {\"group\": 0, \"name\": \"7\"}, {\"group\": 0, \"name\": \"8\"}, {\"group\": 0, \"name\": \"9\"}, {\"group\": 0, \"name\": \"10\"}, {\"group\": 0, \"name\": \"11\"}, {\"group\": 0, \"name\": \"12\"}, {\"group\": 0, \"name\": \"13\"}, {\"group\": 0, \"name\": \"14\"}, {\"group\": 0, \"name\": \"15\"}, {\"group\": 0, \"name\": \"16\"}, {\"group\": 0, \"name\": \"17\"}, {\"group\": 0, \"name\": \"18\"}, {\"group\": 0, \"name\": \"19\"}, {\"group\": 0, \"name\": \"20\"}, {\"group\": 0, \"name\": \"21\"}, {\"group\": 0, \"name\": \"22\"}, {\"group\": 0, \"name\": \"23\"}, {\"group\": 0, \"name\": \"24\"}, {\"group\": 0, \"name\": \"25\"}, {\"group\": 0, \"name\": \"26\"}, {\"group\": 0, \"name\": \"27\"}, {\"group\": 0, \"name\": \"28\"}, {\"group\": 0, \"name\": \"29\"}, {\"group\": 0, \"name\": \"30\"}, {\"group\": 0, \"name\": \"31\"}, {\"group\": 0, \"name\": \"32\"}, {\"group\": 0, \"name\": \"33\"}, {\"group\": 0, \"name\": \"34\"}, {\"group\": 0, \"name\": \"35\"}, {\"group\": 0, \"name\": \"36\"}, {\"group\": 0, \"name\": \"37\"}, {\"group\": 0, \"name\": \"38\"}, {\"group\": 0, \"name\": \"39\"}, {\"group\": 0, \"name\": \"40\"}, {\"group\": 0, \"name\": \"41\"}, {\"group\": 0, \"name\": \"42\"}, {\"group\": 0, \"name\": \"43\"}, {\"group\": 0, \"name\": \"44\"}, {\"group\": 0, \"name\": \"45\"}, {\"group\": 0, \"name\": \"46\"}, {\"group\": 0, \"name\": \"47\"}, {\"group\": 0, \"name\": \"48\"}, {\"group\": 0, \"name\": \"49\"}, {\"group\": 0, \"name\": \"50\"}, {\"group\": 0, \"name\": \"51\"}, {\"group\": 0, \"name\": \"52\"}, {\"group\": 0, \"name\": \"53\"}, {\"group\": 0, \"name\": \"54\"}, {\"group\": 0, \"name\": \"55\"}, {\"group\": 0, \"name\": \"56\"}, {\"group\": 0, \"name\": \"57\"}, {\"group\": 0, \"name\": \"58\"}, {\"group\": 0, \"name\": \"59\"}, {\"group\": 0, \"name\": \"60\"}, {\"group\": 0, \"name\": \"61\"}, {\"group\": 0, \"name\": \"62\"}, {\"group\": 0, \"name\": \"63\"}, {\"group\": 0, \"name\": \"64\"}, {\"group\": 0, \"name\": \"65\"}, {\"group\": 0, \"name\": \"66\"}, {\"group\": 0, \"name\": \"67\"}, {\"group\": 0, \"name\": \"68\"}, {\"group\": 0, \"name\": \"69\"}, {\"group\": 0, \"name\": \"70\"}, {\"group\": 0, \"name\": \"71\"}, {\"group\": 0, \"name\": \"72\"}, {\"group\": 0, \"name\": \"73\"}, {\"group\": 0, \"name\": \"74\"}, {\"group\": 0, \"name\": \"75\"}, {\"group\": 0, \"name\": \"76\"}, {\"group\": 0, \"name\": \"77\"}, {\"group\": 0, \"name\": \"78\"}, {\"group\": 0, \"name\": \"79\"}, {\"group\": 0, \"name\": \"80\"}, {\"group\": 0, \"name\": \"81\"}, {\"group\": 0, \"name\": \"82\"}, {\"group\": 0, \"name\": \"83\"}, {\"group\": 0, \"name\": \"84\"}, {\"group\": 0, \"name\": \"85\"}, {\"group\": 0, \"name\": \"86\"}, {\"group\": 0, \"name\": \"87\"}, {\"group\": 0, \"name\": \"88\"}, {\"group\": 0, \"name\": \"89\"}, {\"group\": 0, \"name\": \"90\"}, {\"group\": 0, \"name\": \"91\"}, {\"group\": 0, \"name\": \"92\"}, {\"group\": 0, \"name\": \"93\"}, {\"group\": 0, \"name\": \"94\"}, {\"group\": 0, \"name\": \"95\"}, {\"group\": 0, \"name\": \"96\"}, {\"group\": 0, \"name\": \"97\"}, {\"group\": 0, \"name\": \"98\"}, {\"group\": 0, \"name\": \"99\"}]},\n",
       "        'width': 600,\n",
       "        'height': 400,\n",
       "        'linkdistance': 30\n",
       "    }\n",
       "\n",
       "    if (window.d3 === undefined) {\n",
       "        console.log('Loading D3 from CDN');\n",
       "        $.getScript('https://cdnjs.cloudflare.com/ajax/libs/d3/3.5.7/d3.js')\n",
       "            .done(function() {\n",
       "                plot_force(options);\n",
       "            });\n",
       "    } else {\n",
       "        plot_force(options);\n",
       "    }\n",
       "\n",
       "    function plot_force(o) {\n",
       "        var color = d3.scale.category20();\n",
       "\n",
       "        var svg = d3.select(o.divid).append(\"svg\")\n",
       "            .attr(\"width\", o.width)\n",
       "            .attr(\"height\", o.height);\n",
       "\n",
       "        var force = d3.layout.force()\n",
       "            .charge(-120)\n",
       "            .linkDistance(o.linkdistance)\n",
       "            .size([o.width, o.height])\n",
       "            .nodes(o.data.nodes)\n",
       "            .links(o.data.links)\n",
       "            .start();\n",
       "\n",
       "        var link = svg.selectAll(\".link\")\n",
       "                .data(o.data.links)\n",
       "            .enter().append(\"line\")\n",
       "                .attr(\"class\", \"link\")\n",
       "                .style(\"stroke-width\", function(d) { return Math.sqrt(d.value); });\n",
       "\n",
       "        var node = svg.selectAll(\".node\")\n",
       "                .data(o.data.nodes)\n",
       "            .enter().append(\"g\")\n",
       "                .attr(\"class\", \"node\")\n",
       "                .call(force.drag)\n",
       "\n",
       "        node.append(\"circle\")\n",
       "            .attr(\"r\", 5)\n",
       "            .style(\"fill\", function(d) { return color(d.group); });\n",
       "\n",
       "        /*node.append(\"title\")\n",
       "            .text(function(d) { return d.name; });*/\n",
       "\n",
       "        \n",
       "\n",
       "        force.on(\"tick\", function() {\n",
       "            link.attr(\"x1\", function(d) { return d.source.x; })\n",
       "                .attr(\"y1\", function(d) { return d.source.y; })\n",
       "                .attr(\"x2\", function(d) { return d.target.x; })\n",
       "                .attr(\"y2\", function(d) { return d.target.y; });\n",
       "\n",
       "            node.attr(\"transform\", function(d) { return \"translate(\" + d.x + \",\" + d.y + \")\"; });\n",
       "        });\n",
       "    }\n",
       "}();\n",
       "</script>\n",
       "<div id=\"x4a5d1f6d3c2546909350245d36828ee3\">\n",
       "</div>"
      ],
      "text/plain": [
       "<IPython.core.display.HTML object>"
      ]
     },
     "execution_count": 29,
     "metadata": {},
     "output_type": "execute_result"
    }
   ],
   "source": [
    "import itertools\n",
    "\n",
    "messier = nx.Graph()\n",
    "\n",
    "total_nodes = 100\n",
    "groups = 6\n",
    "min_group_size = 8\n",
    "\n",
    "group_bounds = [0, total_nodes]\n",
    "\n",
    "while True:\n",
    "    b = random.randrange(total_nodes)\n",
    "    if min(abs(x - b) for x in group_bounds) < min_group_size:\n",
    "        continue\n",
    "    group_bounds.append(b)\n",
    "    if len(group_bounds) >= groups:\n",
    "        break\n",
    "        \n",
    "group_bounds.sort()\n",
    "\n",
    "def pairwise(iterable):\n",
    "    \"s -> (s0,s1), (s1,s2), (s2, s3), ...\"\n",
    "    a, b = itertools.tee(iterable)\n",
    "    next(b, None)\n",
    "    return zip(a, b)\n",
    "\n",
    "p_intra = 0.1\n",
    "p_inter = 0.02\n",
    "\n",
    "for group_range in pairwise(group_bounds):\n",
    "    nodes = list(range(*group_range))\n",
    "    possible_intragroup_edges = itertools.combinations(nodes, 2)\n",
    "    for edge in possible_intragroup_edges:\n",
    "        if random.random() < p_intra * math.log(len(nodes)):\n",
    "            messier.add_edge(*edge)\n",
    "    for node, degree in messier.degree_iter(nodes):\n",
    "        if degree == 0:\n",
    "            messier.add_edge(node, random.choice(nodes)) # guarantee connectivity\n",
    "\n",
    "possible_intergroup_edges = itertools.combinations(range(total_nodes), 2)\n",
    "messier.add_edges_from(e for e in possible_intergroup_edges if random.random() < p_inter)\n",
    "\n",
    "print(group_bounds)\n",
    "d3shims.nx_force(messier)"
   ]
  },
  {
   "cell_type": "code",
   "execution_count": 30,
   "metadata": {
    "collapsed": false
   },
   "outputs": [
    {
     "name": "stdout",
     "output_type": "stream",
     "text": [
      "5.73083074832\n",
      "CPU times: user 4.62 s, sys: 30.1 ms, total: 4.65 s\n",
      "Wall time: 4.7 s\n"
     ]
    }
   ],
   "source": [
    "%%time\n",
    "mess = core_algorithm(messier, 10)\n",
    "print(mess.code_length())"
   ]
  },
  {
   "cell_type": "code",
   "execution_count": 31,
   "metadata": {
    "collapsed": false
   },
   "outputs": [
    {
     "data": {
      "text/plain": [
       "6.4959798892045972"
      ]
     },
     "execution_count": 31,
     "metadata": {},
     "output_type": "execute_result"
    }
   ],
   "source": [
    "mess._single_module()\n",
    "one_level_codelength = mess.code_length()\n",
    "one_level_codelength"
   ]
  },
  {
   "cell_type": "code",
   "execution_count": 32,
   "metadata": {
    "collapsed": false
   },
   "outputs": [
    {
     "name": "stdout",
     "output_type": "stream",
     "text": [
      "  1...   2...   3...   4...   5...   6...   7...   8...   9...  10...  11...  12...  13...  14...  15...  16...  17...  18...  19...  20...  21...  22...  23...  24...  25...  26...  27...  28...  29...  30...  31...  32...  33...  34...  35...  36...  37...  38...  39...  40...  41...  42...  43...  44...  45...  46...  47...  48...  49...  50...  51...  52...  53...  54...  55...  56...  57...  58...  59...  60...  61...  62...  63...  64...  65...  66...  67...  68...  69...  70...  71...  72...  73...  74...  75...  76...  77...  78...  79...  80...  81...  82...  83...  84...  85...  86...  87...  88...  89...  90...  91...  92...  93...  94...  95...  96...  97...  98...  99...  100... "
     ]
    },
    {
     "data": {
      "text/html": [
       "<style>\n",
       "    .node {\n",
       "      stroke: #fff;\n",
       "      stroke-width: 1.5px;\n",
       "    }\n",
       "\n",
       "    .link {\n",
       "      stroke: #999;\n",
       "      stroke-opacity: .6;\n",
       "    }\n",
       "\n",
       "    .node text {\n",
       "      pointer-events: none;\n",
       "      font: 10px sans-serif;\n",
       "      color: #000;\n",
       "      stroke-width: 0;\n",
       "    }\n",
       "</style>\n",
       "<script>\n",
       "+function() {\n",
       "    var options = {\n",
       "        'divid': '#x24f4199772614399b59378fa83bb13d3',\n",
       "        'data': {\"links\": [{\"value\": 1, \"target\": 2, \"source\": 0}, {\"value\": 1, \"target\": 52, \"source\": 0}, {\"value\": 1, \"target\": 5, \"source\": 0}, {\"value\": 1, \"target\": 9, \"source\": 0}, {\"value\": 1, \"target\": 30, \"source\": 0}, {\"value\": 1, \"target\": 18, \"source\": 0}, {\"value\": 1, \"target\": 14, \"source\": 0}, {\"value\": 1, \"target\": 16, \"source\": 1}, {\"value\": 1, \"target\": 3, \"source\": 1}, {\"value\": 1, \"target\": 68, \"source\": 1}, {\"value\": 1, \"target\": 9, \"source\": 1}, {\"value\": 1, \"target\": 26, \"source\": 1}, {\"value\": 1, \"target\": 12, \"source\": 1}, {\"value\": 1, \"target\": 58, \"source\": 1}, {\"value\": 1, \"target\": 14, \"source\": 1}, {\"value\": 1, \"target\": 15, \"source\": 1}, {\"value\": 1, \"target\": 51, \"source\": 2}, {\"value\": 1, \"target\": 3, \"source\": 2}, {\"value\": 1, \"target\": 4, \"source\": 2}, {\"value\": 1, \"target\": 7, \"source\": 2}, {\"value\": 1, \"target\": 10, \"source\": 2}, {\"value\": 1, \"target\": 13, \"source\": 2}, {\"value\": 1, \"target\": 16, \"source\": 3}, {\"value\": 1, \"target\": 4, \"source\": 3}, {\"value\": 1, \"target\": 5, \"source\": 3}, {\"value\": 1, \"target\": 17, \"source\": 3}, {\"value\": 1, \"target\": 10, \"source\": 3}, {\"value\": 1, \"target\": 30, \"source\": 3}, {\"value\": 1, \"target\": 15, \"source\": 3}, {\"value\": 1, \"target\": 96, \"source\": 4}, {\"value\": 1, \"target\": 65, \"source\": 4}, {\"value\": 1, \"target\": 7, \"source\": 4}, {\"value\": 1, \"target\": 8, \"source\": 4}, {\"value\": 1, \"target\": 9, \"source\": 4}, {\"value\": 1, \"target\": 12, \"source\": 4}, {\"value\": 1, \"target\": 15, \"source\": 4}, {\"value\": 1, \"target\": 17, \"source\": 4}, {\"value\": 1, \"target\": 51, \"source\": 4}, {\"value\": 1, \"target\": 20, \"source\": 4}, {\"value\": 1, \"target\": 95, \"source\": 4}, {\"value\": 1, \"target\": 17, \"source\": 5}, {\"value\": 1, \"target\": 18, \"source\": 5}, {\"value\": 1, \"target\": 69, \"source\": 5}, {\"value\": 1, \"target\": 10, \"source\": 5}, {\"value\": 1, \"target\": 12, \"source\": 5}, {\"value\": 1, \"target\": 14, \"source\": 5}, {\"value\": 1, \"target\": 16, \"source\": 6}, {\"value\": 1, \"target\": 18, \"source\": 6}, {\"value\": 1, \"target\": 39, \"source\": 6}, {\"value\": 1, \"target\": 61, \"source\": 6}, {\"value\": 1, \"target\": 74, \"source\": 6}, {\"value\": 1, \"target\": 11, \"source\": 6}, {\"value\": 1, \"target\": 12, \"source\": 6}, {\"value\": 1, \"target\": 13, \"source\": 6}, {\"value\": 1, \"target\": 62, \"source\": 6}, {\"value\": 1, \"target\": 31, \"source\": 6}, {\"value\": 1, \"target\": 38, \"source\": 7}, {\"value\": 1, \"target\": 26, \"source\": 7}, {\"value\": 1, \"target\": 13, \"source\": 7}, {\"value\": 1, \"target\": 77, \"source\": 7}, {\"value\": 1, \"target\": 88, \"source\": 8}, {\"value\": 1, \"target\": 10, \"source\": 8}, {\"value\": 1, \"target\": 22, \"source\": 8}, {\"value\": 1, \"target\": 67, \"source\": 9}, {\"value\": 1, \"target\": 16, \"source\": 9}, {\"value\": 1, \"target\": 17, \"source\": 9}, {\"value\": 1, \"target\": 96, \"source\": 9}, {\"value\": 1, \"target\": 11, \"source\": 9}, {\"value\": 1, \"target\": 76, \"source\": 9}, {\"value\": 1, \"target\": 13, \"source\": 9}, {\"value\": 1, \"target\": 14, \"source\": 9}, {\"value\": 1, \"target\": 17, \"source\": 10}, {\"value\": 1, \"target\": 55, \"source\": 10}, {\"value\": 1, \"target\": 11, \"source\": 10}, {\"value\": 1, \"target\": 12, \"source\": 10}, {\"value\": 1, \"target\": 14, \"source\": 10}, {\"value\": 1, \"target\": 16, \"source\": 11}, {\"value\": 1, \"target\": 69, \"source\": 11}, {\"value\": 1, \"target\": 58, \"source\": 11}, {\"value\": 1, \"target\": 16, \"source\": 12}, {\"value\": 1, \"target\": 18, \"source\": 12}, {\"value\": 1, \"target\": 17, \"source\": 12}, {\"value\": 1, \"target\": 39, \"source\": 12}, {\"value\": 1, \"target\": 18, \"source\": 13}, {\"value\": 1, \"target\": 29, \"source\": 13}, {\"value\": 1, \"target\": 73, \"source\": 14}, {\"value\": 1, \"target\": 57, \"source\": 14}, {\"value\": 1, \"target\": 15, \"source\": 14}, {\"value\": 1, \"target\": 16, \"source\": 15}, {\"value\": 1, \"target\": 97, \"source\": 15}, {\"value\": 1, \"target\": 28, \"source\": 15}, {\"value\": 1, \"target\": 95, \"source\": 15}, {\"value\": 1, \"target\": 61, \"source\": 16}, {\"value\": 1, \"target\": 89, \"source\": 16}, {\"value\": 1, \"target\": 35, \"source\": 16}, {\"value\": 1, \"target\": 18, \"source\": 17}, {\"value\": 1, \"target\": 44, \"source\": 18}, {\"value\": 1, \"target\": 90, \"source\": 18}, {\"value\": 1, \"target\": 34, \"source\": 19}, {\"value\": 1, \"target\": 25, \"source\": 19}, {\"value\": 1, \"target\": 26, \"source\": 19}, {\"value\": 1, \"target\": 27, \"source\": 19}, {\"value\": 1, \"target\": 28, \"source\": 19}, {\"value\": 1, \"target\": 31, \"source\": 19}, {\"value\": 1, \"target\": 36, \"source\": 20}, {\"value\": 1, \"target\": 37, \"source\": 20}, {\"value\": 1, \"target\": 22, \"source\": 20}, {\"value\": 1, \"target\": 73, \"source\": 20}, {\"value\": 1, \"target\": 28, \"source\": 20}, {\"value\": 1, \"target\": 29, \"source\": 20}, {\"value\": 1, \"target\": 31, \"source\": 20}, {\"value\": 1, \"target\": 33, \"source\": 21}, {\"value\": 1, \"target\": 61, \"source\": 21}, {\"value\": 1, \"target\": 29, \"source\": 21}, {\"value\": 1, \"target\": 31, \"source\": 21}, {\"value\": 1, \"target\": 96, \"source\": 22}, {\"value\": 1, \"target\": 34, \"source\": 22}, {\"value\": 1, \"target\": 35, \"source\": 22}, {\"value\": 1, \"target\": 39, \"source\": 22}, {\"value\": 1, \"target\": 71, \"source\": 22}, {\"value\": 1, \"target\": 25, \"source\": 23}, {\"value\": 1, \"target\": 75, \"source\": 23}, {\"value\": 1, \"target\": 27, \"source\": 23}, {\"value\": 1, \"target\": 54, \"source\": 23}, {\"value\": 1, \"target\": 39, \"source\": 23}, {\"value\": 1, \"target\": 28, \"source\": 24}, {\"value\": 1, \"target\": 30, \"source\": 24}, {\"value\": 1, \"target\": 32, \"source\": 25}, {\"value\": 1, \"target\": 34, \"source\": 25}, {\"value\": 1, \"target\": 37, \"source\": 25}, {\"value\": 1, \"target\": 38, \"source\": 25}, {\"value\": 1, \"target\": 26, \"source\": 25}, {\"value\": 1, \"target\": 90, \"source\": 25}, {\"value\": 1, \"target\": 31, \"source\": 25}, {\"value\": 1, \"target\": 32, \"source\": 26}, {\"value\": 1, \"target\": 35, \"source\": 26}, {\"value\": 1, \"target\": 36, \"source\": 26}, {\"value\": 1, \"target\": 71, \"source\": 26}, {\"value\": 1, \"target\": 39, \"source\": 26}, {\"value\": 1, \"target\": 41, \"source\": 26}, {\"value\": 1, \"target\": 27, \"source\": 26}, {\"value\": 1, \"target\": 33, \"source\": 27}, {\"value\": 1, \"target\": 34, \"source\": 27}, {\"value\": 1, \"target\": 36, \"source\": 27}, {\"value\": 1, \"target\": 35, \"source\": 27}, {\"value\": 1, \"target\": 84, \"source\": 27}, {\"value\": 1, \"target\": 28, \"source\": 27}, {\"value\": 1, \"target\": 29, \"source\": 27}, {\"value\": 1, \"target\": 40, \"source\": 28}, {\"value\": 1, \"target\": 37, \"source\": 28}, {\"value\": 1, \"target\": 36, \"source\": 28}, {\"value\": 1, \"target\": 53, \"source\": 28}, {\"value\": 1, \"target\": 32, \"source\": 29}, {\"value\": 1, \"target\": 80, \"source\": 29}, {\"value\": 1, \"target\": 38, \"source\": 29}, {\"value\": 1, \"target\": 39, \"source\": 29}, {\"value\": 1, \"target\": 84, \"source\": 29}, {\"value\": 1, \"target\": 37, \"source\": 29}, {\"value\": 1, \"target\": 31, \"source\": 29}, {\"value\": 1, \"target\": 68, \"source\": 30}, {\"value\": 1, \"target\": 37, \"source\": 30}, {\"value\": 1, \"target\": 38, \"source\": 30}, {\"value\": 1, \"target\": 31, \"source\": 30}, {\"value\": 1, \"target\": 35, \"source\": 31}, {\"value\": 1, \"target\": 77, \"source\": 31}, {\"value\": 1, \"target\": 64, \"source\": 32}, {\"value\": 1, \"target\": 33, \"source\": 32}, {\"value\": 1, \"target\": 37, \"source\": 32}, {\"value\": 1, \"target\": 38, \"source\": 32}, {\"value\": 1, \"target\": 39, \"source\": 32}, {\"value\": 1, \"target\": 55, \"source\": 32}, {\"value\": 1, \"target\": 49, \"source\": 33}, {\"value\": 1, \"target\": 51, \"source\": 33}, {\"value\": 1, \"target\": 97, \"source\": 33}, {\"value\": 1, \"target\": 38, \"source\": 33}, {\"value\": 1, \"target\": 39, \"source\": 33}, {\"value\": 1, \"target\": 78, \"source\": 33}, {\"value\": 1, \"target\": 35, \"source\": 34}, {\"value\": 1, \"target\": 66, \"source\": 34}, {\"value\": 1, \"target\": 38, \"source\": 34}, {\"value\": 1, \"target\": 38, \"source\": 35}, {\"value\": 1, \"target\": 82, \"source\": 36}, {\"value\": 1, \"target\": 39, \"source\": 36}, {\"value\": 1, \"target\": 81, \"source\": 38}, {\"value\": 1, \"target\": 45, \"source\": 38}, {\"value\": 1, \"target\": 81, \"source\": 39}, {\"value\": 1, \"target\": 49, \"source\": 40}, {\"value\": 1, \"target\": 86, \"source\": 40}, {\"value\": 1, \"target\": 60, \"source\": 40}, {\"value\": 1, \"target\": 42, \"source\": 40}, {\"value\": 1, \"target\": 43, \"source\": 40}, {\"value\": 1, \"target\": 42, \"source\": 41}, {\"value\": 1, \"target\": 43, \"source\": 41}, {\"value\": 1, \"target\": 52, \"source\": 41}, {\"value\": 1, \"target\": 48, \"source\": 42}, {\"value\": 1, \"target\": 50, \"source\": 42}, {\"value\": 1, \"target\": 46, \"source\": 42}, {\"value\": 1, \"target\": 47, \"source\": 42}, {\"value\": 1, \"target\": 82, \"source\": 43}, {\"value\": 1, \"target\": 44, \"source\": 43}, {\"value\": 1, \"target\": 89, \"source\": 43}, {\"value\": 1, \"target\": 51, \"source\": 44}, {\"value\": 1, \"target\": 84, \"source\": 44}, {\"value\": 1, \"target\": 46, \"source\": 45}, {\"value\": 1, \"target\": 95, \"source\": 46}, {\"value\": 1, \"target\": 86, \"source\": 46}, {\"value\": 1, \"target\": 47, \"source\": 46}, {\"value\": 1, \"target\": 84, \"source\": 47}, {\"value\": 1, \"target\": 65, \"source\": 48}, {\"value\": 1, \"target\": 51, \"source\": 48}, {\"value\": 1, \"target\": 51, \"source\": 49}, {\"value\": 1, \"target\": 91, \"source\": 50}, {\"value\": 1, \"target\": 52, \"source\": 51}, {\"value\": 1, \"target\": 65, \"source\": 53}, {\"value\": 1, \"target\": 61, \"source\": 53}, {\"value\": 1, \"target\": 55, \"source\": 53}, {\"value\": 1, \"target\": 57, \"source\": 54}, {\"value\": 1, \"target\": 58, \"source\": 54}, {\"value\": 1, \"target\": 65, \"source\": 54}, {\"value\": 1, \"target\": 63, \"source\": 54}, {\"value\": 1, \"target\": 96, \"source\": 55}, {\"value\": 1, \"target\": 66, \"source\": 55}, {\"value\": 1, \"target\": 70, \"source\": 55}, {\"value\": 1, \"target\": 56, \"source\": 55}, {\"value\": 1, \"target\": 63, \"source\": 55}, {\"value\": 1, \"target\": 58, \"source\": 56}, {\"value\": 1, \"target\": 60, \"source\": 56}, {\"value\": 1, \"target\": 62, \"source\": 56}, {\"value\": 1, \"target\": 64, \"source\": 57}, {\"value\": 1, \"target\": 67, \"source\": 57}, {\"value\": 1, \"target\": 64, \"source\": 58}, {\"value\": 1, \"target\": 66, \"source\": 58}, {\"value\": 1, \"target\": 67, \"source\": 58}, {\"value\": 1, \"target\": 60, \"source\": 58}, {\"value\": 1, \"target\": 61, \"source\": 58}, {\"value\": 1, \"target\": 99, \"source\": 59}, {\"value\": 1, \"target\": 65, \"source\": 59}, {\"value\": 1, \"target\": 67, \"source\": 59}, {\"value\": 1, \"target\": 88, \"source\": 59}, {\"value\": 1, \"target\": 60, \"source\": 59}, {\"value\": 1, \"target\": 61, \"source\": 59}, {\"value\": 1, \"target\": 93, \"source\": 59}, {\"value\": 1, \"target\": 66, \"source\": 60}, {\"value\": 1, \"target\": 67, \"source\": 60}, {\"value\": 1, \"target\": 63, \"source\": 60}, {\"value\": 1, \"target\": 67, \"source\": 61}, {\"value\": 1, \"target\": 63, \"source\": 61}, {\"value\": 1, \"target\": 75, \"source\": 62}, {\"value\": 1, \"target\": 64, \"source\": 63}, {\"value\": 1, \"target\": 97, \"source\": 64}, {\"value\": 1, \"target\": 88, \"source\": 67}, {\"value\": 1, \"target\": 96, \"source\": 68}, {\"value\": 1, \"target\": 98, \"source\": 68}, {\"value\": 1, \"target\": 69, \"source\": 68}, {\"value\": 1, \"target\": 72, \"source\": 68}, {\"value\": 1, \"target\": 89, \"source\": 68}, {\"value\": 1, \"target\": 91, \"source\": 68}, {\"value\": 1, \"target\": 93, \"source\": 68}, {\"value\": 1, \"target\": 79, \"source\": 68}, {\"value\": 1, \"target\": 97, \"source\": 69}, {\"value\": 1, \"target\": 99, \"source\": 69}, {\"value\": 1, \"target\": 71, \"source\": 69}, {\"value\": 1, \"target\": 74, \"source\": 69}, {\"value\": 1, \"target\": 77, \"source\": 69}, {\"value\": 1, \"target\": 82, \"source\": 69}, {\"value\": 1, \"target\": 87, \"source\": 69}, {\"value\": 1, \"target\": 89, \"source\": 69}, {\"value\": 1, \"target\": 90, \"source\": 69}, {\"value\": 1, \"target\": 92, \"source\": 69}, {\"value\": 1, \"target\": 93, \"source\": 69}, {\"value\": 1, \"target\": 95, \"source\": 69}, {\"value\": 1, \"target\": 80, \"source\": 70}, {\"value\": 1, \"target\": 88, \"source\": 70}, {\"value\": 1, \"target\": 83, \"source\": 70}, {\"value\": 1, \"target\": 85, \"source\": 70}, {\"value\": 1, \"target\": 99, \"source\": 70}, {\"value\": 1, \"target\": 71, \"source\": 70}, {\"value\": 1, \"target\": 72, \"source\": 70}, {\"value\": 1, \"target\": 95, \"source\": 70}, {\"value\": 1, \"target\": 91, \"source\": 70}, {\"value\": 1, \"target\": 79, \"source\": 70}, {\"value\": 1, \"target\": 96, \"source\": 71}, {\"value\": 1, \"target\": 99, \"source\": 71}, {\"value\": 1, \"target\": 75, \"source\": 71}, {\"value\": 1, \"target\": 77, \"source\": 71}, {\"value\": 1, \"target\": 78, \"source\": 71}, {\"value\": 1, \"target\": 84, \"source\": 71}, {\"value\": 1, \"target\": 85, \"source\": 71}, {\"value\": 1, \"target\": 87, \"source\": 71}, {\"value\": 1, \"target\": 90, \"source\": 71}, {\"value\": 1, \"target\": 93, \"source\": 71}, {\"value\": 1, \"target\": 94, \"source\": 71}, {\"value\": 1, \"target\": 96, \"source\": 72}, {\"value\": 1, \"target\": 99, \"source\": 72}, {\"value\": 1, \"target\": 86, \"source\": 72}, {\"value\": 1, \"target\": 95, \"source\": 72}, {\"value\": 1, \"target\": 91, \"source\": 72}, {\"value\": 1, \"target\": 76, \"source\": 72}, {\"value\": 1, \"target\": 93, \"source\": 72}, {\"value\": 1, \"target\": 79, \"source\": 72}, {\"value\": 1, \"target\": 96, \"source\": 73}, {\"value\": 1, \"target\": 97, \"source\": 73}, {\"value\": 1, \"target\": 79, \"source\": 73}, {\"value\": 1, \"target\": 81, \"source\": 73}, {\"value\": 1, \"target\": 83, \"source\": 73}, {\"value\": 1, \"target\": 85, \"source\": 73}, {\"value\": 1, \"target\": 87, \"source\": 73}, {\"value\": 1, \"target\": 88, \"source\": 73}, {\"value\": 1, \"target\": 91, \"source\": 73}, {\"value\": 1, \"target\": 92, \"source\": 73}, {\"value\": 1, \"target\": 95, \"source\": 73}, {\"value\": 1, \"target\": 97, \"source\": 74}, {\"value\": 1, \"target\": 98, \"source\": 74}, {\"value\": 1, \"target\": 99, \"source\": 74}, {\"value\": 1, \"target\": 75, \"source\": 74}, {\"value\": 1, \"target\": 78, \"source\": 74}, {\"value\": 1, \"target\": 81, \"source\": 74}, {\"value\": 1, \"target\": 86, \"source\": 74}, {\"value\": 1, \"target\": 88, \"source\": 74}, {\"value\": 1, \"target\": 90, \"source\": 74}, {\"value\": 1, \"target\": 91, \"source\": 74}, {\"value\": 1, \"target\": 76, \"source\": 75}, {\"value\": 1, \"target\": 77, \"source\": 75}, {\"value\": 1, \"target\": 84, \"source\": 75}, {\"value\": 1, \"target\": 85, \"source\": 75}, {\"value\": 1, \"target\": 86, \"source\": 75}, {\"value\": 1, \"target\": 90, \"source\": 75}, {\"value\": 1, \"target\": 92, \"source\": 75}, {\"value\": 1, \"target\": 95, \"source\": 75}, {\"value\": 1, \"target\": 96, \"source\": 76}, {\"value\": 1, \"target\": 97, \"source\": 76}, {\"value\": 1, \"target\": 82, \"source\": 76}, {\"value\": 1, \"target\": 84, \"source\": 76}, {\"value\": 1, \"target\": 92, \"source\": 76}, {\"value\": 1, \"target\": 98, \"source\": 76}, {\"value\": 1, \"target\": 94, \"source\": 76}, {\"value\": 1, \"target\": 95, \"source\": 76}, {\"value\": 1, \"target\": 96, \"source\": 77}, {\"value\": 1, \"target\": 98, \"source\": 77}, {\"value\": 1, \"target\": 99, \"source\": 77}, {\"value\": 1, \"target\": 79, \"source\": 77}, {\"value\": 1, \"target\": 81, \"source\": 77}, {\"value\": 1, \"target\": 82, \"source\": 77}, {\"value\": 1, \"target\": 83, \"source\": 77}, {\"value\": 1, \"target\": 85, \"source\": 77}, {\"value\": 1, \"target\": 87, \"source\": 77}, {\"value\": 1, \"target\": 91, \"source\": 77}, {\"value\": 1, \"target\": 94, \"source\": 77}, {\"value\": 1, \"target\": 98, \"source\": 78}, {\"value\": 1, \"target\": 97, \"source\": 78}, {\"value\": 1, \"target\": 82, \"source\": 78}, {\"value\": 1, \"target\": 83, \"source\": 78}, {\"value\": 1, \"target\": 85, \"source\": 78}, {\"value\": 1, \"target\": 90, \"source\": 78}, {\"value\": 1, \"target\": 96, \"source\": 79}, {\"value\": 1, \"target\": 80, \"source\": 79}, {\"value\": 1, \"target\": 81, \"source\": 79}, {\"value\": 1, \"target\": 84, \"source\": 79}, {\"value\": 1, \"target\": 88, \"source\": 79}, {\"value\": 1, \"target\": 89, \"source\": 79}, {\"value\": 1, \"target\": 90, \"source\": 79}, {\"value\": 1, \"target\": 94, \"source\": 79}, {\"value\": 1, \"target\": 95, \"source\": 79}, {\"value\": 1, \"target\": 98, \"source\": 80}, {\"value\": 1, \"target\": 99, \"source\": 80}, {\"value\": 1, \"target\": 86, \"source\": 80}, {\"value\": 1, \"target\": 90, \"source\": 80}, {\"value\": 1, \"target\": 91, \"source\": 80}, {\"value\": 1, \"target\": 93, \"source\": 80}, {\"value\": 1, \"target\": 96, \"source\": 81}, {\"value\": 1, \"target\": 97, \"source\": 81}, {\"value\": 1, \"target\": 88, \"source\": 81}, {\"value\": 1, \"target\": 90, \"source\": 81}, {\"value\": 1, \"target\": 93, \"source\": 81}, {\"value\": 1, \"target\": 95, \"source\": 81}, {\"value\": 1, \"target\": 97, \"source\": 82}, {\"value\": 1, \"target\": 83, \"source\": 82}, {\"value\": 1, \"target\": 99, \"source\": 82}, {\"value\": 1, \"target\": 92, \"source\": 82}, {\"value\": 1, \"target\": 91, \"source\": 82}, {\"value\": 1, \"target\": 98, \"source\": 83}, {\"value\": 1, \"target\": 86, \"source\": 83}, {\"value\": 1, \"target\": 88, \"source\": 83}, {\"value\": 1, \"target\": 93, \"source\": 83}, {\"value\": 1, \"target\": 85, \"source\": 84}, {\"value\": 1, \"target\": 88, \"source\": 84}, {\"value\": 1, \"target\": 97, \"source\": 85}, {\"value\": 1, \"target\": 86, \"source\": 85}, {\"value\": 1, \"target\": 87, \"source\": 85}, {\"value\": 1, \"target\": 92, \"source\": 85}, {\"value\": 1, \"target\": 93, \"source\": 85}, {\"value\": 1, \"target\": 96, \"source\": 86}, {\"value\": 1, \"target\": 98, \"source\": 86}, {\"value\": 1, \"target\": 99, \"source\": 86}, {\"value\": 1, \"target\": 88, \"source\": 86}, {\"value\": 1, \"target\": 97, \"source\": 87}, {\"value\": 1, \"target\": 98, \"source\": 87}, {\"value\": 1, \"target\": 99, \"source\": 87}, {\"value\": 1, \"target\": 88, \"source\": 87}, {\"value\": 1, \"target\": 90, \"source\": 87}, {\"value\": 1, \"target\": 93, \"source\": 87}, {\"value\": 1, \"target\": 96, \"source\": 88}, {\"value\": 1, \"target\": 97, \"source\": 88}, {\"value\": 1, \"target\": 98, \"source\": 88}, {\"value\": 1, \"target\": 90, \"source\": 88}, {\"value\": 1, \"target\": 91, \"source\": 88}, {\"value\": 1, \"target\": 95, \"source\": 88}, {\"value\": 1, \"target\": 96, \"source\": 89}, {\"value\": 1, \"target\": 98, \"source\": 89}, {\"value\": 1, \"target\": 90, \"source\": 89}, {\"value\": 1, \"target\": 93, \"source\": 89}, {\"value\": 1, \"target\": 98, \"source\": 90}, {\"value\": 1, \"target\": 92, \"source\": 90}, {\"value\": 1, \"target\": 94, \"source\": 90}, {\"value\": 1, \"target\": 95, \"source\": 90}, {\"value\": 1, \"target\": 92, \"source\": 91}, {\"value\": 1, \"target\": 96, \"source\": 92}, {\"value\": 1, \"target\": 97, \"source\": 92}, {\"value\": 1, \"target\": 99, \"source\": 92}, {\"value\": 1, \"target\": 93, \"source\": 92}, {\"value\": 1, \"target\": 96, \"source\": 93}, {\"value\": 1, \"target\": 99, \"source\": 93}, {\"value\": 1, \"target\": 94, \"source\": 93}, {\"value\": 1, \"target\": 95, \"source\": 93}, {\"value\": 1, \"target\": 99, \"source\": 94}, {\"value\": 1, \"target\": 95, \"source\": 94}, {\"value\": 1, \"target\": 96, \"source\": 95}, {\"value\": 1, \"target\": 98, \"source\": 95}, {\"value\": 1, \"target\": 97, \"source\": 96}, {\"value\": 1, \"target\": 99, \"source\": 96}, {\"value\": 1, \"target\": 99, \"source\": 97}], \"nodes\": [{\"group\": 12, \"name\": \"0\"}, {\"group\": 12, \"name\": \"1\"}, {\"group\": 12, \"name\": \"2\"}, {\"group\": 12, \"name\": \"3\"}, {\"group\": 12, \"name\": \"4\"}, {\"group\": 12, \"name\": \"5\"}, {\"group\": 12, \"name\": \"6\"}, {\"group\": 12, \"name\": \"7\"}, {\"group\": 12, \"name\": \"8\"}, {\"group\": 12, \"name\": \"9\"}, {\"group\": 12, \"name\": \"10\"}, {\"group\": 12, \"name\": \"11\"}, {\"group\": 12, \"name\": \"12\"}, {\"group\": 12, \"name\": \"13\"}, {\"group\": 12, \"name\": \"14\"}, {\"group\": 12, \"name\": \"15\"}, {\"group\": 12, \"name\": \"16\"}, {\"group\": 12, \"name\": \"17\"}, {\"group\": 12, \"name\": \"18\"}, {\"group\": 24, \"name\": \"19\"}, {\"group\": 24, \"name\": \"20\"}, {\"group\": 24, \"name\": \"21\"}, {\"group\": 24, \"name\": \"22\"}, {\"group\": 24, \"name\": \"23\"}, {\"group\": 24, \"name\": \"24\"}, {\"group\": 24, \"name\": \"25\"}, {\"group\": 24, \"name\": \"26\"}, {\"group\": 24, \"name\": \"27\"}, {\"group\": 24, \"name\": \"28\"}, {\"group\": 24, \"name\": \"29\"}, {\"group\": 24, \"name\": \"30\"}, {\"group\": 24, \"name\": \"31\"}, {\"group\": 24, \"name\": \"32\"}, {\"group\": 24, \"name\": \"33\"}, {\"group\": 24, \"name\": \"34\"}, {\"group\": 24, \"name\": \"35\"}, {\"group\": 24, \"name\": \"36\"}, {\"group\": 24, \"name\": \"37\"}, {\"group\": 24, \"name\": \"38\"}, {\"group\": 24, \"name\": \"39\"}, {\"group\": 44, \"name\": \"40\"}, {\"group\": 44, \"name\": \"41\"}, {\"group\": 44, \"name\": \"42\"}, {\"group\": 44, \"name\": \"43\"}, {\"group\": 44, \"name\": \"44\"}, {\"group\": 44, \"name\": \"45\"}, {\"group\": 44, \"name\": \"46\"}, {\"group\": 44, \"name\": \"47\"}, {\"group\": 44, \"name\": \"48\"}, {\"group\": 44, \"name\": \"49\"}, {\"group\": 44, \"name\": \"50\"}, {\"group\": 44, \"name\": \"51\"}, {\"group\": 44, \"name\": \"52\"}, {\"group\": 62, \"name\": \"53\"}, {\"group\": 62, \"name\": \"54\"}, {\"group\": 62, \"name\": \"55\"}, {\"group\": 62, \"name\": \"56\"}, {\"group\": 62, \"name\": \"57\"}, {\"group\": 62, \"name\": \"58\"}, {\"group\": 62, \"name\": \"59\"}, {\"group\": 62, \"name\": \"60\"}, {\"group\": 62, \"name\": \"61\"}, {\"group\": 62, \"name\": \"62\"}, {\"group\": 62, \"name\": \"63\"}, {\"group\": 62, \"name\": \"64\"}, {\"group\": 62, \"name\": \"65\"}, {\"group\": 62, \"name\": \"66\"}, {\"group\": 62, \"name\": \"67\"}, {\"group\": 85, \"name\": \"68\"}, {\"group\": 85, \"name\": \"69\"}, {\"group\": 85, \"name\": \"70\"}, {\"group\": 85, \"name\": \"71\"}, {\"group\": 85, \"name\": \"72\"}, {\"group\": 85, \"name\": \"73\"}, {\"group\": 85, \"name\": \"74\"}, {\"group\": 85, \"name\": \"75\"}, {\"group\": 85, \"name\": \"76\"}, {\"group\": 85, \"name\": \"77\"}, {\"group\": 85, \"name\": \"78\"}, {\"group\": 85, \"name\": \"79\"}, {\"group\": 85, \"name\": \"80\"}, {\"group\": 85, \"name\": \"81\"}, {\"group\": 85, \"name\": \"82\"}, {\"group\": 85, \"name\": \"83\"}, {\"group\": 85, \"name\": \"84\"}, {\"group\": 85, \"name\": \"85\"}, {\"group\": 85, \"name\": \"86\"}, {\"group\": 85, \"name\": \"87\"}, {\"group\": 85, \"name\": \"88\"}, {\"group\": 85, \"name\": \"89\"}, {\"group\": 85, \"name\": \"90\"}, {\"group\": 85, \"name\": \"91\"}, {\"group\": 85, \"name\": \"92\"}, {\"group\": 85, \"name\": \"93\"}, {\"group\": 85, \"name\": \"94\"}, {\"group\": 85, \"name\": \"95\"}, {\"group\": 85, \"name\": \"96\"}, {\"group\": 85, \"name\": \"97\"}, {\"group\": 85, \"name\": \"98\"}, {\"group\": 85, \"name\": \"99\"}]},\n",
       "        'width': 600,\n",
       "        'height': 400,\n",
       "        'linkdistance': 50\n",
       "    }\n",
       "\n",
       "    if (window.d3 === undefined) {\n",
       "        console.log('Loading D3 from CDN');\n",
       "        $.getScript('https://cdnjs.cloudflare.com/ajax/libs/d3/3.5.7/d3.js')\n",
       "            .done(function() {\n",
       "                plot_force(options);\n",
       "            });\n",
       "    } else {\n",
       "        plot_force(options);\n",
       "    }\n",
       "\n",
       "    function plot_force(o) {\n",
       "        var color = d3.scale.category20();\n",
       "\n",
       "        var svg = d3.select(o.divid).append(\"svg\")\n",
       "            .attr(\"width\", o.width)\n",
       "            .attr(\"height\", o.height);\n",
       "\n",
       "        var force = d3.layout.force()\n",
       "            .charge(-120)\n",
       "            .linkDistance(o.linkdistance)\n",
       "            .size([o.width, o.height])\n",
       "            .nodes(o.data.nodes)\n",
       "            .links(o.data.links)\n",
       "            .start();\n",
       "\n",
       "        var link = svg.selectAll(\".link\")\n",
       "                .data(o.data.links)\n",
       "            .enter().append(\"line\")\n",
       "                .attr(\"class\", \"link\")\n",
       "                .style(\"stroke-width\", function(d) { return Math.sqrt(d.value); });\n",
       "\n",
       "        var node = svg.selectAll(\".node\")\n",
       "                .data(o.data.nodes)\n",
       "            .enter().append(\"g\")\n",
       "                .attr(\"class\", \"node\")\n",
       "                .call(force.drag)\n",
       "\n",
       "        node.append(\"circle\")\n",
       "            .attr(\"r\", 5)\n",
       "            .style(\"fill\", function(d) { return color(d.group); });\n",
       "\n",
       "        /*node.append(\"title\")\n",
       "            .text(function(d) { return d.name; });*/\n",
       "\n",
       "        \n",
       "\n",
       "        force.on(\"tick\", function() {\n",
       "            link.attr(\"x1\", function(d) { return d.source.x; })\n",
       "                .attr(\"y1\", function(d) { return d.source.y; })\n",
       "                .attr(\"x2\", function(d) { return d.target.x; })\n",
       "                .attr(\"y2\", function(d) { return d.target.y; });\n",
       "\n",
       "            node.attr(\"transform\", function(d) { return \"translate(\" + d.x + \",\" + d.y + \")\"; });\n",
       "        });\n",
       "    }\n",
       "}();\n",
       "</script>\n",
       "<div id=\"x24f4199772614399b59378fa83bb13d3\">\n",
       "</div>"
      ],
      "text/plain": [
       "<IPython.core.display.HTML object>"
      ]
     },
     "execution_count": 32,
     "metadata": {},
     "output_type": "execute_result"
    }
   ],
   "source": [
    "scores = []\n",
    "best = None\n",
    "for i in range(100):\n",
    "    print('{: 3}...'.format(i+1), end=\" \")\n",
    "    mess = core_algorithm(messier, 15)\n",
    "    scores.append(mess.code_length())\n",
    "    if scores[-1] <= min(scores):\n",
    "        best = mess\n",
    "best._d3(linkdistance=50)"
   ]
  },
  {
   "cell_type": "code",
   "execution_count": 33,
   "metadata": {
    "collapsed": false
   },
   "outputs": [
    {
     "data": {
      "text/plain": [
       "(array([ 57.,  11.,  14.,   6.,   9.,   0.,   0.,   1.,   0.,   2.]),\n",
       " array([ 5.71587162,  5.72320904,  5.73054646,  5.73788388,  5.7452213 ,\n",
       "         5.75255872,  5.75989614,  5.76723356,  5.77457098,  5.7819084 ,\n",
       "         5.78924582]),\n",
       " <a list of 10 Patch objects>)"
      ]
     },
     "execution_count": 33,
     "metadata": {},
     "output_type": "execute_result"
    },
    {
     "data": {
      "image/png": "[encoded data removed]",
      "text/plain": [
       "<matplotlib.figure.Figure at 0x1074c6be0>"
      ]
     },
     "metadata": {},
     "output_type": "display_data"
    }
   ],
   "source": [
    "plt.hist(scores)"
   ]
  },
  {
   "cell_type": "code",
   "execution_count": 34,
   "metadata": {
    "collapsed": false
   },
   "outputs": [],
   "source": [
    "import json\n",
    "import io\n",
    "import hashlib\n",
    "\n",
    "buf = io.BytesIO()\n",
    "nx.write_pajek(messier, buf)\n",
    "hash_id = hashlib.md5(buf.getvalue()).hexdigest()[:10]\n",
    "\n",
    "json_fn = 'log-{}.json'.format(hash_id)\n",
    "pajek_fn = 'network-{}.net'.format(hash_id)\n",
    "\n",
    "data = {\n",
    "    'graph_edges': list(messier.edges()),\n",
    "    'best_score': best.code_length(),\n",
    "    'best_groups': [list(n) for m, n in best.mn.items() if n],\n",
    "}\n",
    "with open(json_fn, 'w') as f:\n",
    "    json.dump(data, f)\n",
    "\n",
    "nx.write_pajek(messier, pajek_fn)"
   ]
  },
  {
   "cell_type": "code",
   "execution_count": 35,
   "metadata": {
    "collapsed": false
   },
   "outputs": [
    {
     "name": "stdout",
     "output_type": "stream",
     "text": [
      "Name:\n",
      "        Infomap - Implementation of the Infomap clustering algorithm based on the Map Equation (see www.mapequation.org)\n",
      "\n",
      "Usage:\n",
      "        Infomap network_file out_directory [options]\n",
      "\n",
      "[network_file]\n",
      "    The file containing the network data. Accepted formats: Pajek (implied by .net) and link list (.txt)\n",
      "\n",
      "[out_directory]\n",
      "    The directory to write the results to\n",
      "\n",
      "[options]\n",
      "  -h[+] --help [+]                                  Prints this help message. Use -hh to show advanced options.\n",
      "  -V    --version                                   Display program version information.\n",
      "  -i<s> --input-format <s>                          Specify input format ('pajek', 'link-list', 'states', '3gram', 'multiplex' or 'bipartite') to override format possibly implied by file extension.\n",
      "        --overlapping                               Let nodes be part of different and overlapping modules. Applies to ordinary networks by first representing the memoryless dynamics with memory nodes.\n",
      "  -z    --zero-based-numbering                      Assume node numbers start from zero in the input file instead of one.\n",
      "  -k    --include-self-links                        Include links with the same source and target node. (Ignored by default.)\n",
      "        --map                                       Print the top two-level modular network in the .map format.\n",
      "        --clu                                       Print the top cluster indices for each node.\n",
      "        --tree                                      Print the hierarchy in .tree format. (default true if no other output with cluster data)\n",
      "        --bftree                                    Print the tree including horizontal flow links in a streamable binary format.\n",
      "  -2    --two-level                                 Optimize a two-level partition of the network.\n",
      "  -u    --undirected                                Assume undirected links. (default)\n",
      "  -d    --directed                                  Assume directed links.\n",
      "  -t    --undirdir                                  Two-mode dynamics: Assume undirected links for calculating flow, but directed when minimizing codelength.\n",
      "  -s<n> --seed <n>                                  A seed (integer) to the random number generator.\n",
      "  -N<n> --num-trials <n>                            The number of outer-most loops to run before picking the best solution. (Default: 1)\n",
      "  -F[+] --fast-hierarchical-solution [+]            Find top modules fast. Use -FF to keep all fast levels. Use -FFF to skip recursive part.\n",
      "  -l[+] --low-memory [+]                            Prioritize memory efficient algorithms before fast. Use -ll to optimize even more, but this may give approximate results.\n",
      "        --inner-parallelization                     Parallelize the innermost loop for greater speed. Note that this may give some accuracy tradeoff.\n",
      "  -v[+] --verbose [+]                               Verbose output on the console. Add additional 'v' flags to increase verbosity up to -vvv.\n",
      "        --silent                                    No output on the console.\n",
      "\n"
     ]
    }
   ],
   "source": [
    "%%bash\n",
    "../infomap/Infomap -h"
   ]
  },
  {
   "cell_type": "code",
   "execution_count": 36,
   "metadata": {
    "collapsed": false
   },
   "outputs": [
    {
     "name": "stdout",
     "output_type": "stream",
     "text": [
      "=======================================================\n",
      "  Infomap v0.18.2 starts at [2016-02-17 21:14:53]\n",
      "  -> Input network: network-ce67bb054a.net\n",
      "  -> Output path:   out/\n",
      "  -> Configuration: two-level\n",
      "  -> Use undirected flow and 1st order Markov dynamics\n",
      "=======================================================\n",
      "Parsing undirected network from file 'network-ce67bb054a.net'... done!\n",
      " ==> 100 nodes (with total weight 0) and 431 links.\n",
      "Calculating global flow... \n",
      "  -> Using undirected links.\n",
      "Calculating one-level codelength... done!\n",
      "  -> One-level codelength: 6.495979889\n",
      "\n",
      "Attempt 1/1 at [2016-02-17 21:14:53]\n",
      "Initiated to codelength 6.49598 + 2 = 8.495979889 in 100 modules.\n",
      "Two-level compression: 6% 6.4% to 5 modules with codelength 5.715871618\n",
      "\n",
      "Building output tree... writing .tree... done!\n",
      "\n",
      "\n",
      "Best end modular solution in 2 levels:\n",
      "Per level number of modules:         [          5,           0] (sum: 5)\n",
      "Per level number of leaf nodes:      [          0,         100] (sum: 100)\n",
      "Per level average child degree:      [          5,          20] (average: 19.2857)\n",
      "Per level codelength for modules:    [0.448849279, 0.000000000] (sum: 0.448849279)\n",
      "Per level codelength for leaf nodes: [0.000000000, 5.267022340] (sum: 5.267022340)\n",
      "Per level codelength total:          [0.448849279, 5.267022340] (sum: 5.715871618)\n",
      "\n",
      "===================================================\n",
      "  Infomap ends at [2016-02-17 21:14:53]\n",
      "  (Elapsed time: 0s)\n",
      "===================================================\n"
     ]
    }
   ],
   "source": [
    "%%bash -s \"$pajek_fn\"\n",
    "mkdir -p out\n",
    "../infomap/Infomap $1 out/ -2"
   ]
  },
  {
   "cell_type": "code",
   "execution_count": 37,
   "metadata": {
    "collapsed": false
   },
   "outputs": [
    {
     "name": "stdout",
     "output_type": "stream",
     "text": [
      "Python optimized Map code size: 5.715871618 bits\n",
      "Python single level code size:  6.495979889 bits\n"
     ]
    }
   ],
   "source": [
    "print('Python optimized Map code size: {:2.9f} bits'.format(data['best_score']))\n",
    "print('Python single level code size:  {:2.9f} bits'.format(one_level_codelength))"
   ]
  },
  {
   "cell_type": "code",
   "execution_count": 46,
   "metadata": {
    "collapsed": false
   },
   "outputs": [
    {
     "name": "stdout",
     "output_type": "stream",
     "text": [
      "We found the same modules as the Infomap C program!\n"
     ]
    }
   ],
   "source": [
    "modules = defaultdict(set)\n",
    "import glob\n",
    "import os\n",
    "\n",
    "newest = max(glob.iglob('out/*.tree'), key=os.path.getctime)\n",
    "with open(newest) as f:\n",
    "    for line in f:\n",
    "        if line.startswith('#'):\n",
    "            continue\n",
    "        cols = line.split()\n",
    "        modules[int(cols[0].split(':')[0])].add(int(cols[3]))\n",
    "modules = dict(modules)\n",
    "\n",
    "def sum_min(x):\n",
    "    return (sum(x), min(x))\n",
    "\n",
    "info_groups = sorted([sorted(list(v)) for v in modules.values()], key=sum_min)\n",
    "group_tweak = sorted([sorted([x+1 for x in group]) for group in data['best_groups']], key=sum_min)\n",
    "for i, g in zip(info_groups, group_tweak):\n",
    "    assert set(i) == set(g)\n",
    "else:\n",
    "    print('We found the same modules as the Infomap C program!')"
   ]
  },
  {
   "cell_type": "code",
   "execution_count": null,
   "metadata": {
    "collapsed": true
   },
   "outputs": [],
   "source": []
  }
 ],
 "metadata": {
  "kernelspec": {
   "display_name": "Python 3",
   "language": "python",
   "name": "python3"
  },
  "language_info": {
   "codemirror_mode": {
    "name": "ipython",
    "version": 3
   },
   "file_extension": ".py",
   "mimetype": "text/x-python",
   "name": "python",
   "nbconvert_exporter": "python",
   "pygments_lexer": "ipython3",
   "version": "3.5.1"
  }
 },
 "nbformat": 4,
 "nbformat_minor": 0
}
