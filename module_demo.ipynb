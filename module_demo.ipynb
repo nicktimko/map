{
 "cells": [
  {
   "cell_type": "markdown",
   "metadata": {},
   "source": [
    "# The Map Equation\n",
    "\n",
    "The Map Equation is used to evaluate how well compressed a given network partition is in terms of information efficiency."
   ]
  },
  {
   "cell_type": "code",
   "execution_count": 1,
   "metadata": {
    "collapsed": true
   },
   "outputs": [],
   "source": [
    "import networkx as nx\n",
    "import d3shims\n",
    "\n",
    "import infomap\n",
    "import test_graphs as tg"
   ]
  },
  {
   "cell_type": "code",
   "execution_count": 2,
   "metadata": {
    "collapsed": false
   },
   "outputs": [
    {
     "data": {
      "text/html": [
       "<style>\n",
       "    .node {\n",
       "      stroke: #fff;\n",
       "      stroke-width: 1.5px;\n",
       "    }\n",
       "\n",
       "    .link {\n",
       "      stroke: #999;\n",
       "      stroke-opacity: .6;\n",
       "    }\n",
       "\n",
       "    .node text {\n",
       "      pointer-events: none;\n",
       "      font: 10px sans-serif;\n",
       "      color: #000;\n",
       "      stroke-width: 0;\n",
       "    }\n",
       "</style>\n",
       "<script>\n",
       "+function() {\n",
       "    var options = {\n",
       "        'divid': '#x91c67bcd67d240829a118033600e0922',\n",
       "        'data': {\"nodes\": [{\"group\": \"3\", \"name\": \"10\"}, {\"group\": \"3\", \"name\": \"19\"}, {\"group\": \"3\", \"name\": \"7\"}, {\"group\": \"3\", \"name\": \"22\"}, {\"group\": \"3\", \"name\": \"12\"}, {\"group\": \"3\", \"name\": \"5\"}, {\"group\": \"3\", \"name\": \"20\"}, {\"group\": \"3\", \"name\": \"9\"}, {\"group\": \"3\", \"name\": \"23\"}, {\"group\": \"3\", \"name\": \"24\"}, {\"group\": \"3\", \"name\": \"2\"}, {\"group\": \"3\", \"name\": \"15\"}, {\"group\": \"3\", \"name\": \"25\"}, {\"group\": \"3\", \"name\": \"8\"}, {\"group\": \"3\", \"name\": \"11\"}, {\"group\": \"3\", \"name\": \"6\"}, {\"group\": \"3\", \"name\": \"1\"}, {\"group\": \"3\", \"name\": \"16\"}, {\"group\": \"3\", \"name\": \"17\"}, {\"group\": \"3\", \"name\": \"14\"}, {\"group\": \"3\", \"name\": \"3\"}, {\"group\": \"3\", \"name\": \"13\"}, {\"group\": \"3\", \"name\": \"18\"}, {\"group\": \"3\", \"name\": \"21\"}, {\"group\": \"3\", \"name\": \"4\"}], \"links\": [{\"target\": 4, \"value\": 1.0, \"source\": 0}, {\"target\": 13, \"value\": 1.0, \"source\": 0}, {\"target\": 2, \"value\": 1.0, \"source\": 0}, {\"target\": 7, \"value\": 1.0, \"source\": 0}, {\"target\": 14, \"value\": 1.0, \"source\": 0}, {\"target\": 17, \"value\": 1.0, \"source\": 1}, {\"target\": 6, \"value\": 1.0, \"source\": 1}, {\"target\": 23, \"value\": 1.0, \"source\": 1}, {\"target\": 13, \"value\": 1.0, \"source\": 2}, {\"target\": 7, \"value\": 1.0, \"source\": 2}, {\"target\": 24, \"value\": 1.0, \"source\": 2}, {\"target\": 12, \"value\": 1.0, \"source\": 3}, {\"target\": 8, \"value\": 1.0, \"source\": 3}, {\"target\": 9, \"value\": 1.0, \"source\": 3}, {\"target\": 23, \"value\": 1.0, \"source\": 3}, {\"target\": 21, \"value\": 1.0, \"source\": 4}, {\"target\": 14, \"value\": 1.0, \"source\": 4}, {\"target\": 10, \"value\": 1.0, \"source\": 5}, {\"target\": 15, \"value\": 1.0, \"source\": 5}, {\"target\": 17, \"value\": 1.0, \"source\": 6}, {\"target\": 23, \"value\": 1.0, \"source\": 6}, {\"target\": 14, \"value\": 1.0, \"source\": 7}, {\"target\": 12, \"value\": 1.0, \"source\": 8}, {\"target\": 9, \"value\": 1.0, \"source\": 8}, {\"target\": 20, \"value\": 1.0, \"source\": 10}, {\"target\": 15, \"value\": 1.0, \"source\": 10}, {\"target\": 16, \"value\": 1.0, \"source\": 10}, {\"target\": 24, \"value\": 1.0, \"source\": 10}, {\"target\": 17, \"value\": 1.0, \"source\": 11}, {\"target\": 19, \"value\": 1.0, \"source\": 11}, {\"target\": 21, \"value\": 1.0, \"source\": 12}, {\"target\": 21, \"value\": 1.0, \"source\": 13}, {\"target\": 19, \"value\": 1.0, \"source\": 13}, {\"target\": 21, \"value\": 1.0, \"source\": 14}, {\"target\": 24, \"value\": 1.0, \"source\": 15}, {\"target\": 19, \"value\": 1.0, \"source\": 17}, {\"target\": 22, \"value\": 1.0, \"source\": 17}, {\"target\": 18, \"value\": 1.0, \"source\": 17}, {\"target\": 23, \"value\": 1.0, \"source\": 17}, {\"target\": 22, \"value\": 1.0, \"source\": 19}, {\"target\": 24, \"value\": 1.0, \"source\": 20}, {\"target\": 23, \"value\": 1.0, \"source\": 22}]},\n",
       "        'width': 300,\n",
       "        'height': 300,\n",
       "        'linkdistance': 30\n",
       "    }\n",
       "\n",
       "    if (window.d3 === undefined) {\n",
       "        console.log('Loading D3 from CDN');\n",
       "        $.getScript('https://cdnjs.cloudflare.com/ajax/libs/d3/3.5.7/d3.js')\n",
       "            .done(function() {\n",
       "                plot_force(options);\n",
       "            });\n",
       "    } else {\n",
       "        plot_force(options);\n",
       "    }\n",
       "\n",
       "    function plot_force(o) {\n",
       "        var color = d3.scale.category20();\n",
       "\n",
       "        var svg = d3.select(o.divid).append(\"svg\")\n",
       "            .attr(\"width\", o.width)\n",
       "            .attr(\"height\", o.height);\n",
       "\n",
       "        var force = d3.layout.force()\n",
       "            .charge(-120)\n",
       "            .linkDistance(o.linkdistance)\n",
       "            .size([o.width, o.height])\n",
       "            .nodes(o.data.nodes)\n",
       "            .links(o.data.links)\n",
       "            .start();\n",
       "\n",
       "        var link = svg.selectAll(\".link\")\n",
       "                .data(o.data.links)\n",
       "            .enter().append(\"line\")\n",
       "                .attr(\"class\", \"link\")\n",
       "                .style(\"stroke-width\", function(d) { return Math.sqrt(d.value); });\n",
       "\n",
       "        var node = svg.selectAll(\".node\")\n",
       "                .data(o.data.nodes)\n",
       "            .enter().append(\"g\")\n",
       "                .attr(\"class\", \"node\")\n",
       "                .call(force.drag)\n",
       "\n",
       "        node.append(\"circle\")\n",
       "            .attr(\"r\", 5)\n",
       "            .style(\"fill\", function(d) { return color(d.group); });\n",
       "\n",
       "        /*node.append(\"title\")\n",
       "            .text(function(d) { return d.name; });*/\n",
       "\n",
       "        \n",
       "\n",
       "        force.on(\"tick\", function() {\n",
       "            link.attr(\"x1\", function(d) { return d.source.x; })\n",
       "                .attr(\"y1\", function(d) { return d.source.y; })\n",
       "                .attr(\"x2\", function(d) { return d.target.x; })\n",
       "                .attr(\"y2\", function(d) { return d.target.y; });\n",
       "\n",
       "            node.attr(\"transform\", function(d) { return \"translate(\" + d.x + \",\" + d.y + \")\"; });\n",
       "        });\n",
       "    }\n",
       "}();\n",
       "</script>\n",
       "<div id=\"x91c67bcd67d240829a118033600e0922\">\n",
       "</div>"
      ],
      "text/plain": [
       "<IPython.core.display.HTML object>"
      ]
     },
     "execution_count": 2,
     "metadata": {},
     "output_type": "execute_result"
    }
   ],
   "source": [
    "size = (300, 300)\n",
    "d3shims.nx_force(tg.toy, size=size)"
   ]
  },
  {
   "cell_type": "markdown",
   "metadata": {},
   "source": [
    "$$\\Large L(\\mathrm M) = q_\\curvearrowleft H(\\mathcal{Q}) + \\sum^m_{i=1}{p_{i\\circlearrowright} H\\left(\\mathcal{P}_i\\right)}$$"
   ]
  },
  {
   "cell_type": "code",
   "execution_count": 3,
   "metadata": {
    "collapsed": false
   },
   "outputs": [
    {
     "data": {
      "text/plain": [
       "6.5289899716475537"
      ]
     },
     "execution_count": 3,
     "metadata": {},
     "output_type": "execute_result"
    }
   ],
   "source": [
    "G = nx.Graph(tg.toy)\n",
    "bits = infomap.mapeq(G)\n",
    "bits"
   ]
  },
  {
   "cell_type": "code",
   "execution_count": 4,
   "metadata": {
    "collapsed": false
   },
   "outputs": [
    {
     "data": {
      "text/plain": [
       "3.2469734972848916"
      ]
     },
     "execution_count": 4,
     "metadata": {},
     "output_type": "execute_result"
    }
   ],
   "source": [
    "mG = infomap.infomap(G)\n",
    "compressed_bits = mG.code_length()\n",
    "modules = list(mG.modules())\n",
    "compressed_bits"
   ]
  },
  {
   "cell_type": "code",
   "execution_count": 5,
   "metadata": {
    "collapsed": false
   },
   "outputs": [
    {
     "data": {
      "text/html": [
       "<style>\n",
       "    .node {\n",
       "      stroke: #fff;\n",
       "      stroke-width: 1.5px;\n",
       "    }\n",
       "\n",
       "    .link {\n",
       "      stroke: #999;\n",
       "      stroke-opacity: .6;\n",
       "    }\n",
       "\n",
       "    .node text {\n",
       "      pointer-events: none;\n",
       "      font: 10px sans-serif;\n",
       "      color: #000;\n",
       "      stroke-width: 0;\n",
       "    }\n",
       "</style>\n",
       "<script>\n",
       "+function() {\n",
       "    var options = {\n",
       "        'divid': '#x75c3e1065eed4a6cb3230de31e10195d',\n",
       "        'data': {\"nodes\": [{\"group\": \"9\", \"name\": \"10\"}, {\"group\": \"15\", \"name\": \"19\"}, {\"group\": \"9\", \"name\": \"7\"}, {\"group\": \"25\", \"name\": \"22\"}, {\"group\": \"9\", \"name\": \"12\"}, {\"group\": \"5\", \"name\": \"5\"}, {\"group\": \"15\", \"name\": \"20\"}, {\"group\": \"9\", \"name\": \"9\"}, {\"group\": \"15\", \"name\": \"15\"}, {\"group\": \"25\", \"name\": \"23\"}, {\"group\": \"25\", \"name\": \"24\"}, {\"group\": \"5\", \"name\": \"2\"}, {\"group\": \"5\", \"name\": \"3\"}, {\"group\": \"25\", \"name\": \"25\"}, {\"group\": \"9\", \"name\": \"8\"}, {\"group\": \"9\", \"name\": \"11\"}, {\"group\": \"15\", \"name\": \"18\"}, {\"group\": \"5\", \"name\": \"1\"}, {\"group\": \"15\", \"name\": \"16\"}, {\"group\": \"15\", \"name\": \"17\"}, {\"group\": \"15\", \"name\": \"14\"}, {\"group\": \"9\", \"name\": \"13\"}, {\"group\": \"5\", \"name\": \"6\"}, {\"group\": \"15\", \"name\": \"21\"}, {\"group\": \"5\", \"name\": \"4\"}], \"links\": [{\"target\": 4, \"value\": 1.0, \"source\": 0}, {\"target\": 14, \"value\": 1.0, \"source\": 0}, {\"target\": 2, \"value\": 1.0, \"source\": 0}, {\"target\": 7, \"value\": 1.0, \"source\": 0}, {\"target\": 15, \"value\": 1.0, \"source\": 0}, {\"target\": 18, \"value\": 1.0, \"source\": 1}, {\"target\": 6, \"value\": 1.0, \"source\": 1}, {\"target\": 23, \"value\": 1.0, \"source\": 1}, {\"target\": 14, \"value\": 1.0, \"source\": 2}, {\"target\": 7, \"value\": 1.0, \"source\": 2}, {\"target\": 24, \"value\": 1.0, \"source\": 2}, {\"target\": 13, \"value\": 1.0, \"source\": 3}, {\"target\": 9, \"value\": 1.0, \"source\": 3}, {\"target\": 10, \"value\": 1.0, \"source\": 3}, {\"target\": 23, \"value\": 1.0, \"source\": 3}, {\"target\": 21, \"value\": 1.0, \"source\": 4}, {\"target\": 15, \"value\": 1.0, \"source\": 4}, {\"target\": 11, \"value\": 1.0, \"source\": 5}, {\"target\": 22, \"value\": 1.0, \"source\": 5}, {\"target\": 18, \"value\": 1.0, \"source\": 6}, {\"target\": 23, \"value\": 1.0, \"source\": 6}, {\"target\": 15, \"value\": 1.0, \"source\": 7}, {\"target\": 18, \"value\": 1.0, \"source\": 8}, {\"target\": 20, \"value\": 1.0, \"source\": 8}, {\"target\": 13, \"value\": 1.0, \"source\": 9}, {\"target\": 10, \"value\": 1.0, \"source\": 9}, {\"target\": 12, \"value\": 1.0, \"source\": 11}, {\"target\": 22, \"value\": 1.0, \"source\": 11}, {\"target\": 17, \"value\": 1.0, \"source\": 11}, {\"target\": 24, \"value\": 1.0, \"source\": 11}, {\"target\": 24, \"value\": 1.0, \"source\": 12}, {\"target\": 21, \"value\": 1.0, \"source\": 13}, {\"target\": 21, \"value\": 1.0, \"source\": 14}, {\"target\": 20, \"value\": 1.0, \"source\": 14}, {\"target\": 21, \"value\": 1.0, \"source\": 15}, {\"target\": 18, \"value\": 1.0, \"source\": 16}, {\"target\": 20, \"value\": 1.0, \"source\": 16}, {\"target\": 23, \"value\": 1.0, \"source\": 16}, {\"target\": 20, \"value\": 1.0, \"source\": 18}, {\"target\": 19, \"value\": 1.0, \"source\": 18}, {\"target\": 23, \"value\": 1.0, \"source\": 18}, {\"target\": 24, \"value\": 1.0, \"source\": 22}]},\n",
       "        'width': 300,\n",
       "        'height': 300,\n",
       "        'linkdistance': 30\n",
       "    }\n",
       "\n",
       "    if (window.d3 === undefined) {\n",
       "        console.log('Loading D3 from CDN');\n",
       "        $.getScript('https://cdnjs.cloudflare.com/ajax/libs/d3/3.5.7/d3.js')\n",
       "            .done(function() {\n",
       "                plot_force(options);\n",
       "            });\n",
       "    } else {\n",
       "        plot_force(options);\n",
       "    }\n",
       "\n",
       "    function plot_force(o) {\n",
       "        var color = d3.scale.category20();\n",
       "\n",
       "        var svg = d3.select(o.divid).append(\"svg\")\n",
       "            .attr(\"width\", o.width)\n",
       "            .attr(\"height\", o.height);\n",
       "\n",
       "        var force = d3.layout.force()\n",
       "            .charge(-120)\n",
       "            .linkDistance(o.linkdistance)\n",
       "            .size([o.width, o.height])\n",
       "            .nodes(o.data.nodes)\n",
       "            .links(o.data.links)\n",
       "            .start();\n",
       "\n",
       "        var link = svg.selectAll(\".link\")\n",
       "                .data(o.data.links)\n",
       "            .enter().append(\"line\")\n",
       "                .attr(\"class\", \"link\")\n",
       "                .style(\"stroke-width\", function(d) { return Math.sqrt(d.value); });\n",
       "\n",
       "        var node = svg.selectAll(\".node\")\n",
       "                .data(o.data.nodes)\n",
       "            .enter().append(\"g\")\n",
       "                .attr(\"class\", \"node\")\n",
       "                .call(force.drag)\n",
       "\n",
       "        node.append(\"circle\")\n",
       "            .attr(\"r\", 5)\n",
       "            .style(\"fill\", function(d) { return color(d.group); });\n",
       "\n",
       "        /*node.append(\"title\")\n",
       "            .text(function(d) { return d.name; });*/\n",
       "\n",
       "        \n",
       "\n",
       "        force.on(\"tick\", function() {\n",
       "            link.attr(\"x1\", function(d) { return d.source.x; })\n",
       "                .attr(\"y1\", function(d) { return d.source.y; })\n",
       "                .attr(\"x2\", function(d) { return d.target.x; })\n",
       "                .attr(\"y2\", function(d) { return d.target.y; });\n",
       "\n",
       "            node.attr(\"transform\", function(d) { return \"translate(\" + d.x + \",\" + d.y + \")\"; });\n",
       "        });\n",
       "    }\n",
       "}();\n",
       "</script>\n",
       "<div id=\"x75c3e1065eed4a6cb3230de31e10195d\">\n",
       "</div>"
      ],
      "text/plain": [
       "<IPython.core.display.HTML object>"
      ]
     },
     "execution_count": 5,
     "metadata": {},
     "output_type": "execute_result"
    }
   ],
   "source": [
    "mG.d3(size=size)"
   ]
  },
  {
   "cell_type": "code",
   "execution_count": 6,
   "metadata": {
    "collapsed": true
   },
   "outputs": [],
   "source": [
    "%load_ext snakeviz"
   ]
  },
  {
   "cell_type": "code",
   "execution_count": 7,
   "metadata": {
    "collapsed": false
   },
   "outputs": [
    {
     "name": "stdout",
     "output_type": "stream",
     "text": [
      " \n",
      "*** Profile stats marshalled to file '/var/folders/0t/qjj42__d0xv6xstx2g_brxgh0000gn/T/tmpqo1jofdc'. \n"
     ]
    }
   ],
   "source": [
    "%%snakeviz\n",
    "mG = infomap.infomap(tg.messy)"
   ]
  },
  {
   "cell_type": "code",
   "execution_count": null,
   "metadata": {
    "collapsed": true
   },
   "outputs": [],
   "source": []
  }
 ],
 "metadata": {
  "kernelspec": {
   "display_name": "Python 3",
   "language": "python",
   "name": "python3"
  },
  "language_info": {
   "codemirror_mode": {
    "name": "ipython",
    "version": 3
   },
   "file_extension": ".py",
   "mimetype": "text/x-python",
   "name": "python",
   "nbconvert_exporter": "python",
   "pygments_lexer": "ipython3",
   "version": "3.5.1"
  }
 },
 "nbformat": 4,
 "nbformat_minor": 0
}
