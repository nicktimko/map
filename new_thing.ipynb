{
 "cells": [
  {
   "cell_type": "markdown",
   "metadata": {},
   "source": [
    "# The Map Equation\n",
    "\n",
    "The Map Equation is used to evaluate how well compressed a given network partition is in terms of information efficiency."
   ]
  },
  {
   "cell_type": "code",
   "execution_count": 3,
   "metadata": {
    "collapsed": true
   },
   "outputs": [],
   "source": [
    "import networkx as nx\n",
    "import d3shims\n",
    "\n",
    "from graph import G"
   ]
  },
  {
   "cell_type": "code",
   "execution_count": 7,
   "metadata": {
    "collapsed": false
   },
   "outputs": [
    {
     "data": {
      "text/html": [
       "<style>\n",
       "    .node {\n",
       "      stroke: #fff;\n",
       "      stroke-width: 1.5px;\n",
       "    }\n",
       "\n",
       "    .link {\n",
       "      stroke: #999;\n",
       "      stroke-opacity: .6;\n",
       "    }\n",
       "\n",
       "    .node text {\n",
       "      pointer-events: none;\n",
       "      font: 10px sans-serif;\n",
       "      color: #000;\n",
       "      stroke-width: 0;\n",
       "    }\n",
       "</style>\n",
       "<script>\n",
       "+function() {\n",
       "    var options = {\n",
       "        'divid': '#x59e18fd78153407fbf9d59d3f102ed13',\n",
       "        'data': {\"nodes\": [{\"group\": 0, \"name\": \"1\"}, {\"group\": 0, \"name\": \"2\"}, {\"group\": 0, \"name\": \"3\"}, {\"group\": 0, \"name\": \"4\"}, {\"group\": 0, \"name\": \"5\"}, {\"group\": 0, \"name\": \"6\"}, {\"group\": 0, \"name\": \"7\"}, {\"group\": 0, \"name\": \"8\"}, {\"group\": 0, \"name\": \"9\"}, {\"group\": 0, \"name\": \"10\"}, {\"group\": 0, \"name\": \"11\"}, {\"group\": 0, \"name\": \"12\"}, {\"group\": 0, \"name\": \"13\"}, {\"group\": 0, \"name\": \"14\"}, {\"group\": 0, \"name\": \"15\"}, {\"group\": 0, \"name\": \"16\"}, {\"group\": 0, \"name\": \"17\"}, {\"group\": 0, \"name\": \"18\"}, {\"group\": 0, \"name\": \"19\"}, {\"group\": 0, \"name\": \"20\"}, {\"group\": 0, \"name\": \"21\"}, {\"group\": 0, \"name\": \"22\"}, {\"group\": 0, \"name\": \"23\"}, {\"group\": 0, \"name\": \"24\"}, {\"group\": 0, \"name\": \"25\"}], \"links\": [{\"source\": 0, \"value\": 1, \"target\": 1}, {\"source\": 1, \"value\": 1, \"target\": 2}, {\"source\": 1, \"value\": 1, \"target\": 3}, {\"source\": 1, \"value\": 1, \"target\": 4}, {\"source\": 1, \"value\": 1, \"target\": 5}, {\"source\": 2, \"value\": 1, \"target\": 3}, {\"source\": 3, \"value\": 1, \"target\": 5}, {\"source\": 3, \"value\": 1, \"target\": 6}, {\"source\": 4, \"value\": 1, \"target\": 5}, {\"source\": 6, \"value\": 1, \"target\": 7}, {\"source\": 6, \"value\": 1, \"target\": 8}, {\"source\": 6, \"value\": 1, \"target\": 9}, {\"source\": 7, \"value\": 1, \"target\": 9}, {\"source\": 7, \"value\": 1, \"target\": 12}, {\"source\": 7, \"value\": 1, \"target\": 13}, {\"source\": 8, \"value\": 1, \"target\": 9}, {\"source\": 8, \"value\": 1, \"target\": 10}, {\"source\": 9, \"value\": 1, \"target\": 10}, {\"source\": 9, \"value\": 1, \"target\": 11}, {\"source\": 10, \"value\": 1, \"target\": 11}, {\"source\": 10, \"value\": 1, \"target\": 12}, {\"source\": 11, \"value\": 1, \"target\": 12}, {\"source\": 12, \"value\": 1, \"target\": 24}, {\"source\": 13, \"value\": 1, \"target\": 15}, {\"source\": 13, \"value\": 1, \"target\": 17}, {\"source\": 13, \"value\": 1, \"target\": 14}, {\"source\": 14, \"value\": 1, \"target\": 15}, {\"source\": 15, \"value\": 1, \"target\": 16}, {\"source\": 15, \"value\": 1, \"target\": 17}, {\"source\": 15, \"value\": 1, \"target\": 18}, {\"source\": 15, \"value\": 1, \"target\": 19}, {\"source\": 15, \"value\": 1, \"target\": 20}, {\"source\": 17, \"value\": 1, \"target\": 20}, {\"source\": 18, \"value\": 1, \"target\": 19}, {\"source\": 18, \"value\": 1, \"target\": 20}, {\"source\": 19, \"value\": 1, \"target\": 20}, {\"source\": 20, \"value\": 1, \"target\": 21}, {\"source\": 21, \"value\": 1, \"target\": 23}, {\"source\": 21, \"value\": 1, \"target\": 24}, {\"source\": 21, \"value\": 1, \"target\": 22}, {\"source\": 22, \"value\": 1, \"target\": 23}, {\"source\": 22, \"value\": 1, \"target\": 24}]},\n",
       "        'width': 350,\n",
       "        'height': 350,\n",
       "        'linkdistance': 30\n",
       "    }\n",
       "\n",
       "    if (window.d3 === undefined) {\n",
       "        console.log('Loading D3 from CDN');\n",
       "        $.getScript('https://cdnjs.cloudflare.com/ajax/libs/d3/3.5.7/d3.js')\n",
       "            .done(function() {\n",
       "                plot_force(options);\n",
       "            });\n",
       "    } else {\n",
       "        plot_force(options);\n",
       "    }\n",
       "\n",
       "    function plot_force(o) {\n",
       "        var color = d3.scale.category20();\n",
       "\n",
       "        var svg = d3.select(o.divid).append(\"svg\")\n",
       "            .attr(\"width\", o.width)\n",
       "            .attr(\"height\", o.height);\n",
       "\n",
       "        var force = d3.layout.force()\n",
       "            .charge(-120)\n",
       "            .linkDistance(o.linkdistance)\n",
       "            .size([o.width, o.height])\n",
       "            .nodes(o.data.nodes)\n",
       "            .links(o.data.links)\n",
       "            .start();\n",
       "\n",
       "        var link = svg.selectAll(\".link\")\n",
       "                .data(o.data.links)\n",
       "            .enter().append(\"line\")\n",
       "                .attr(\"class\", \"link\")\n",
       "                .style(\"stroke-width\", function(d) { return Math.sqrt(d.value); });\n",
       "\n",
       "        var node = svg.selectAll(\".node\")\n",
       "                .data(o.data.nodes)\n",
       "            .enter().append(\"g\")\n",
       "                .attr(\"class\", \"node\")\n",
       "                .call(force.drag)\n",
       "\n",
       "        node.append(\"circle\")\n",
       "            .attr(\"r\", 5)\n",
       "            .style(\"fill\", function(d) { return color(d.group); });\n",
       "\n",
       "        /*node.append(\"title\")\n",
       "            .text(function(d) { return d.name; });*/\n",
       "\n",
       "        \n",
       "\n",
       "        force.on(\"tick\", function() {\n",
       "            link.attr(\"x1\", function(d) { return d.source.x; })\n",
       "                .attr(\"y1\", function(d) { return d.source.y; })\n",
       "                .attr(\"x2\", function(d) { return d.target.x; })\n",
       "                .attr(\"y2\", function(d) { return d.target.y; });\n",
       "\n",
       "            node.attr(\"transform\", function(d) { return \"translate(\" + d.x + \",\" + d.y + \")\"; });\n",
       "        });\n",
       "    }\n",
       "}();\n",
       "</script>\n",
       "<div id=\"x59e18fd78153407fbf9d59d3f102ed13\">\n",
       "</div>"
      ],
      "text/plain": [
       "<IPython.core.display.HTML object>"
      ]
     },
     "execution_count": 7,
     "metadata": {},
     "output_type": "execute_result"
    }
   ],
   "source": [
    "d3shims.nx_force(G, size=(350, 350))"
   ]
  },
  {
   "cell_type": "markdown",
   "metadata": {},
   "source": [
    "$$\\Large L(\\mathrm M) = q_\\curvearrowleft H(\\mathcal{Q}) + \\sum^m_{i=1}{p_{i\\circlearrowright} H\\left(\\mathcal{P}_i\\right)}$$\n",
    "\n",
    "### Index Codebook Usage Rate: $q_\\curvearrowleft$\n"
   ]
  },
  {
   "cell_type": "code",
   "execution_count": null,
   "metadata": {
    "collapsed": true
   },
   "outputs": [],
   "source": [
    "def index_usage_rate(G):\n",
    "    pass\n",
    "\n",
    "def c"
   ]
  },
  {
   "cell_type": "code",
   "execution_count": 10,
   "metadata": {
    "collapsed": true
   },
   "outputs": [],
   "source": [
    "import math"
   ]
  },
  {
   "cell_type": "code",
   "execution_count": 23,
   "metadata": {
    "collapsed": false
   },
   "outputs": [],
   "source": [
    "def plnp(p, base=2):\n",
    "    return p * math.log(p, base)"
   ]
  },
  {
   "cell_type": "code",
   "execution_count": 39,
   "metadata": {
    "collapsed": false
   },
   "outputs": [
    {
     "data": {
      "text/plain": [
       "8.0"
      ]
     },
     "execution_count": 39,
     "metadata": {},
     "output_type": "execute_result"
    }
   ],
   "source": [
    "plnp(4)"
   ]
  },
  {
   "cell_type": "code",
   "execution_count": null,
   "metadata": {
    "collapsed": true
   },
   "outputs": [],
   "source": [
    "def relative_"
   ]
  }
 ],
 "metadata": {
  "kernelspec": {
   "display_name": "Python 3",
   "language": "python",
   "name": "python3"
  },
  "language_info": {
   "codemirror_mode": {
    "name": "ipython",
    "version": 3
   },
   "file_extension": ".py",
   "mimetype": "text/x-python",
   "name": "python",
   "nbconvert_exporter": "python",
   "pygments_lexer": "ipython3",
   "version": "3.5.1"
  }
 },
 "nbformat": 4,
 "nbformat_minor": 0
}
